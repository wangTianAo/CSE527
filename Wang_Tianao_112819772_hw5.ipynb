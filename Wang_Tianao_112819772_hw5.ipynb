{
  "nbformat": 4,
  "nbformat_minor": 0,
  "metadata": {
    "accelerator": "GPU",
    "anaconda-cloud": {},
    "colab": {
      "name": "Wang_Tianao_112819772_hw5.ipynb",
      "provenance": [],
      "collapsed_sections": []
    },
    "kernelspec": {
      "display_name": "Python 3",
      "language": "python",
      "name": "python3"
    },
    "language_info": {
      "codemirror_mode": {
        "name": "ipython",
        "version": 3
      },
      "file_extension": ".py",
      "mimetype": "text/x-python",
      "name": "python",
      "nbconvert_exporter": "python",
      "pygments_lexer": "ipython3",
      "version": "3.6.9"
    }
  },
  "cells": [
    {
      "cell_type": "markdown",
      "metadata": {
        "colab_type": "text",
        "id": "AcamCuuyjYb2"
      },
      "source": [
        "# Action Recognition @ UCF101  \n",
        "**Due date: 11:59 pm on Nov. 19, 2019 (Tuesday)**\n",
        "\n",
        "## Description\n",
        "---\n",
        "In this homework, you will be doing action recognition using Recurrent Neural Network (RNN), (Long-Short Term Memory) LSTM in particular. You will be given a dataset called UCF101, which consists of 101 different actions/classes and for each action, there will be 145 samples. We tagged each sample into either training or testing. Each sample is supposed to be a short video, but we sampled 25 frames from each videos to reduce the amount of data. Consequently, a training sample is an image tuple that forms a 3D volume with one dimension encoding *temporal correlation* between frames and a label indicating what action it is.\n",
        "\n",
        "To tackle this problem, we aim to build a neural network that can not only capture spatial information of each frame but also temporal information between frames. Fortunately, you don't have to do this on your own. RNN — a type of neural network designed to deal with time-series data — is right here for you to use. In particular, you will be using LSTM for this task.\n",
        "\n",
        "Instead of training an end-to-end neural network from scratch whose computation is prohibitively expensive, we divide this into two steps: feature extraction and modelling. Below are the things you need to implement for this homework:\n",
        "- **{35 pts} Feature extraction**. Use any of the [pre-trained models](https://pytorch.org/docs/stable/torchvision/models.html) to extract features from each frame. Specifically, we recommend not to use the activations of the last layer as the features tend to be task specific towards the end of the network. \n",
        "    **hints**: \n",
        "    - A good starting point would be to use a pre-trained VGG16 network, we suggest first fully connected layer `torchvision.models.vgg16` (4096 dim) as features of each video frame. This will result into a 4096x25 matrix for each video. \n",
        "    - Normalize your images using `torchvision.transforms` \n",
        "    ```\n",
        "    normalize = transforms.Normalize(mean=[0.485, 0.456, 0.406], std=[0.229, 0.224, 0.225])\n",
        "    prep = transforms.Compose([ transforms.ToTensor(), normalize ])\n",
        "    prep(img)\n",
        "    The mean and std. mentioned above is specific to Imagenet data\n",
        "    \n",
        "    ```\n",
        "    More details of image preprocessing in PyTorch can be found at http://pytorch.org/tutorials/beginner/data_loading_tutorial.html\n",
        "    \n",
        "- **{35 pts} Modelling**. With the extracted features, build an LSTM network which takes a **dx25** sample as input (where **d** is the dimension of the extracted feature for each frame), and outputs the action label of that sample.\n",
        "- **{20 pts} Evaluation**. After training your network, you need to evaluate your model with the testing data by computing the prediction accuracy **(5 points)**. The baseline test accuracy for this data is 75%, and **10 points** out of 20 is for achieving test accuracy greater than the baseline. Moreover, you need to compare **(5 points)** the result of your network with that of support vector machine (SVM) (stacking the **dx25** feature matrix to a long vector and train a SVM).\n",
        "- **{10 pts} Report**. Details regarding the report can be found in the submission section below.\n",
        "\n",
        "Notice that the size of the raw images is 256x340, whereas your pre-trained model might take **nxn** images as inputs. To solve this problem, instead of resizing the images which unfavorably changes the spatial ratio, we take a better solution: Cropping five **nxn** images, one at the image center and four at the corners and compute the **d**-dim features for each of them, and average these five **d**-dim feature to get a final feature representation for the raw image.\n",
        "For example, VGG takes 224x224 images as inputs, so we take the five 224x224 croppings of the image, compute 4096-dim VGG features for each of them, and then take the mean of these five 4096-dim vectors to be the representation of the image.\n",
        "\n",
        "In order to save you computational time, you need to do the classification task only for **the first 25** classes of the whole dataset. The same applies to those who have access to GPUs. **Bonus 10 points for running and reporting on the entire 101 classes.**\n",
        "\n",
        "\n",
        "## Dataset\n",
        "Download **dataset** at [UCF101](http://vision.cs.stonybrook.edu/~yangwang/public/UCF101_images.tar)(Image data for each video) and the **annos folder** which has the video labels and the label to class name mapping is included in the assignment folder uploaded. \n",
        "\n",
        "\n",
        "UCF101 dataset contains 101 actions and 13,320 videos in total.  \n",
        "\n",
        "+ `annos/actions.txt`  \n",
        "  + lists all the actions (`ApplyEyeMakeup`, .., `YoYo`)   \n",
        "  \n",
        "+ `annots/videos_labels_subsets.txt`  \n",
        "  + lists all the videos (`v_000001`, .., `v_013320`)  \n",
        "  + labels (`1`, .., `101`)  \n",
        "  + subsets (`1` for train, `2` for test)  \n",
        "\n",
        "+ `images/`  \n",
        "  + each folder represents a video\n",
        "  + the video/folder name to class mapping can be found using `annots/videos_labels_subsets.txt`, for e.g. `v_000001` belongs to class 1 i.e. `ApplyEyeMakeup`\n",
        "  + each video folder contains 25 frames  \n",
        "\n",
        "\n",
        "\n",
        "## Some Tutorials\n",
        "- Good materials for understanding RNN and LSTM\n",
        "    - http://blog.echen.me\n",
        "    - http://karpathy.github.io/2015/05/21/rnn-effectiveness/\n",
        "    - http://colah.github.io/posts/2015-08-Understanding-LSTMs/\n",
        "- Implementing RNN and LSTM with PyTorch\n",
        "    - [LSTM with PyTorch](http://pytorch.org/tutorials/beginner/nlp/sequence_models_tutorial.html#sphx-glr-beginner-nlp-sequence-models-tutorial-py)\n",
        "    - [RNN with PyTorch](http://pytorch.org/tutorials/intermediate/char_rnn_classification_tutorial.html)"
      ]
    },
    {
      "cell_type": "markdown",
      "metadata": {
        "colab_type": "text",
        "id": "UdCRwkL7jxtc"
      },
      "source": [
        "---\n",
        "---\n",
        "## **Problem 1.** Feature extraction"
      ]
    },
    {
      "cell_type": "code",
      "metadata": {
        "id": "cvKikeNFmcO5",
        "colab_type": "code",
        "outputId": "a1b56723-5f97-4571-fa87-718ae2668908",
        "colab": {
          "base_uri": "https://localhost:8080/",
          "height": 121
        }
      },
      "source": [
        "# Mount your google drive where you've saved your assignment folder\n",
        "from google.colab import drive\n",
        "drive.mount('/content/gdrive')"
      ],
      "execution_count": 2,
      "outputs": [
        {
          "output_type": "stream",
          "text": [
            "Go to this URL in a browser: https://accounts.google.com/o/oauth2/auth?client_id=947318989803-6bn6qk8qdgf4n4g3pfee6491hc0brc4i.apps.googleusercontent.com&redirect_uri=urn%3aietf%3awg%3aoauth%3a2.0%3aoob&response_type=code&scope=email%20https%3a%2f%2fwww.googleapis.com%2fauth%2fdocs.test%20https%3a%2f%2fwww.googleapis.com%2fauth%2fdrive%20https%3a%2f%2fwww.googleapis.com%2fauth%2fdrive.photos.readonly%20https%3a%2f%2fwww.googleapis.com%2fauth%2fpeopleapi.readonly\n",
            "\n",
            "Enter your authorization code:\n",
            "··········\n",
            "Mounted at /content/gdrive\n"
          ],
          "name": "stdout"
        }
      ]
    },
    {
      "cell_type": "code",
      "metadata": {
        "id": "5INI3D8dmdVx",
        "colab_type": "code",
        "outputId": "067855ff-606d-40b5-9671-89df680f55c9",
        "colab": {
          "base_uri": "https://localhost:8080/",
          "height": 34
        }
      },
      "source": [
        "# Set your working directory (in your google drive)\n",
        "# Note that 'gdrive/My Drive/Y2019Fall/CSE-527-Intro-To-Computer-Vision/hw4' is just an example, \n",
        "#   change it to your specific homework directory.\n",
        "cd '/content/gdrive/My Drive/CV/Wang_Tianao_112819772_hw5'"
      ],
      "execution_count": 3,
      "outputs": [
        {
          "output_type": "stream",
          "text": [
            "/content/gdrive/My Drive/CV/Wang_Tianao_112819772_hw5\n"
          ],
          "name": "stdout"
        }
      ]
    },
    {
      "cell_type": "code",
      "metadata": {
        "id": "K6K-MBa4mqZR",
        "colab_type": "code",
        "colab": {}
      },
      "source": [
        "#extract images\n",
        "import tarfile\n",
        "tar = tarfile.open(\"UCF101_images.tar\", \"r:\")\n",
        "tar.extractall(path=\"/content/gdrive/My Drive/CV/Wang_Tianao_112819772_hw5/images\")\n",
        "tar.close()"
      ],
      "execution_count": 0,
      "outputs": []
    },
    {
      "cell_type": "code",
      "metadata": {
        "colab_type": "code",
        "id": "urKQi8oAjYb-",
        "colab": {}
      },
      "source": [
        "# \\*write your codes for feature extraction (You can use multiple cells, this is just a place holder)\n",
        "import torch\n",
        "import torch.nn as nn\n",
        "import torch.nn.functional as F\n",
        "import torch.optim as optim\n",
        "import torchvision\n",
        "import torchvision.transforms as transforms\n",
        "\n",
        "import numpy as np\n",
        "import scipy as sp\n",
        "import cv2\n",
        "from scipy.io import savemat\n",
        "import os"
      ],
      "execution_count": 0,
      "outputs": []
    },
    {
      "cell_type": "code",
      "metadata": {
        "id": "EtTzUL-Y7xKd",
        "colab_type": "code",
        "colab": {
          "base_uri": "https://localhost:8080/",
          "height": 689
        },
        "outputId": "341ae4a6-3558-4dbf-b9ab-e1dfc88629d1"
      },
      "source": [
        "vgg16 = torchvision.models.vgg16(pretrained=True)\n",
        "del vgg16.classifier[2:]\n",
        "normalize = transforms.Normalize(mean=[0.485, 0.456, 0.406], std=[0.229, 0.224, 0.225])\n",
        "prep = transforms.Compose([ transforms.ToTensor(), normalize ])\n",
        "print(vgg16)"
      ],
      "execution_count": 6,
      "outputs": [
        {
          "output_type": "stream",
          "text": [
            "VGG(\n",
            "  (features): Sequential(\n",
            "    (0): Conv2d(3, 64, kernel_size=(3, 3), stride=(1, 1), padding=(1, 1))\n",
            "    (1): ReLU(inplace=True)\n",
            "    (2): Conv2d(64, 64, kernel_size=(3, 3), stride=(1, 1), padding=(1, 1))\n",
            "    (3): ReLU(inplace=True)\n",
            "    (4): MaxPool2d(kernel_size=2, stride=2, padding=0, dilation=1, ceil_mode=False)\n",
            "    (5): Conv2d(64, 128, kernel_size=(3, 3), stride=(1, 1), padding=(1, 1))\n",
            "    (6): ReLU(inplace=True)\n",
            "    (7): Conv2d(128, 128, kernel_size=(3, 3), stride=(1, 1), padding=(1, 1))\n",
            "    (8): ReLU(inplace=True)\n",
            "    (9): MaxPool2d(kernel_size=2, stride=2, padding=0, dilation=1, ceil_mode=False)\n",
            "    (10): Conv2d(128, 256, kernel_size=(3, 3), stride=(1, 1), padding=(1, 1))\n",
            "    (11): ReLU(inplace=True)\n",
            "    (12): Conv2d(256, 256, kernel_size=(3, 3), stride=(1, 1), padding=(1, 1))\n",
            "    (13): ReLU(inplace=True)\n",
            "    (14): Conv2d(256, 256, kernel_size=(3, 3), stride=(1, 1), padding=(1, 1))\n",
            "    (15): ReLU(inplace=True)\n",
            "    (16): MaxPool2d(kernel_size=2, stride=2, padding=0, dilation=1, ceil_mode=False)\n",
            "    (17): Conv2d(256, 512, kernel_size=(3, 3), stride=(1, 1), padding=(1, 1))\n",
            "    (18): ReLU(inplace=True)\n",
            "    (19): Conv2d(512, 512, kernel_size=(3, 3), stride=(1, 1), padding=(1, 1))\n",
            "    (20): ReLU(inplace=True)\n",
            "    (21): Conv2d(512, 512, kernel_size=(3, 3), stride=(1, 1), padding=(1, 1))\n",
            "    (22): ReLU(inplace=True)\n",
            "    (23): MaxPool2d(kernel_size=2, stride=2, padding=0, dilation=1, ceil_mode=False)\n",
            "    (24): Conv2d(512, 512, kernel_size=(3, 3), stride=(1, 1), padding=(1, 1))\n",
            "    (25): ReLU(inplace=True)\n",
            "    (26): Conv2d(512, 512, kernel_size=(3, 3), stride=(1, 1), padding=(1, 1))\n",
            "    (27): ReLU(inplace=True)\n",
            "    (28): Conv2d(512, 512, kernel_size=(3, 3), stride=(1, 1), padding=(1, 1))\n",
            "    (29): ReLU(inplace=True)\n",
            "    (30): MaxPool2d(kernel_size=2, stride=2, padding=0, dilation=1, ceil_mode=False)\n",
            "  )\n",
            "  (avgpool): AdaptiveAvgPool2d(output_size=(7, 7))\n",
            "  (classifier): Sequential(\n",
            "    (0): Linear(in_features=25088, out_features=4096, bias=True)\n",
            "    (1): ReLU(inplace=True)\n",
            "  )\n",
            ")\n"
          ],
          "name": "stdout"
        }
      ]
    },
    {
      "cell_type": "code",
      "metadata": {
        "id": "5c_1841I8IwH",
        "colab_type": "code",
        "outputId": "ffec80c1-cc5c-4f65-ed71-672b3312b742",
        "colab": {
          "base_uri": "https://localhost:8080/",
          "height": 154
        }
      },
      "source": [
        "#read data\n",
        "f1 = open(\"./annos/actions.txt\",\"r\")\n",
        "f2 = open(\"./annos/videos_labels_subsets.txt\",\"r\")\n",
        "classNumber = 25\n",
        "class_names = []\n",
        "line = f1.readline()\n",
        "while line:\n",
        "    num = list(line.split())\n",
        "    class_names.append(num[1])\n",
        "    line = f1.readline()\n",
        "f1.close()\n",
        "print(class_names)\n",
        "\n",
        "dir_names = []\n",
        "vedio_class_names = []\n",
        "trainDir = []\n",
        "trainLabel = []\n",
        "testDir = []\n",
        "testLabel = []\n",
        "line = f2.readline()\n",
        "while line:\n",
        "    num = list(line.split())\n",
        "    if (int(num[1]) <= classNumber):\n",
        "      dir_names.append(num[0])\n",
        "      vedio_class_names.append(num[1])\n",
        "\n",
        "      if (num[2] == \"1\"):\n",
        "        trainDir.append(num[0])\n",
        "        trainLabel.append(num[1])\n",
        "      else:\n",
        "        testDir.append(num[0])\n",
        "        testLabel.append(num[1])\n",
        "    line = f2.readline()\n",
        "f2.close()\n",
        "print(dir_names)\n",
        "print(vedio_class_names)\n",
        "print(trainDir)\n",
        "print(trainLabel)\n",
        "print(testDir)\n",
        "print(testLabel)"
      ],
      "execution_count": 8,
      "outputs": [
        {
          "output_type": "stream",
          "text": [
            "['ApplyEyeMakeup', 'ApplyLipstick', 'Archery', 'BabyCrawling', 'BalanceBeam', 'BandMarching', 'BaseballPitch', 'Basketball', 'BasketballDunk', 'BenchPress', 'Biking', 'Billiards', 'BlowDryHair', 'BlowingCandles', 'BodyWeightSquats', 'Bowling', 'BoxingPunchingBag', 'BoxingSpeedBag', 'BreastStroke', 'BrushingTeeth', 'CleanAndJerk', 'CliffDiving', 'CricketBowling', 'CricketShot', 'CuttingInKitchen', 'Diving', 'Drumming', 'Fencing', 'FieldHockeyPenalty', 'FloorGymnastics', 'FrisbeeCatch', 'FrontCrawl', 'GolfSwing', 'Haircut', 'Hammering', 'HammerThrow', 'HandstandPushups', 'HandstandWalking', 'HeadMassage', 'HighJump', 'HorseRace', 'HorseRiding', 'HulaHoop', 'IceDancing', 'JavelinThrow', 'JugglingBalls', 'JumpingJack', 'JumpRope', 'Kayaking', 'Knitting', 'LongJump', 'Lunges', 'MilitaryParade', 'Mixing', 'MoppingFloor', 'Nunchucks', 'ParallelBars', 'PizzaTossing', 'PlayingCello', 'PlayingDaf', 'PlayingDhol', 'PlayingFlute', 'PlayingGuitar', 'PlayingPiano', 'PlayingSitar', 'PlayingTabla', 'PlayingViolin', 'PoleVault', 'PommelHorse', 'PullUps', 'Punch', 'PushUps', 'Rafting', 'RockClimbingIndoor', 'RopeClimbing', 'Rowing', 'SalsaSpin', 'ShavingBeard', 'Shotput', 'SkateBoarding', 'Skiing', 'Skijet', 'SkyDiving', 'SoccerJuggling', 'SoccerPenalty', 'StillRings', 'SumoWrestling', 'Surfing', 'Swing', 'TableTennisShot', 'TaiChi', 'TennisSwing', 'ThrowDiscus', 'TrampolineJumping', 'Typing', 'UnevenBars', 'VolleyballSpiking', 'WalkingWithDog', 'WallPushups', 'WritingOnBoard', 'YoYo']\n",
            "['v_000001', 'v_000002', 'v_000003', 'v_000004', 'v_000005', 'v_000006', 'v_000007', 'v_000008', 'v_000009', 'v_000010', 'v_000011', 'v_000012', 'v_000013', 'v_000014', 'v_000015', 'v_000016', 'v_000017', 'v_000018', 'v_000019', 'v_000020', 'v_000021', 'v_000022', 'v_000023', 'v_000024', 'v_000025', 'v_000026', 'v_000027', 'v_000028', 'v_000029', 'v_000030', 'v_000031', 'v_000032', 'v_000033', 'v_000034', 'v_000035', 'v_000036', 'v_000037', 'v_000038', 'v_000039', 'v_000040', 'v_000041', 'v_000042', 'v_000043', 'v_000044', 'v_000045', 'v_000046', 'v_000047', 'v_000048', 'v_000049', 'v_000050', 'v_000051', 'v_000052', 'v_000053', 'v_000054', 'v_000055', 'v_000056', 'v_000057', 'v_000058', 'v_000059', 'v_000060', 'v_000061', 'v_000062', 'v_000063', 'v_000064', 'v_000065', 'v_000066', 'v_000067', 'v_000068', 'v_000069', 'v_000070', 'v_000071', 'v_000072', 'v_000073', 'v_000074', 'v_000075', 'v_000076', 'v_000077', 'v_000078', 'v_000079', 'v_000080', 'v_000081', 'v_000082', 'v_000083', 'v_000084', 'v_000085', 'v_000086', 'v_000087', 'v_000088', 'v_000089', 'v_000090', 'v_000091', 'v_000092', 'v_000093', 'v_000094', 'v_000095', 'v_000096', 'v_000097', 'v_000098', 'v_000099', 'v_000100', 'v_000101', 'v_000102', 'v_000103', 'v_000104', 'v_000105', 'v_000106', 'v_000107', 'v_000108', 'v_000109', 'v_000110', 'v_000111', 'v_000112', 'v_000113', 'v_000114', 'v_000115', 'v_000116', 'v_000117', 'v_000118', 'v_000119', 'v_000120', 'v_000121', 'v_000122', 'v_000123', 'v_000124', 'v_000125', 'v_000126', 'v_000127', 'v_000128', 'v_000129', 'v_000130', 'v_000131', 'v_000132', 'v_000133', 'v_000134', 'v_000135', 'v_000136', 'v_000137', 'v_000138', 'v_000139', 'v_000140', 'v_000141', 'v_000142', 'v_000143', 'v_000144', 'v_000145', 'v_000146', 'v_000147', 'v_000148', 'v_000149', 'v_000150', 'v_000151', 'v_000152', 'v_000153', 'v_000154', 'v_000155', 'v_000156', 'v_000157', 'v_000158', 'v_000159', 'v_000160', 'v_000161', 'v_000162', 'v_000163', 'v_000164', 'v_000165', 'v_000166', 'v_000167', 'v_000168', 'v_000169', 'v_000170', 'v_000171', 'v_000172', 'v_000173', 'v_000174', 'v_000175', 'v_000176', 'v_000177', 'v_000178', 'v_000179', 'v_000180', 'v_000181', 'v_000182', 'v_000183', 'v_000184', 'v_000185', 'v_000186', 'v_000187', 'v_000188', 'v_000189', 'v_000190', 'v_000191', 'v_000192', 'v_000193', 'v_000194', 'v_000195', 'v_000196', 'v_000197', 'v_000198', 'v_000199', 'v_000200', 'v_000201', 'v_000202', 'v_000203', 'v_000204', 'v_000205', 'v_000206', 'v_000207', 'v_000208', 'v_000209', 'v_000210', 'v_000211', 'v_000212', 'v_000213', 'v_000214', 'v_000215', 'v_000216', 'v_000217', 'v_000218', 'v_000219', 'v_000220', 'v_000221', 'v_000222', 'v_000223', 'v_000224', 'v_000225', 'v_000226', 'v_000227', 'v_000228', 'v_000229', 'v_000230', 'v_000231', 'v_000232', 'v_000233', 'v_000234', 'v_000235', 'v_000236', 'v_000237', 'v_000238', 'v_000239', 'v_000240', 'v_000241', 'v_000242', 'v_000243', 'v_000244', 'v_000245', 'v_000246', 'v_000247', 'v_000248', 'v_000249', 'v_000250', 'v_000251', 'v_000252', 'v_000253', 'v_000254', 'v_000255', 'v_000256', 'v_000257', 'v_000258', 'v_000259', 'v_000260', 'v_000261', 'v_000262', 'v_000263', 'v_000264', 'v_000265', 'v_000266', 'v_000267', 'v_000268', 'v_000269', 'v_000270', 'v_000271', 'v_000272', 'v_000273', 'v_000274', 'v_000275', 'v_000276', 'v_000277', 'v_000278', 'v_000279', 'v_000280', 'v_000281', 'v_000282', 'v_000283', 'v_000284', 'v_000285', 'v_000286', 'v_000287', 'v_000288', 'v_000289', 'v_000290', 'v_000291', 'v_000292', 'v_000293', 'v_000294', 'v_000295', 'v_000296', 'v_000297', 'v_000298', 'v_000299', 'v_000300', 'v_000301', 'v_000302', 'v_000303', 'v_000304', 'v_000305', 'v_000306', 'v_000307', 'v_000308', 'v_000309', 'v_000310', 'v_000311', 'v_000312', 'v_000313', 'v_000314', 'v_000315', 'v_000316', 'v_000317', 'v_000318', 'v_000319', 'v_000320', 'v_000321', 'v_000322', 'v_000323', 'v_000324', 'v_000325', 'v_000326', 'v_000327', 'v_000328', 'v_000329', 'v_000330', 'v_000331', 'v_000332', 'v_000333', 'v_000334', 'v_000335', 'v_000336', 'v_000337', 'v_000338', 'v_000339', 'v_000340', 'v_000341', 'v_000342', 'v_000343', 'v_000344', 'v_000345', 'v_000346', 'v_000347', 'v_000348', 'v_000349', 'v_000350', 'v_000351', 'v_000352', 'v_000353', 'v_000354', 'v_000355', 'v_000356', 'v_000357', 'v_000358', 'v_000359', 'v_000360', 'v_000361', 'v_000362', 'v_000363', 'v_000364', 'v_000365', 'v_000366', 'v_000367', 'v_000368', 'v_000369', 'v_000370', 'v_000371', 'v_000372', 'v_000373', 'v_000374', 'v_000375', 'v_000376', 'v_000377', 'v_000378', 'v_000379', 'v_000380', 'v_000381', 'v_000382', 'v_000383', 'v_000384', 'v_000385', 'v_000386', 'v_000387', 'v_000388', 'v_000389', 'v_000390', 'v_000391', 'v_000392', 'v_000393', 'v_000394', 'v_000395', 'v_000396', 'v_000397', 'v_000398', 'v_000399', 'v_000400', 'v_000401', 'v_000402', 'v_000403', 'v_000404', 'v_000405', 'v_000406', 'v_000407', 'v_000408', 'v_000409', 'v_000410', 'v_000411', 'v_000412', 'v_000413', 'v_000414', 'v_000415', 'v_000416', 'v_000417', 'v_000418', 'v_000419', 'v_000420', 'v_000421', 'v_000422', 'v_000423', 'v_000424', 'v_000425', 'v_000426', 'v_000427', 'v_000428', 'v_000429', 'v_000430', 'v_000431', 'v_000432', 'v_000433', 'v_000434', 'v_000435', 'v_000436', 'v_000437', 'v_000438', 'v_000439', 'v_000440', 'v_000441', 'v_000442', 'v_000443', 'v_000444', 'v_000445', 'v_000446', 'v_000447', 'v_000448', 'v_000449', 'v_000450', 'v_000451', 'v_000452', 'v_000453', 'v_000454', 'v_000455', 'v_000456', 'v_000457', 'v_000458', 'v_000459', 'v_000460', 'v_000461', 'v_000462', 'v_000463', 'v_000464', 'v_000465', 'v_000466', 'v_000467', 'v_000468', 'v_000469', 'v_000470', 'v_000471', 'v_000472', 'v_000473', 'v_000474', 'v_000475', 'v_000476', 'v_000477', 'v_000478', 'v_000479', 'v_000480', 'v_000481', 'v_000482', 'v_000483', 'v_000484', 'v_000485', 'v_000486', 'v_000487', 'v_000488', 'v_000489', 'v_000490', 'v_000491', 'v_000492', 'v_000493', 'v_000494', 'v_000495', 'v_000496', 'v_000497', 'v_000498', 'v_000499', 'v_000500', 'v_000501', 'v_000502', 'v_000503', 'v_000504', 'v_000505', 'v_000506', 'v_000507', 'v_000508', 'v_000509', 'v_000510', 'v_000511', 'v_000512', 'v_000513', 'v_000514', 'v_000515', 'v_000516', 'v_000517', 'v_000518', 'v_000519', 'v_000520', 'v_000521', 'v_000522', 'v_000523', 'v_000524', 'v_000525', 'v_000526', 'v_000527', 'v_000528', 'v_000529', 'v_000530', 'v_000531', 'v_000532', 'v_000533', 'v_000534', 'v_000535', 'v_000536', 'v_000537', 'v_000538', 'v_000539', 'v_000540', 'v_000541', 'v_000542', 'v_000543', 'v_000544', 'v_000545', 'v_000546', 'v_000547', 'v_000548', 'v_000549', 'v_000550', 'v_000551', 'v_000552', 'v_000553', 'v_000554', 'v_000555', 'v_000556', 'v_000557', 'v_000558', 'v_000559', 'v_000560', 'v_000561', 'v_000562', 'v_000563', 'v_000564', 'v_000565', 'v_000566', 'v_000567', 'v_000568', 'v_000569', 'v_000570', 'v_000571', 'v_000572', 'v_000573', 'v_000574', 'v_000575', 'v_000576', 'v_000577', 'v_000578', 'v_000579', 'v_000580', 'v_000581', 'v_000582', 'v_000583', 'v_000584', 'v_000585', 'v_000586', 'v_000587', 'v_000588', 'v_000589', 'v_000590', 'v_000591', 'v_000592', 'v_000593', 'v_000594', 'v_000595', 'v_000596', 'v_000597', 'v_000598', 'v_000599', 'v_000600', 'v_000601', 'v_000602', 'v_000603', 'v_000604', 'v_000605', 'v_000606', 'v_000607', 'v_000608', 'v_000609', 'v_000610', 'v_000611', 'v_000612', 'v_000613', 'v_000614', 'v_000615', 'v_000616', 'v_000617', 'v_000618', 'v_000619', 'v_000620', 'v_000621', 'v_000622', 'v_000623', 'v_000624', 'v_000625', 'v_000626', 'v_000627', 'v_000628', 'v_000629', 'v_000630', 'v_000631', 'v_000632', 'v_000633', 'v_000634', 'v_000635', 'v_000636', 'v_000637', 'v_000638', 'v_000639', 'v_000640', 'v_000641', 'v_000642', 'v_000643', 'v_000644', 'v_000645', 'v_000646', 'v_000647', 'v_000648', 'v_000649', 'v_000650', 'v_000651', 'v_000652', 'v_000653', 'v_000654', 'v_000655', 'v_000656', 'v_000657', 'v_000658', 'v_000659', 'v_000660', 'v_000661', 'v_000662', 'v_000663', 'v_000664', 'v_000665', 'v_000666', 'v_000667', 'v_000668', 'v_000669', 'v_000670', 'v_000671', 'v_000672', 'v_000673', 'v_000674', 'v_000675', 'v_000676', 'v_000677', 'v_000678', 'v_000679', 'v_000680', 'v_000681', 'v_000682', 'v_000683', 'v_000684', 'v_000685', 'v_000686', 'v_000687', 'v_000688', 'v_000689', 'v_000690', 'v_000691', 'v_000692', 'v_000693', 'v_000694', 'v_000695', 'v_000696', 'v_000697', 'v_000698', 'v_000699', 'v_000700', 'v_000701', 'v_000702', 'v_000703', 'v_000704', 'v_000705', 'v_000706', 'v_000707', 'v_000708', 'v_000709', 'v_000710', 'v_000711', 'v_000712', 'v_000713', 'v_000714', 'v_000715', 'v_000716', 'v_000717', 'v_000718', 'v_000719', 'v_000720', 'v_000721', 'v_000722', 'v_000723', 'v_000724', 'v_000725', 'v_000726', 'v_000727', 'v_000728', 'v_000729', 'v_000730', 'v_000731', 'v_000732', 'v_000733', 'v_000734', 'v_000735', 'v_000736', 'v_000737', 'v_000738', 'v_000739', 'v_000740', 'v_000741', 'v_000742', 'v_000743', 'v_000744', 'v_000745', 'v_000746', 'v_000747', 'v_000748', 'v_000749', 'v_000750', 'v_000751', 'v_000752', 'v_000753', 'v_000754', 'v_000755', 'v_000756', 'v_000757', 'v_000758', 'v_000759', 'v_000760', 'v_000761', 'v_000762', 'v_000763', 'v_000764', 'v_000765', 'v_000766', 'v_000767', 'v_000768', 'v_000769', 'v_000770', 'v_000771', 'v_000772', 'v_000773', 'v_000774', 'v_000775', 'v_000776', 'v_000777', 'v_000778', 'v_000779', 'v_000780', 'v_000781', 'v_000782', 'v_000783', 'v_000784', 'v_000785', 'v_000786', 'v_000787', 'v_000788', 'v_000789', 'v_000790', 'v_000791', 'v_000792', 'v_000793', 'v_000794', 'v_000795', 'v_000796', 'v_000797', 'v_000798', 'v_000799', 'v_000800', 'v_000801', 'v_000802', 'v_000803', 'v_000804', 'v_000805', 'v_000806', 'v_000807', 'v_000808', 'v_000809', 'v_000810', 'v_000811', 'v_000812', 'v_000813', 'v_000814', 'v_000815', 'v_000816', 'v_000817', 'v_000818', 'v_000819', 'v_000820', 'v_000821', 'v_000822', 'v_000823', 'v_000824', 'v_000825', 'v_000826', 'v_000827', 'v_000828', 'v_000829', 'v_000830', 'v_000831', 'v_000832', 'v_000833', 'v_000834', 'v_000835', 'v_000836', 'v_000837', 'v_000838', 'v_000839', 'v_000840', 'v_000841', 'v_000842', 'v_000843', 'v_000844', 'v_000845', 'v_000846', 'v_000847', 'v_000848', 'v_000849', 'v_000850', 'v_000851', 'v_000852', 'v_000853', 'v_000854', 'v_000855', 'v_000856', 'v_000857', 'v_000858', 'v_000859', 'v_000860', 'v_000861', 'v_000862', 'v_000863', 'v_000864', 'v_000865', 'v_000866', 'v_000867', 'v_000868', 'v_000869', 'v_000870', 'v_000871', 'v_000872', 'v_000873', 'v_000874', 'v_000875', 'v_000876', 'v_000877', 'v_000878', 'v_000879', 'v_000880', 'v_000881', 'v_000882', 'v_000883', 'v_000884', 'v_000885', 'v_000886', 'v_000887', 'v_000888', 'v_000889', 'v_000890', 'v_000891', 'v_000892', 'v_000893', 'v_000894', 'v_000895', 'v_000896', 'v_000897', 'v_000898', 'v_000899', 'v_000900', 'v_000901', 'v_000902', 'v_000903', 'v_000904', 'v_000905', 'v_000906', 'v_000907', 'v_000908', 'v_000909', 'v_000910', 'v_000911', 'v_000912', 'v_000913', 'v_000914', 'v_000915', 'v_000916', 'v_000917', 'v_000918', 'v_000919', 'v_000920', 'v_000921', 'v_000922', 'v_000923', 'v_000924', 'v_000925', 'v_000926', 'v_000927', 'v_000928', 'v_000929', 'v_000930', 'v_000931', 'v_000932', 'v_000933', 'v_000934', 'v_000935', 'v_000936', 'v_000937', 'v_000938', 'v_000939', 'v_000940', 'v_000941', 'v_000942', 'v_000943', 'v_000944', 'v_000945', 'v_000946', 'v_000947', 'v_000948', 'v_000949', 'v_000950', 'v_000951', 'v_000952', 'v_000953', 'v_000954', 'v_000955', 'v_000956', 'v_000957', 'v_000958', 'v_000959', 'v_000960', 'v_000961', 'v_000962', 'v_000963', 'v_000964', 'v_000965', 'v_000966', 'v_000967', 'v_000968', 'v_000969', 'v_000970', 'v_000971', 'v_000972', 'v_000973', 'v_000974', 'v_000975', 'v_000976', 'v_000977', 'v_000978', 'v_000979', 'v_000980', 'v_000981', 'v_000982', 'v_000983', 'v_000984', 'v_000985', 'v_000986', 'v_000987', 'v_000988', 'v_000989', 'v_000990', 'v_000991', 'v_000992', 'v_000993', 'v_000994', 'v_000995', 'v_000996', 'v_000997', 'v_000998', 'v_000999', 'v_001000', 'v_001001', 'v_001002', 'v_001003', 'v_001004', 'v_001005', 'v_001006', 'v_001007', 'v_001008', 'v_001009', 'v_001010', 'v_001011', 'v_001012', 'v_001013', 'v_001014', 'v_001015', 'v_001016', 'v_001017', 'v_001018', 'v_001019', 'v_001020', 'v_001021', 'v_001022', 'v_001023', 'v_001024', 'v_001025', 'v_001026', 'v_001027', 'v_001028', 'v_001029', 'v_001030', 'v_001031', 'v_001032', 'v_001033', 'v_001034', 'v_001035', 'v_001036', 'v_001037', 'v_001038', 'v_001039', 'v_001040', 'v_001041', 'v_001042', 'v_001043', 'v_001044', 'v_001045', 'v_001046', 'v_001047', 'v_001048', 'v_001049', 'v_001050', 'v_001051', 'v_001052', 'v_001053', 'v_001054', 'v_001055', 'v_001056', 'v_001057', 'v_001058', 'v_001059', 'v_001060', 'v_001061', 'v_001062', 'v_001063', 'v_001064', 'v_001065', 'v_001066', 'v_001067', 'v_001068', 'v_001069', 'v_001070', 'v_001071', 'v_001072', 'v_001073', 'v_001074', 'v_001075', 'v_001076', 'v_001077', 'v_001078', 'v_001079', 'v_001080', 'v_001081', 'v_001082', 'v_001083', 'v_001084', 'v_001085', 'v_001086', 'v_001087', 'v_001088', 'v_001089', 'v_001090', 'v_001091', 'v_001092', 'v_001093', 'v_001094', 'v_001095', 'v_001096', 'v_001097', 'v_001098', 'v_001099', 'v_001100', 'v_001101', 'v_001102', 'v_001103', 'v_001104', 'v_001105', 'v_001106', 'v_001107', 'v_001108', 'v_001109', 'v_001110', 'v_001111', 'v_001112', 'v_001113', 'v_001114', 'v_001115', 'v_001116', 'v_001117', 'v_001118', 'v_001119', 'v_001120', 'v_001121', 'v_001122', 'v_001123', 'v_001124', 'v_001125', 'v_001126', 'v_001127', 'v_001128', 'v_001129', 'v_001130', 'v_001131', 'v_001132', 'v_001133', 'v_001134', 'v_001135', 'v_001136', 'v_001137', 'v_001138', 'v_001139', 'v_001140', 'v_001141', 'v_001142', 'v_001143', 'v_001144', 'v_001145', 'v_001146', 'v_001147', 'v_001148', 'v_001149', 'v_001150', 'v_001151', 'v_001152', 'v_001153', 'v_001154', 'v_001155', 'v_001156', 'v_001157', 'v_001158', 'v_001159', 'v_001160', 'v_001161', 'v_001162', 'v_001163', 'v_001164', 'v_001165', 'v_001166', 'v_001167', 'v_001168', 'v_001169', 'v_001170', 'v_001171', 'v_001172', 'v_001173', 'v_001174', 'v_001175', 'v_001176', 'v_001177', 'v_001178', 'v_001179', 'v_001180', 'v_001181', 'v_001182', 'v_001183', 'v_001184', 'v_001185', 'v_001186', 'v_001187', 'v_001188', 'v_001189', 'v_001190', 'v_001191', 'v_001192', 'v_001193', 'v_001194', 'v_001195', 'v_001196', 'v_001197', 'v_001198', 'v_001199', 'v_001200', 'v_001201', 'v_001202', 'v_001203', 'v_001204', 'v_001205', 'v_001206', 'v_001207', 'v_001208', 'v_001209', 'v_001210', 'v_001211', 'v_001212', 'v_001213', 'v_001214', 'v_001215', 'v_001216', 'v_001217', 'v_001218', 'v_001219', 'v_001220', 'v_001221', 'v_001222', 'v_001223', 'v_001224', 'v_001225', 'v_001226', 'v_001227', 'v_001228', 'v_001229', 'v_001230', 'v_001231', 'v_001232', 'v_001233', 'v_001234', 'v_001235', 'v_001236', 'v_001237', 'v_001238', 'v_001239', 'v_001240', 'v_001241', 'v_001242', 'v_001243', 'v_001244', 'v_001245', 'v_001246', 'v_001247', 'v_001248', 'v_001249', 'v_001250', 'v_001251', 'v_001252', 'v_001253', 'v_001254', 'v_001255', 'v_001256', 'v_001257', 'v_001258', 'v_001259', 'v_001260', 'v_001261', 'v_001262', 'v_001263', 'v_001264', 'v_001265', 'v_001266', 'v_001267', 'v_001268', 'v_001269', 'v_001270', 'v_001271', 'v_001272', 'v_001273', 'v_001274', 'v_001275', 'v_001276', 'v_001277', 'v_001278', 'v_001279', 'v_001280', 'v_001281', 'v_001282', 'v_001283', 'v_001284', 'v_001285', 'v_001286', 'v_001287', 'v_001288', 'v_001289', 'v_001290', 'v_001291', 'v_001292', 'v_001293', 'v_001294', 'v_001295', 'v_001296', 'v_001297', 'v_001298', 'v_001299', 'v_001300', 'v_001301', 'v_001302', 'v_001303', 'v_001304', 'v_001305', 'v_001306', 'v_001307', 'v_001308', 'v_001309', 'v_001310', 'v_001311', 'v_001312', 'v_001313', 'v_001314', 'v_001315', 'v_001316', 'v_001317', 'v_001318', 'v_001319', 'v_001320', 'v_001321', 'v_001322', 'v_001323', 'v_001324', 'v_001325', 'v_001326', 'v_001327', 'v_001328', 'v_001329', 'v_001330', 'v_001331', 'v_001332', 'v_001333', 'v_001334', 'v_001335', 'v_001336', 'v_001337', 'v_001338', 'v_001339', 'v_001340', 'v_001341', 'v_001342', 'v_001343', 'v_001344', 'v_001345', 'v_001346', 'v_001347', 'v_001348', 'v_001349', 'v_001350', 'v_001351', 'v_001352', 'v_001353', 'v_001354', 'v_001355', 'v_001356', 'v_001357', 'v_001358', 'v_001359', 'v_001360', 'v_001361', 'v_001362', 'v_001363', 'v_001364', 'v_001365', 'v_001366', 'v_001367', 'v_001368', 'v_001369', 'v_001370', 'v_001371', 'v_001372', 'v_001373', 'v_001374', 'v_001375', 'v_001376', 'v_001377', 'v_001378', 'v_001379', 'v_001380', 'v_001381', 'v_001382', 'v_001383', 'v_001384', 'v_001385', 'v_001386', 'v_001387', 'v_001388', 'v_001389', 'v_001390', 'v_001391', 'v_001392', 'v_001393', 'v_001394', 'v_001395', 'v_001396', 'v_001397', 'v_001398', 'v_001399', 'v_001400', 'v_001401', 'v_001402', 'v_001403', 'v_001404', 'v_001405', 'v_001406', 'v_001407', 'v_001408', 'v_001409', 'v_001410', 'v_001411', 'v_001412', 'v_001413', 'v_001414', 'v_001415', 'v_001416', 'v_001417', 'v_001418', 'v_001419', 'v_001420', 'v_001421', 'v_001422', 'v_001423', 'v_001424', 'v_001425', 'v_001426', 'v_001427', 'v_001428', 'v_001429', 'v_001430', 'v_001431', 'v_001432', 'v_001433', 'v_001434', 'v_001435', 'v_001436', 'v_001437', 'v_001438', 'v_001439', 'v_001440', 'v_001441', 'v_001442', 'v_001443', 'v_001444', 'v_001445', 'v_001446', 'v_001447', 'v_001448', 'v_001449', 'v_001450', 'v_001451', 'v_001452', 'v_001453', 'v_001454', 'v_001455', 'v_001456', 'v_001457', 'v_001458', 'v_001459', 'v_001460', 'v_001461', 'v_001462', 'v_001463', 'v_001464', 'v_001465', 'v_001466', 'v_001467', 'v_001468', 'v_001469', 'v_001470', 'v_001471', 'v_001472', 'v_001473', 'v_001474', 'v_001475', 'v_001476', 'v_001477', 'v_001478', 'v_001479', 'v_001480', 'v_001481', 'v_001482', 'v_001483', 'v_001484', 'v_001485', 'v_001486', 'v_001487', 'v_001488', 'v_001489', 'v_001490', 'v_001491', 'v_001492', 'v_001493', 'v_001494', 'v_001495', 'v_001496', 'v_001497', 'v_001498', 'v_001499', 'v_001500', 'v_001501', 'v_001502', 'v_001503', 'v_001504', 'v_001505', 'v_001506', 'v_001507', 'v_001508', 'v_001509', 'v_001510', 'v_001511', 'v_001512', 'v_001513', 'v_001514', 'v_001515', 'v_001516', 'v_001517', 'v_001518', 'v_001519', 'v_001520', 'v_001521', 'v_001522', 'v_001523', 'v_001524', 'v_001525', 'v_001526', 'v_001527', 'v_001528', 'v_001529', 'v_001530', 'v_001531', 'v_001532', 'v_001533', 'v_001534', 'v_001535', 'v_001536', 'v_001537', 'v_001538', 'v_001539', 'v_001540', 'v_001541', 'v_001542', 'v_001543', 'v_001544', 'v_001545', 'v_001546', 'v_001547', 'v_001548', 'v_001549', 'v_001550', 'v_001551', 'v_001552', 'v_001553', 'v_001554', 'v_001555', 'v_001556', 'v_001557', 'v_001558', 'v_001559', 'v_001560', 'v_001561', 'v_001562', 'v_001563', 'v_001564', 'v_001565', 'v_001566', 'v_001567', 'v_001568', 'v_001569', 'v_001570', 'v_001571', 'v_001572', 'v_001573', 'v_001574', 'v_001575', 'v_001576', 'v_001577', 'v_001578', 'v_001579', 'v_001580', 'v_001581', 'v_001582', 'v_001583', 'v_001584', 'v_001585', 'v_001586', 'v_001587', 'v_001588', 'v_001589', 'v_001590', 'v_001591', 'v_001592', 'v_001593', 'v_001594', 'v_001595', 'v_001596', 'v_001597', 'v_001598', 'v_001599', 'v_001600', 'v_001601', 'v_001602', 'v_001603', 'v_001604', 'v_001605', 'v_001606', 'v_001607', 'v_001608', 'v_001609', 'v_001610', 'v_001611', 'v_001612', 'v_001613', 'v_001614', 'v_001615', 'v_001616', 'v_001617', 'v_001618', 'v_001619', 'v_001620', 'v_001621', 'v_001622', 'v_001623', 'v_001624', 'v_001625', 'v_001626', 'v_001627', 'v_001628', 'v_001629', 'v_001630', 'v_001631', 'v_001632', 'v_001633', 'v_001634', 'v_001635', 'v_001636', 'v_001637', 'v_001638', 'v_001639', 'v_001640', 'v_001641', 'v_001642', 'v_001643', 'v_001644', 'v_001645', 'v_001646', 'v_001647', 'v_001648', 'v_001649', 'v_001650', 'v_001651', 'v_001652', 'v_001653', 'v_001654', 'v_001655', 'v_001656', 'v_001657', 'v_001658', 'v_001659', 'v_001660', 'v_001661', 'v_001662', 'v_001663', 'v_001664', 'v_001665', 'v_001666', 'v_001667', 'v_001668', 'v_001669', 'v_001670', 'v_001671', 'v_001672', 'v_001673', 'v_001674', 'v_001675', 'v_001676', 'v_001677', 'v_001678', 'v_001679', 'v_001680', 'v_001681', 'v_001682', 'v_001683', 'v_001684', 'v_001685', 'v_001686', 'v_001687', 'v_001688', 'v_001689', 'v_001690', 'v_001691', 'v_001692', 'v_001693', 'v_001694', 'v_001695', 'v_001696', 'v_001697', 'v_001698', 'v_001699', 'v_001700', 'v_001701', 'v_001702', 'v_001703', 'v_001704', 'v_001705', 'v_001706', 'v_001707', 'v_001708', 'v_001709', 'v_001710', 'v_001711', 'v_001712', 'v_001713', 'v_001714', 'v_001715', 'v_001716', 'v_001717', 'v_001718', 'v_001719', 'v_001720', 'v_001721', 'v_001722', 'v_001723', 'v_001724', 'v_001725', 'v_001726', 'v_001727', 'v_001728', 'v_001729', 'v_001730', 'v_001731', 'v_001732', 'v_001733', 'v_001734', 'v_001735', 'v_001736', 'v_001737', 'v_001738', 'v_001739', 'v_001740', 'v_001741', 'v_001742', 'v_001743', 'v_001744', 'v_001745', 'v_001746', 'v_001747', 'v_001748', 'v_001749', 'v_001750', 'v_001751', 'v_001752', 'v_001753', 'v_001754', 'v_001755', 'v_001756', 'v_001757', 'v_001758', 'v_001759', 'v_001760', 'v_001761', 'v_001762', 'v_001763', 'v_001764', 'v_001765', 'v_001766', 'v_001767', 'v_001768', 'v_001769', 'v_001770', 'v_001771', 'v_001772', 'v_001773', 'v_001774', 'v_001775', 'v_001776', 'v_001777', 'v_001778', 'v_001779', 'v_001780', 'v_001781', 'v_001782', 'v_001783', 'v_001784', 'v_001785', 'v_001786', 'v_001787', 'v_001788', 'v_001789', 'v_001790', 'v_001791', 'v_001792', 'v_001793', 'v_001794', 'v_001795', 'v_001796', 'v_001797', 'v_001798', 'v_001799', 'v_001800', 'v_001801', 'v_001802', 'v_001803', 'v_001804', 'v_001805', 'v_001806', 'v_001807', 'v_001808', 'v_001809', 'v_001810', 'v_001811', 'v_001812', 'v_001813', 'v_001814', 'v_001815', 'v_001816', 'v_001817', 'v_001818', 'v_001819', 'v_001820', 'v_001821', 'v_001822', 'v_001823', 'v_001824', 'v_001825', 'v_001826', 'v_001827', 'v_001828', 'v_001829', 'v_001830', 'v_001831', 'v_001832', 'v_001833', 'v_001834', 'v_001835', 'v_001836', 'v_001837', 'v_001838', 'v_001839', 'v_001840', 'v_001841', 'v_001842', 'v_001843', 'v_001844', 'v_001845', 'v_001846', 'v_001847', 'v_001848', 'v_001849', 'v_001850', 'v_001851', 'v_001852', 'v_001853', 'v_001854', 'v_001855', 'v_001856', 'v_001857', 'v_001858', 'v_001859', 'v_001860', 'v_001861', 'v_001862', 'v_001863', 'v_001864', 'v_001865', 'v_001866', 'v_001867', 'v_001868', 'v_001869', 'v_001870', 'v_001871', 'v_001872', 'v_001873', 'v_001874', 'v_001875', 'v_001876', 'v_001877', 'v_001878', 'v_001879', 'v_001880', 'v_001881', 'v_001882', 'v_001883', 'v_001884', 'v_001885', 'v_001886', 'v_001887', 'v_001888', 'v_001889', 'v_001890', 'v_001891', 'v_001892', 'v_001893', 'v_001894', 'v_001895', 'v_001896', 'v_001897', 'v_001898', 'v_001899', 'v_001900', 'v_001901', 'v_001902', 'v_001903', 'v_001904', 'v_001905', 'v_001906', 'v_001907', 'v_001908', 'v_001909', 'v_001910', 'v_001911', 'v_001912', 'v_001913', 'v_001914', 'v_001915', 'v_001916', 'v_001917', 'v_001918', 'v_001919', 'v_001920', 'v_001921', 'v_001922', 'v_001923', 'v_001924', 'v_001925', 'v_001926', 'v_001927', 'v_001928', 'v_001929', 'v_001930', 'v_001931', 'v_001932', 'v_001933', 'v_001934', 'v_001935', 'v_001936', 'v_001937', 'v_001938', 'v_001939', 'v_001940', 'v_001941', 'v_001942', 'v_001943', 'v_001944', 'v_001945', 'v_001946', 'v_001947', 'v_001948', 'v_001949', 'v_001950', 'v_001951', 'v_001952', 'v_001953', 'v_001954', 'v_001955', 'v_001956', 'v_001957', 'v_001958', 'v_001959', 'v_001960', 'v_001961', 'v_001962', 'v_001963', 'v_001964', 'v_001965', 'v_001966', 'v_001967', 'v_001968', 'v_001969', 'v_001970', 'v_001971', 'v_001972', 'v_001973', 'v_001974', 'v_001975', 'v_001976', 'v_001977', 'v_001978', 'v_001979', 'v_001980', 'v_001981', 'v_001982', 'v_001983', 'v_001984', 'v_001985', 'v_001986', 'v_001987', 'v_001988', 'v_001989', 'v_001990', 'v_001991', 'v_001992', 'v_001993', 'v_001994', 'v_001995', 'v_001996', 'v_001997', 'v_001998', 'v_001999', 'v_002000', 'v_002001', 'v_002002', 'v_002003', 'v_002004', 'v_002005', 'v_002006', 'v_002007', 'v_002008', 'v_002009', 'v_002010', 'v_002011', 'v_002012', 'v_002013', 'v_002014', 'v_002015', 'v_002016', 'v_002017', 'v_002018', 'v_002019', 'v_002020', 'v_002021', 'v_002022', 'v_002023', 'v_002024', 'v_002025', 'v_002026', 'v_002027', 'v_002028', 'v_002029', 'v_002030', 'v_002031', 'v_002032', 'v_002033', 'v_002034', 'v_002035', 'v_002036', 'v_002037', 'v_002038', 'v_002039', 'v_002040', 'v_002041', 'v_002042', 'v_002043', 'v_002044', 'v_002045', 'v_002046', 'v_002047', 'v_002048', 'v_002049', 'v_002050', 'v_002051', 'v_002052', 'v_002053', 'v_002054', 'v_002055', 'v_002056', 'v_002057', 'v_002058', 'v_002059', 'v_002060', 'v_002061', 'v_002062', 'v_002063', 'v_002064', 'v_002065', 'v_002066', 'v_002067', 'v_002068', 'v_002069', 'v_002070', 'v_002071', 'v_002072', 'v_002073', 'v_002074', 'v_002075', 'v_002076', 'v_002077', 'v_002078', 'v_002079', 'v_002080', 'v_002081', 'v_002082', 'v_002083', 'v_002084', 'v_002085', 'v_002086', 'v_002087', 'v_002088', 'v_002089', 'v_002090', 'v_002091', 'v_002092', 'v_002093', 'v_002094', 'v_002095', 'v_002096', 'v_002097', 'v_002098', 'v_002099', 'v_002100', 'v_002101', 'v_002102', 'v_002103', 'v_002104', 'v_002105', 'v_002106', 'v_002107', 'v_002108', 'v_002109', 'v_002110', 'v_002111', 'v_002112', 'v_002113', 'v_002114', 'v_002115', 'v_002116', 'v_002117', 'v_002118', 'v_002119', 'v_002120', 'v_002121', 'v_002122', 'v_002123', 'v_002124', 'v_002125', 'v_002126', 'v_002127', 'v_002128', 'v_002129', 'v_002130', 'v_002131', 'v_002132', 'v_002133', 'v_002134', 'v_002135', 'v_002136', 'v_002137', 'v_002138', 'v_002139', 'v_002140', 'v_002141', 'v_002142', 'v_002143', 'v_002144', 'v_002145', 'v_002146', 'v_002147', 'v_002148', 'v_002149', 'v_002150', 'v_002151', 'v_002152', 'v_002153', 'v_002154', 'v_002155', 'v_002156', 'v_002157', 'v_002158', 'v_002159', 'v_002160', 'v_002161', 'v_002162', 'v_002163', 'v_002164', 'v_002165', 'v_002166', 'v_002167', 'v_002168', 'v_002169', 'v_002170', 'v_002171', 'v_002172', 'v_002173', 'v_002174', 'v_002175', 'v_002176', 'v_002177', 'v_002178', 'v_002179', 'v_002180', 'v_002181', 'v_002182', 'v_002183', 'v_002184', 'v_002185', 'v_002186', 'v_002187', 'v_002188', 'v_002189', 'v_002190', 'v_002191', 'v_002192', 'v_002193', 'v_002194', 'v_002195', 'v_002196', 'v_002197', 'v_002198', 'v_002199', 'v_002200', 'v_002201', 'v_002202', 'v_002203', 'v_002204', 'v_002205', 'v_002206', 'v_002207', 'v_002208', 'v_002209', 'v_002210', 'v_002211', 'v_002212', 'v_002213', 'v_002214', 'v_002215', 'v_002216', 'v_002217', 'v_002218', 'v_002219', 'v_002220', 'v_002221', 'v_002222', 'v_002223', 'v_002224', 'v_002225', 'v_002226', 'v_002227', 'v_002228', 'v_002229', 'v_002230', 'v_002231', 'v_002232', 'v_002233', 'v_002234', 'v_002235', 'v_002236', 'v_002237', 'v_002238', 'v_002239', 'v_002240', 'v_002241', 'v_002242', 'v_002243', 'v_002244', 'v_002245', 'v_002246', 'v_002247', 'v_002248', 'v_002249', 'v_002250', 'v_002251', 'v_002252', 'v_002253', 'v_002254', 'v_002255', 'v_002256', 'v_002257', 'v_002258', 'v_002259', 'v_002260', 'v_002261', 'v_002262', 'v_002263', 'v_002264', 'v_002265', 'v_002266', 'v_002267', 'v_002268', 'v_002269', 'v_002270', 'v_002271', 'v_002272', 'v_002273', 'v_002274', 'v_002275', 'v_002276', 'v_002277', 'v_002278', 'v_002279', 'v_002280', 'v_002281', 'v_002282', 'v_002283', 'v_002284', 'v_002285', 'v_002286', 'v_002287', 'v_002288', 'v_002289', 'v_002290', 'v_002291', 'v_002292', 'v_002293', 'v_002294', 'v_002295', 'v_002296', 'v_002297', 'v_002298', 'v_002299', 'v_002300', 'v_002301', 'v_002302', 'v_002303', 'v_002304', 'v_002305', 'v_002306', 'v_002307', 'v_002308', 'v_002309', 'v_002310', 'v_002311', 'v_002312', 'v_002313', 'v_002314', 'v_002315', 'v_002316', 'v_002317', 'v_002318', 'v_002319', 'v_002320', 'v_002321', 'v_002322', 'v_002323', 'v_002324', 'v_002325', 'v_002326', 'v_002327', 'v_002328', 'v_002329', 'v_002330', 'v_002331', 'v_002332', 'v_002333', 'v_002334', 'v_002335', 'v_002336', 'v_002337', 'v_002338', 'v_002339', 'v_002340', 'v_002341', 'v_002342', 'v_002343', 'v_002344', 'v_002345', 'v_002346', 'v_002347', 'v_002348', 'v_002349', 'v_002350', 'v_002351', 'v_002352', 'v_002353', 'v_002354', 'v_002355', 'v_002356', 'v_002357', 'v_002358', 'v_002359', 'v_002360', 'v_002361', 'v_002362', 'v_002363', 'v_002364', 'v_002365', 'v_002366', 'v_002367', 'v_002368', 'v_002369', 'v_002370', 'v_002371', 'v_002372', 'v_002373', 'v_002374', 'v_002375', 'v_002376', 'v_002377', 'v_002378', 'v_002379', 'v_002380', 'v_002381', 'v_002382', 'v_002383', 'v_002384', 'v_002385', 'v_002386', 'v_002387', 'v_002388', 'v_002389', 'v_002390', 'v_002391', 'v_002392', 'v_002393', 'v_002394', 'v_002395', 'v_002396', 'v_002397', 'v_002398', 'v_002399', 'v_002400', 'v_002401', 'v_002402', 'v_002403', 'v_002404', 'v_002405', 'v_002406', 'v_002407', 'v_002408', 'v_002409', 'v_002410', 'v_002411', 'v_002412', 'v_002413', 'v_002414', 'v_002415', 'v_002416', 'v_002417', 'v_002418', 'v_002419', 'v_002420', 'v_002421', 'v_002422', 'v_002423', 'v_002424', 'v_002425', 'v_002426', 'v_002427', 'v_002428', 'v_002429', 'v_002430', 'v_002431', 'v_002432', 'v_002433', 'v_002434', 'v_002435', 'v_002436', 'v_002437', 'v_002438', 'v_002439', 'v_002440', 'v_002441', 'v_002442', 'v_002443', 'v_002444', 'v_002445', 'v_002446', 'v_002447', 'v_002448', 'v_002449', 'v_002450', 'v_002451', 'v_002452', 'v_002453', 'v_002454', 'v_002455', 'v_002456', 'v_002457', 'v_002458', 'v_002459', 'v_002460', 'v_002461', 'v_002462', 'v_002463', 'v_002464', 'v_002465', 'v_002466', 'v_002467', 'v_002468', 'v_002469', 'v_002470', 'v_002471', 'v_002472', 'v_002473', 'v_002474', 'v_002475', 'v_002476', 'v_002477', 'v_002478', 'v_002479', 'v_002480', 'v_002481', 'v_002482', 'v_002483', 'v_002484', 'v_002485', 'v_002486', 'v_002487', 'v_002488', 'v_002489', 'v_002490', 'v_002491', 'v_002492', 'v_002493', 'v_002494', 'v_002495', 'v_002496', 'v_002497', 'v_002498', 'v_002499', 'v_002500', 'v_002501', 'v_002502', 'v_002503', 'v_002504', 'v_002505', 'v_002506', 'v_002507', 'v_002508', 'v_002509', 'v_002510', 'v_002511', 'v_002512', 'v_002513', 'v_002514', 'v_002515', 'v_002516', 'v_002517', 'v_002518', 'v_002519', 'v_002520', 'v_002521', 'v_002522', 'v_002523', 'v_002524', 'v_002525', 'v_002526', 'v_002527', 'v_002528', 'v_002529', 'v_002530', 'v_002531', 'v_002532', 'v_002533', 'v_002534', 'v_002535', 'v_002536', 'v_002537', 'v_002538', 'v_002539', 'v_002540', 'v_002541', 'v_002542', 'v_002543', 'v_002544', 'v_002545', 'v_002546', 'v_002547', 'v_002548', 'v_002549', 'v_002550', 'v_002551', 'v_002552', 'v_002553', 'v_002554', 'v_002555', 'v_002556', 'v_002557', 'v_002558', 'v_002559', 'v_002560', 'v_002561', 'v_002562', 'v_002563', 'v_002564', 'v_002565', 'v_002566', 'v_002567', 'v_002568', 'v_002569', 'v_002570', 'v_002571', 'v_002572', 'v_002573', 'v_002574', 'v_002575', 'v_002576', 'v_002577', 'v_002578', 'v_002579', 'v_002580', 'v_002581', 'v_002582', 'v_002583', 'v_002584', 'v_002585', 'v_002586', 'v_002587', 'v_002588', 'v_002589', 'v_002590', 'v_002591', 'v_002592', 'v_002593', 'v_002594', 'v_002595', 'v_002596', 'v_002597', 'v_002598', 'v_002599', 'v_002600', 'v_002601', 'v_002602', 'v_002603', 'v_002604', 'v_002605', 'v_002606', 'v_002607', 'v_002608', 'v_002609', 'v_002610', 'v_002611', 'v_002612', 'v_002613', 'v_002614', 'v_002615', 'v_002616', 'v_002617', 'v_002618', 'v_002619', 'v_002620', 'v_002621', 'v_002622', 'v_002623', 'v_002624', 'v_002625', 'v_002626', 'v_002627', 'v_002628', 'v_002629', 'v_002630', 'v_002631', 'v_002632', 'v_002633', 'v_002634', 'v_002635', 'v_002636', 'v_002637', 'v_002638', 'v_002639', 'v_002640', 'v_002641', 'v_002642', 'v_002643', 'v_002644', 'v_002645', 'v_002646', 'v_002647', 'v_002648', 'v_002649', 'v_002650', 'v_002651', 'v_002652', 'v_002653', 'v_002654', 'v_002655', 'v_002656', 'v_002657', 'v_002658', 'v_002659', 'v_002660', 'v_002661', 'v_002662', 'v_002663', 'v_002664', 'v_002665', 'v_002666', 'v_002667', 'v_002668', 'v_002669', 'v_002670', 'v_002671', 'v_002672', 'v_002673', 'v_002674', 'v_002675', 'v_002676', 'v_002677', 'v_002678', 'v_002679', 'v_002680', 'v_002681', 'v_002682', 'v_002683', 'v_002684', 'v_002685', 'v_002686', 'v_002687', 'v_002688', 'v_002689', 'v_002690', 'v_002691', 'v_002692', 'v_002693', 'v_002694', 'v_002695', 'v_002696', 'v_002697', 'v_002698', 'v_002699', 'v_002700', 'v_002701', 'v_002702', 'v_002703', 'v_002704', 'v_002705', 'v_002706', 'v_002707', 'v_002708', 'v_002709', 'v_002710', 'v_002711', 'v_002712', 'v_002713', 'v_002714', 'v_002715', 'v_002716', 'v_002717', 'v_002718', 'v_002719', 'v_002720', 'v_002721', 'v_002722', 'v_002723', 'v_002724', 'v_002725', 'v_002726', 'v_002727', 'v_002728', 'v_002729', 'v_002730', 'v_002731', 'v_002732', 'v_002733', 'v_002734', 'v_002735', 'v_002736', 'v_002737', 'v_002738', 'v_002739', 'v_002740', 'v_002741', 'v_002742', 'v_002743', 'v_002744', 'v_002745', 'v_002746', 'v_002747', 'v_002748', 'v_002749', 'v_002750', 'v_002751', 'v_002752', 'v_002753', 'v_002754', 'v_002755', 'v_002756', 'v_002757', 'v_002758', 'v_002759', 'v_002760', 'v_002761', 'v_002762', 'v_002763', 'v_002764', 'v_002765', 'v_002766', 'v_002767', 'v_002768', 'v_002769', 'v_002770', 'v_002771', 'v_002772', 'v_002773', 'v_002774', 'v_002775', 'v_002776', 'v_002777', 'v_002778', 'v_002779', 'v_002780', 'v_002781', 'v_002782', 'v_002783', 'v_002784', 'v_002785', 'v_002786', 'v_002787', 'v_002788', 'v_002789', 'v_002790', 'v_002791', 'v_002792', 'v_002793', 'v_002794', 'v_002795', 'v_002796', 'v_002797', 'v_002798', 'v_002799', 'v_002800', 'v_002801', 'v_002802', 'v_002803', 'v_002804', 'v_002805', 'v_002806', 'v_002807', 'v_002808', 'v_002809', 'v_002810', 'v_002811', 'v_002812', 'v_002813', 'v_002814', 'v_002815', 'v_002816', 'v_002817', 'v_002818', 'v_002819', 'v_002820', 'v_002821', 'v_002822', 'v_002823', 'v_002824', 'v_002825', 'v_002826', 'v_002827', 'v_002828', 'v_002829', 'v_002830', 'v_002831', 'v_002832', 'v_002833', 'v_002834', 'v_002835', 'v_002836', 'v_002837', 'v_002838', 'v_002839', 'v_002840', 'v_002841', 'v_002842', 'v_002843', 'v_002844', 'v_002845', 'v_002846', 'v_002847', 'v_002848', 'v_002849', 'v_002850', 'v_002851', 'v_002852', 'v_002853', 'v_002854', 'v_002855', 'v_002856', 'v_002857', 'v_002858', 'v_002859', 'v_002860', 'v_002861', 'v_002862', 'v_002863', 'v_002864', 'v_002865', 'v_002866', 'v_002867', 'v_002868', 'v_002869', 'v_002870', 'v_002871', 'v_002872', 'v_002873', 'v_002874', 'v_002875', 'v_002876', 'v_002877', 'v_002878', 'v_002879', 'v_002880', 'v_002881', 'v_002882', 'v_002883', 'v_002884', 'v_002885', 'v_002886', 'v_002887', 'v_002888', 'v_002889', 'v_002890', 'v_002891', 'v_002892', 'v_002893', 'v_002894', 'v_002895', 'v_002896', 'v_002897', 'v_002898', 'v_002899', 'v_002900', 'v_002901', 'v_002902', 'v_002903', 'v_002904', 'v_002905', 'v_002906', 'v_002907', 'v_002908', 'v_002909', 'v_002910', 'v_002911', 'v_002912', 'v_002913', 'v_002914', 'v_002915', 'v_002916', 'v_002917', 'v_002918', 'v_002919', 'v_002920', 'v_002921', 'v_002922', 'v_002923', 'v_002924', 'v_002925', 'v_002926', 'v_002927', 'v_002928', 'v_002929', 'v_002930', 'v_002931', 'v_002932', 'v_002933', 'v_002934', 'v_002935', 'v_002936', 'v_002937', 'v_002938', 'v_002939', 'v_002940', 'v_002941', 'v_002942', 'v_002943', 'v_002944', 'v_002945', 'v_002946', 'v_002947', 'v_002948', 'v_002949', 'v_002950', 'v_002951', 'v_002952', 'v_002953', 'v_002954', 'v_002955', 'v_002956', 'v_002957', 'v_002958', 'v_002959', 'v_002960', 'v_002961', 'v_002962', 'v_002963', 'v_002964', 'v_002965', 'v_002966', 'v_002967', 'v_002968', 'v_002969', 'v_002970', 'v_002971', 'v_002972', 'v_002973', 'v_002974', 'v_002975', 'v_002976', 'v_002977', 'v_002978', 'v_002979', 'v_002980', 'v_002981', 'v_002982', 'v_002983', 'v_002984', 'v_002985', 'v_002986', 'v_002987', 'v_002988', 'v_002989', 'v_002990', 'v_002991', 'v_002992', 'v_002993', 'v_002994', 'v_002995', 'v_002996', 'v_002997', 'v_002998', 'v_002999', 'v_003000', 'v_003001', 'v_003002', 'v_003003', 'v_003004', 'v_003005', 'v_003006', 'v_003007', 'v_003008', 'v_003009', 'v_003010', 'v_003011', 'v_003012', 'v_003013', 'v_003014', 'v_003015', 'v_003016', 'v_003017', 'v_003018', 'v_003019', 'v_003020', 'v_003021', 'v_003022', 'v_003023', 'v_003024', 'v_003025', 'v_003026', 'v_003027', 'v_003028', 'v_003029', 'v_003030', 'v_003031', 'v_003032', 'v_003033', 'v_003034', 'v_003035', 'v_003036', 'v_003037', 'v_003038', 'v_003039', 'v_003040', 'v_003041', 'v_003042', 'v_003043', 'v_003044', 'v_003045', 'v_003046', 'v_003047', 'v_003048', 'v_003049', 'v_003050', 'v_003051', 'v_003052', 'v_003053', 'v_003054', 'v_003055', 'v_003056', 'v_003057', 'v_003058', 'v_003059', 'v_003060', 'v_003061', 'v_003062', 'v_003063', 'v_003064', 'v_003065', 'v_003066', 'v_003067', 'v_003068', 'v_003069', 'v_003070', 'v_003071', 'v_003072', 'v_003073', 'v_003074', 'v_003075', 'v_003076', 'v_003077', 'v_003078', 'v_003079', 'v_003080', 'v_003081', 'v_003082', 'v_003083', 'v_003084', 'v_003085', 'v_003086', 'v_003087', 'v_003088', 'v_003089', 'v_003090', 'v_003091', 'v_003092', 'v_003093', 'v_003094', 'v_003095', 'v_003096', 'v_003097', 'v_003098', 'v_003099', 'v_003100', 'v_003101', 'v_003102', 'v_003103', 'v_003104', 'v_003105', 'v_003106', 'v_003107', 'v_003108', 'v_003109', 'v_003110', 'v_003111', 'v_003112', 'v_003113', 'v_003114', 'v_003115', 'v_003116', 'v_003117', 'v_003118', 'v_003119', 'v_003120', 'v_003121', 'v_003122', 'v_003123', 'v_003124', 'v_003125', 'v_003126', 'v_003127', 'v_003128', 'v_003129', 'v_003130', 'v_003131', 'v_003132', 'v_003133', 'v_003134', 'v_003135', 'v_003136', 'v_003137', 'v_003138', 'v_003139', 'v_003140', 'v_003141', 'v_003142', 'v_003143', 'v_003144', 'v_003145', 'v_003146', 'v_003147', 'v_003148', 'v_003149', 'v_003150', 'v_003151', 'v_003152', 'v_003153', 'v_003154', 'v_003155', 'v_003156', 'v_003157', 'v_003158', 'v_003159', 'v_003160', 'v_003161', 'v_003162', 'v_003163', 'v_003164', 'v_003165', 'v_003166', 'v_003167', 'v_003168', 'v_003169', 'v_003170', 'v_003171', 'v_003172', 'v_003173', 'v_003174', 'v_003175', 'v_003176', 'v_003177', 'v_003178', 'v_003179', 'v_003180', 'v_003181', 'v_003182', 'v_003183', 'v_003184', 'v_003185', 'v_003186', 'v_003187', 'v_003188', 'v_003189', 'v_003190', 'v_003191', 'v_003192', 'v_003193', 'v_003194', 'v_003195', 'v_003196', 'v_003197', 'v_003198', 'v_003199', 'v_003200', 'v_003201', 'v_003202', 'v_003203', 'v_003204', 'v_003205', 'v_003206', 'v_003207', 'v_003208', 'v_003209', 'v_003210', 'v_003211', 'v_003212', 'v_003213', 'v_003214', 'v_003215', 'v_003216', 'v_003217', 'v_003218', 'v_003219', 'v_003220', 'v_003221', 'v_003222', 'v_003223', 'v_003224', 'v_003225', 'v_003226', 'v_003227', 'v_003228', 'v_003229', 'v_003230', 'v_003231', 'v_003232', 'v_003233', 'v_003234', 'v_003235', 'v_003236', 'v_003237', 'v_003238', 'v_003239', 'v_003240', 'v_003241', 'v_003242', 'v_003243', 'v_003244', 'v_003245', 'v_003246', 'v_003247', 'v_003248', 'v_003249', 'v_003250', 'v_003251', 'v_003252', 'v_003253', 'v_003254', 'v_003255', 'v_003256', 'v_003257', 'v_003258', 'v_003259', 'v_003260', 'v_003261', 'v_003262', 'v_003263', 'v_003264', 'v_003265', 'v_003266', 'v_003267', 'v_003268', 'v_003269', 'v_003270', 'v_003271', 'v_003272', 'v_003273', 'v_003274', 'v_003275', 'v_003276', 'v_003277', 'v_003278', 'v_003279', 'v_003280', 'v_003281', 'v_003282', 'v_003283', 'v_003284', 'v_003285', 'v_003286', 'v_003287', 'v_003288', 'v_003289', 'v_003290', 'v_003291', 'v_003292', 'v_003293', 'v_003294', 'v_003295', 'v_003296', 'v_003297', 'v_003298', 'v_003299', 'v_003300', 'v_003301', 'v_003302', 'v_003303', 'v_003304', 'v_003305', 'v_003306', 'v_003307', 'v_003308', 'v_003309', 'v_003310', 'v_003311', 'v_003312', 'v_003313', 'v_003314', 'v_003315', 'v_003316', 'v_003317', 'v_003318', 'v_003319', 'v_003320', 'v_003321', 'v_003322', 'v_003323', 'v_003324', 'v_003325', 'v_003326', 'v_003327', 'v_003328', 'v_003329', 'v_003330', 'v_003331', 'v_003332', 'v_003333', 'v_003334', 'v_003335', 'v_003336', 'v_003337', 'v_003338', 'v_003339', 'v_003340', 'v_003341', 'v_003342', 'v_003343', 'v_003344', 'v_003345', 'v_003346', 'v_003347', 'v_003348', 'v_003349', 'v_003350', 'v_003351', 'v_003352', 'v_003353', 'v_003354', 'v_003355', 'v_003356', 'v_003357', 'v_003358', 'v_003359', 'v_003360']\n",
            "['1', '1', '1', '1', '1', '1', '1', '1', '1', '1', '1', '1', '1', '1', '1', '1', '1', '1', '1', '1', '1', '1', '1', '1', '1', '1', '1', '1', '1', '1', '1', '1', '1', '1', '1', '1', '1', '1', '1', '1', '1', '1', '1', '1', '1', '1', '1', '1', '1', '1', '1', '1', '1', '1', '1', '1', '1', '1', '1', '1', '1', '1', '1', '1', '1', '1', '1', '1', '1', '1', '1', '1', '1', '1', '1', '1', '1', '1', '1', '1', '1', '1', '1', '1', '1', '1', '1', '1', '1', '1', '1', '1', '1', '1', '1', '1', '1', '1', '1', '1', '1', '1', '1', '1', '1', '1', '1', '1', '1', '1', '1', '1', '1', '1', '1', '1', '1', '1', '1', '1', '1', '1', '1', '1', '1', '1', '1', '1', '1', '1', '1', '1', '1', '1', '1', '1', '1', '1', '1', '1', '1', '1', '1', '1', '1', '2', '2', '2', '2', '2', '2', '2', '2', '2', '2', '2', '2', '2', '2', '2', '2', '2', '2', '2', '2', '2', '2', '2', '2', '2', '2', '2', '2', '2', '2', '2', '2', '2', '2', '2', '2', '2', '2', '2', '2', '2', '2', '2', '2', '2', '2', '2', '2', '2', '2', '2', '2', '2', '2', '2', '2', '2', '2', '2', '2', '2', '2', '2', '2', '2', '2', '2', '2', '2', '2', '2', '2', '2', '2', '2', '2', '2', '2', '2', '2', '2', '2', '2', '2', '2', '2', '2', '2', '2', '2', '2', '2', '2', '2', '2', '2', '2', '2', '2', '2', '2', '2', '2', '2', '2', '2', '2', '2', '2', '2', '2', '2', '2', '2', '3', '3', '3', '3', '3', '3', '3', '3', '3', '3', '3', '3', '3', '3', '3', '3', '3', '3', '3', '3', '3', '3', '3', '3', '3', '3', '3', '3', '3', '3', '3', '3', '3', '3', '3', '3', '3', '3', '3', '3', '3', '3', '3', '3', '3', '3', '3', '3', '3', '3', '3', '3', '3', '3', '3', '3', '3', '3', '3', '3', '3', '3', '3', '3', '3', '3', '3', '3', '3', '3', '3', '3', '3', '3', '3', '3', '3', '3', '3', '3', '3', '3', '3', '3', '3', '3', '3', '3', '3', '3', '3', '3', '3', '3', '3', '3', '3', '3', '3', '3', '3', '3', '3', '3', '3', '3', '3', '3', '3', '3', '3', '3', '3', '3', '3', '3', '3', '3', '3', '3', '3', '3', '3', '3', '3', '3', '3', '3', '3', '3', '3', '3', '3', '3', '3', '3', '3', '3', '3', '3', '3', '3', '3', '3', '3', '4', '4', '4', '4', '4', '4', '4', '4', '4', '4', '4', '4', '4', '4', '4', '4', '4', '4', '4', '4', '4', '4', '4', '4', '4', '4', '4', '4', '4', '4', '4', '4', '4', '4', '4', '4', '4', '4', '4', '4', '4', '4', '4', '4', '4', '4', '4', '4', '4', '4', '4', '4', '4', '4', '4', '4', '4', '4', '4', '4', '4', '4', '4', '4', '4', '4', '4', '4', '4', '4', '4', '4', '4', '4', '4', '4', '4', '4', '4', '4', '4', '4', '4', '4', '4', '4', '4', '4', '4', '4', '4', '4', '4', '4', '4', '4', '4', '4', '4', '4', '4', '4', '4', '4', '4', '4', '4', '4', '4', '4', '4', '4', '4', '4', '4', '4', '4', '4', '4', '4', '4', '4', '4', '4', '4', '4', '4', '4', '4', '4', '4', '4', '5', '5', '5', '5', '5', '5', '5', '5', '5', '5', '5', '5', '5', '5', '5', '5', '5', '5', '5', '5', '5', '5', '5', '5', '5', '5', '5', '5', '5', '5', '5', '5', '5', '5', '5', '5', '5', '5', '5', '5', '5', '5', '5', '5', '5', '5', '5', '5', '5', '5', '5', '5', '5', '5', '5', '5', '5', '5', '5', '5', '5', '5', '5', '5', '5', '5', '5', '5', '5', '5', '5', '5', '5', '5', '5', '5', '5', '5', '5', '5', '5', '5', '5', '5', '5', '5', '5', '5', '5', '5', '5', '5', '5', '5', '5', '5', '5', '5', '5', '5', '5', '5', '5', '5', '5', '5', '5', '5', '6', '6', '6', '6', '6', '6', '6', '6', '6', '6', '6', '6', '6', '6', '6', '6', '6', '6', '6', '6', '6', '6', '6', '6', '6', '6', '6', '6', '6', '6', '6', '6', '6', '6', '6', '6', '6', '6', '6', '6', '6', '6', '6', '6', '6', '6', '6', '6', '6', '6', '6', '6', '6', '6', '6', '6', '6', '6', '6', '6', '6', '6', '6', '6', '6', '6', '6', '6', '6', '6', '6', '6', '6', '6', '6', '6', '6', '6', '6', '6', '6', '6', '6', '6', '6', '6', '6', '6', '6', '6', '6', '6', '6', '6', '6', '6', '6', '6', '6', '6', '6', '6', '6', '6', '6', '6', '6', '6', '6', '6', '6', '6', '6', '6', '6', '6', '6', '6', '6', '6', '6', '6', '6', '6', '6', '6', '6', '6', '6', '6', '6', '6', '6', '6', '6', '6', '6', '6', '6', '6', '6', '6', '6', '6', '6', '6', '6', '6', '6', '6', '6', '6', '6', '6', '6', '7', '7', '7', '7', '7', '7', '7', '7', '7', '7', '7', '7', '7', '7', '7', '7', '7', '7', '7', '7', '7', '7', '7', '7', '7', '7', '7', '7', '7', '7', '7', '7', '7', '7', '7', '7', '7', '7', '7', '7', '7', '7', '7', '7', '7', '7', '7', '7', '7', '7', '7', '7', '7', '7', '7', '7', '7', '7', '7', '7', '7', '7', '7', '7', '7', '7', '7', '7', '7', '7', '7', '7', '7', '7', '7', '7', '7', '7', '7', '7', '7', '7', '7', '7', '7', '7', '7', '7', '7', '7', '7', '7', '7', '7', '7', '7', '7', '7', '7', '7', '7', '7', '7', '7', '7', '7', '7', '7', '7', '7', '7', '7', '7', '7', '7', '7', '7', '7', '7', '7', '7', '7', '7', '7', '7', '7', '7', '7', '7', '7', '7', '7', '7', '7', '7', '7', '7', '7', '7', '7', '7', '7', '7', '7', '7', '7', '7', '7', '7', '7', '8', '8', '8', '8', '8', '8', '8', '8', '8', '8', '8', '8', '8', '8', '8', '8', '8', '8', '8', '8', '8', '8', '8', '8', '8', '8', '8', '8', '8', '8', '8', '8', '8', '8', '8', '8', '8', '8', '8', '8', '8', '8', '8', '8', '8', '8', '8', '8', '8', '8', '8', '8', '8', '8', '8', '8', '8', '8', '8', '8', '8', '8', '8', '8', '8', '8', '8', '8', '8', '8', '8', '8', '8', '8', '8', '8', '8', '8', '8', '8', '8', '8', '8', '8', '8', '8', '8', '8', '8', '8', '8', '8', '8', '8', '8', '8', '8', '8', '8', '8', '8', '8', '8', '8', '8', '8', '8', '8', '8', '8', '8', '8', '8', '8', '8', '8', '8', '8', '8', '8', '8', '8', '8', '8', '8', '8', '8', '8', '8', '8', '8', '8', '8', '8', '9', '9', '9', '9', '9', '9', '9', '9', '9', '9', '9', '9', '9', '9', '9', '9', '9', '9', '9', '9', '9', '9', '9', '9', '9', '9', '9', '9', '9', '9', '9', '9', '9', '9', '9', '9', '9', '9', '9', '9', '9', '9', '9', '9', '9', '9', '9', '9', '9', '9', '9', '9', '9', '9', '9', '9', '9', '9', '9', '9', '9', '9', '9', '9', '9', '9', '9', '9', '9', '9', '9', '9', '9', '9', '9', '9', '9', '9', '9', '9', '9', '9', '9', '9', '9', '9', '9', '9', '9', '9', '9', '9', '9', '9', '9', '9', '9', '9', '9', '9', '9', '9', '9', '9', '9', '9', '9', '9', '9', '9', '9', '9', '9', '9', '9', '9', '9', '9', '9', '9', '9', '9', '9', '9', '9', '9', '9', '9', '9', '9', '9', '10', '10', '10', '10', '10', '10', '10', '10', '10', '10', '10', '10', '10', '10', '10', '10', '10', '10', '10', '10', '10', '10', '10', '10', '10', '10', '10', '10', '10', '10', '10', '10', '10', '10', '10', '10', '10', '10', '10', '10', '10', '10', '10', '10', '10', '10', '10', '10', '10', '10', '10', '10', '10', '10', '10', '10', '10', '10', '10', '10', '10', '10', '10', '10', '10', '10', '10', '10', '10', '10', '10', '10', '10', '10', '10', '10', '10', '10', '10', '10', '10', '10', '10', '10', '10', '10', '10', '10', '10', '10', '10', '10', '10', '10', '10', '10', '10', '10', '10', '10', '10', '10', '10', '10', '10', '10', '10', '10', '10', '10', '10', '10', '10', '10', '10', '10', '10', '10', '10', '10', '10', '10', '10', '10', '10', '10', '10', '10', '10', '10', '10', '10', '10', '10', '10', '10', '10', '10', '10', '10', '10', '10', '10', '10', '10', '10', '10', '10', '10', '10', '10', '10', '10', '10', '10', '10', '10', '10', '10', '10', '11', '11', '11', '11', '11', '11', '11', '11', '11', '11', '11', '11', '11', '11', '11', '11', '11', '11', '11', '11', '11', '11', '11', '11', '11', '11', '11', '11', '11', '11', '11', '11', '11', '11', '11', '11', '11', '11', '11', '11', '11', '11', '11', '11', '11', '11', '11', '11', '11', '11', '11', '11', '11', '11', '11', '11', '11', '11', '11', '11', '11', '11', '11', '11', '11', '11', '11', '11', '11', '11', '11', '11', '11', '11', '11', '11', '11', '11', '11', '11', '11', '11', '11', '11', '11', '11', '11', '11', '11', '11', '11', '11', '11', '11', '11', '11', '11', '11', '11', '11', '11', '11', '11', '11', '11', '11', '11', '11', '11', '11', '11', '11', '11', '11', '11', '11', '11', '11', '11', '11', '11', '11', '11', '11', '11', '11', '11', '11', '11', '11', '11', '11', '11', '11', '12', '12', '12', '12', '12', '12', '12', '12', '12', '12', '12', '12', '12', '12', '12', '12', '12', '12', '12', '12', '12', '12', '12', '12', '12', '12', '12', '12', '12', '12', '12', '12', '12', '12', '12', '12', '12', '12', '12', '12', '12', '12', '12', '12', '12', '12', '12', '12', '12', '12', '12', '12', '12', '12', '12', '12', '12', '12', '12', '12', '12', '12', '12', '12', '12', '12', '12', '12', '12', '12', '12', '12', '12', '12', '12', '12', '12', '12', '12', '12', '12', '12', '12', '12', '12', '12', '12', '12', '12', '12', '12', '12', '12', '12', '12', '12', '12', '12', '12', '12', '12', '12', '12', '12', '12', '12', '12', '12', '12', '12', '12', '12', '12', '12', '12', '12', '12', '12', '12', '12', '12', '12', '12', '12', '12', '12', '12', '12', '12', '12', '12', '12', '12', '12', '12', '12', '12', '12', '12', '12', '12', '12', '12', '12', '12', '12', '12', '12', '12', '12', '13', '13', '13', '13', '13', '13', '13', '13', '13', '13', '13', '13', '13', '13', '13', '13', '13', '13', '13', '13', '13', '13', '13', '13', '13', '13', '13', '13', '13', '13', '13', '13', '13', '13', '13', '13', '13', '13', '13', '13', '13', '13', '13', '13', '13', '13', '13', '13', '13', '13', '13', '13', '13', '13', '13', '13', '13', '13', '13', '13', '13', '13', '13', '13', '13', '13', '13', '13', '13', '13', '13', '13', '13', '13', '13', '13', '13', '13', '13', '13', '13', '13', '13', '13', '13', '13', '13', '13', '13', '13', '13', '13', '13', '13', '13', '13', '13', '13', '13', '13', '13', '13', '13', '13', '13', '13', '13', '13', '13', '13', '13', '13', '13', '13', '13', '13', '13', '13', '13', '13', '13', '13', '13', '13', '13', '13', '13', '13', '13', '13', '13', '14', '14', '14', '14', '14', '14', '14', '14', '14', '14', '14', '14', '14', '14', '14', '14', '14', '14', '14', '14', '14', '14', '14', '14', '14', '14', '14', '14', '14', '14', '14', '14', '14', '14', '14', '14', '14', '14', '14', '14', '14', '14', '14', '14', '14', '14', '14', '14', '14', '14', '14', '14', '14', '14', '14', '14', '14', '14', '14', '14', '14', '14', '14', '14', '14', '14', '14', '14', '14', '14', '14', '14', '14', '14', '14', '14', '14', '14', '14', '14', '14', '14', '14', '14', '14', '14', '14', '14', '14', '14', '14', '14', '14', '14', '14', '14', '14', '14', '14', '14', '14', '14', '14', '14', '14', '14', '14', '14', '14', '15', '15', '15', '15', '15', '15', '15', '15', '15', '15', '15', '15', '15', '15', '15', '15', '15', '15', '15', '15', '15', '15', '15', '15', '15', '15', '15', '15', '15', '15', '15', '15', '15', '15', '15', '15', '15', '15', '15', '15', '15', '15', '15', '15', '15', '15', '15', '15', '15', '15', '15', '15', '15', '15', '15', '15', '15', '15', '15', '15', '15', '15', '15', '15', '15', '15', '15', '15', '15', '15', '15', '15', '15', '15', '15', '15', '15', '15', '15', '15', '15', '15', '15', '15', '15', '15', '15', '15', '15', '15', '15', '15', '15', '15', '15', '15', '15', '15', '15', '15', '15', '15', '15', '15', '15', '15', '15', '15', '15', '15', '15', '15', '16', '16', '16', '16', '16', '16', '16', '16', '16', '16', '16', '16', '16', '16', '16', '16', '16', '16', '16', '16', '16', '16', '16', '16', '16', '16', '16', '16', '16', '16', '16', '16', '16', '16', '16', '16', '16', '16', '16', '16', '16', '16', '16', '16', '16', '16', '16', '16', '16', '16', '16', '16', '16', '16', '16', '16', '16', '16', '16', '16', '16', '16', '16', '16', '16', '16', '16', '16', '16', '16', '16', '16', '16', '16', '16', '16', '16', '16', '16', '16', '16', '16', '16', '16', '16', '16', '16', '16', '16', '16', '16', '16', '16', '16', '16', '16', '16', '16', '16', '16', '16', '16', '16', '16', '16', '16', '16', '16', '16', '16', '16', '16', '16', '16', '16', '16', '16', '16', '16', '16', '16', '16', '16', '16', '16', '16', '16', '16', '16', '16', '16', '16', '16', '16', '16', '16', '16', '16', '16', '16', '16', '16', '16', '16', '16', '16', '16', '16', '16', '16', '16', '16', '16', '16', '16', '17', '17', '17', '17', '17', '17', '17', '17', '17', '17', '17', '17', '17', '17', '17', '17', '17', '17', '17', '17', '17', '17', '17', '17', '17', '17', '17', '17', '17', '17', '17', '17', '17', '17', '17', '17', '17', '17', '17', '17', '17', '17', '17', '17', '17', '17', '17', '17', '17', '17', '17', '17', '17', '17', '17', '17', '17', '17', '17', '17', '17', '17', '17', '17', '17', '17', '17', '17', '17', '17', '17', '17', '17', '17', '17', '17', '17', '17', '17', '17', '17', '17', '17', '17', '17', '17', '17', '17', '17', '17', '17', '17', '17', '17', '17', '17', '17', '17', '17', '17', '17', '17', '17', '17', '17', '17', '17', '17', '17', '17', '17', '17', '17', '17', '17', '17', '17', '17', '17', '17', '17', '17', '17', '17', '17', '17', '17', '17', '17', '17', '17', '17', '17', '17', '17', '17', '17', '17', '17', '17', '17', '17', '17', '17', '17', '17', '17', '17', '17', '17', '17', '17', '17', '17', '17', '17', '17', '17', '17', '17', '17', '17', '17', '18', '18', '18', '18', '18', '18', '18', '18', '18', '18', '18', '18', '18', '18', '18', '18', '18', '18', '18', '18', '18', '18', '18', '18', '18', '18', '18', '18', '18', '18', '18', '18', '18', '18', '18', '18', '18', '18', '18', '18', '18', '18', '18', '18', '18', '18', '18', '18', '18', '18', '18', '18', '18', '18', '18', '18', '18', '18', '18', '18', '18', '18', '18', '18', '18', '18', '18', '18', '18', '18', '18', '18', '18', '18', '18', '18', '18', '18', '18', '18', '18', '18', '18', '18', '18', '18', '18', '18', '18', '18', '18', '18', '18', '18', '18', '18', '18', '18', '18', '18', '18', '18', '18', '18', '18', '18', '18', '18', '18', '18', '18', '18', '18', '18', '18', '18', '18', '18', '18', '18', '18', '18', '18', '18', '18', '18', '18', '18', '18', '18', '18', '18', '18', '18', '19', '19', '19', '19', '19', '19', '19', '19', '19', '19', '19', '19', '19', '19', '19', '19', '19', '19', '19', '19', '19', '19', '19', '19', '19', '19', '19', '19', '19', '19', '19', '19', '19', '19', '19', '19', '19', '19', '19', '19', '19', '19', '19', '19', '19', '19', '19', '19', '19', '19', '19', '19', '19', '19', '19', '19', '19', '19', '19', '19', '19', '19', '19', '19', '19', '19', '19', '19', '19', '19', '19', '19', '19', '19', '19', '19', '19', '19', '19', '19', '19', '19', '19', '19', '19', '19', '19', '19', '19', '19', '19', '19', '19', '19', '19', '19', '19', '19', '19', '19', '19', '20', '20', '20', '20', '20', '20', '20', '20', '20', '20', '20', '20', '20', '20', '20', '20', '20', '20', '20', '20', '20', '20', '20', '20', '20', '20', '20', '20', '20', '20', '20', '20', '20', '20', '20', '20', '20', '20', '20', '20', '20', '20', '20', '20', '20', '20', '20', '20', '20', '20', '20', '20', '20', '20', '20', '20', '20', '20', '20', '20', '20', '20', '20', '20', '20', '20', '20', '20', '20', '20', '20', '20', '20', '20', '20', '20', '20', '20', '20', '20', '20', '20', '20', '20', '20', '20', '20', '20', '20', '20', '20', '20', '20', '20', '20', '20', '20', '20', '20', '20', '20', '20', '20', '20', '20', '20', '20', '20', '20', '20', '20', '20', '20', '20', '20', '20', '20', '20', '20', '20', '20', '20', '20', '20', '20', '20', '20', '20', '20', '20', '20', '21', '21', '21', '21', '21', '21', '21', '21', '21', '21', '21', '21', '21', '21', '21', '21', '21', '21', '21', '21', '21', '21', '21', '21', '21', '21', '21', '21', '21', '21', '21', '21', '21', '21', '21', '21', '21', '21', '21', '21', '21', '21', '21', '21', '21', '21', '21', '21', '21', '21', '21', '21', '21', '21', '21', '21', '21', '21', '21', '21', '21', '21', '21', '21', '21', '21', '21', '21', '21', '21', '21', '21', '21', '21', '21', '21', '21', '21', '21', '21', '21', '21', '21', '21', '21', '21', '21', '21', '21', '21', '21', '21', '21', '21', '21', '21', '21', '21', '21', '21', '21', '21', '21', '21', '21', '21', '21', '21', '21', '21', '21', '21', '22', '22', '22', '22', '22', '22', '22', '22', '22', '22', '22', '22', '22', '22', '22', '22', '22', '22', '22', '22', '22', '22', '22', '22', '22', '22', '22', '22', '22', '22', '22', '22', '22', '22', '22', '22', '22', '22', '22', '22', '22', '22', '22', '22', '22', '22', '22', '22', '22', '22', '22', '22', '22', '22', '22', '22', '22', '22', '22', '22', '22', '22', '22', '22', '22', '22', '22', '22', '22', '22', '22', '22', '22', '22', '22', '22', '22', '22', '22', '22', '22', '22', '22', '22', '22', '22', '22', '22', '22', '22', '22', '22', '22', '22', '22', '22', '22', '22', '22', '22', '22', '22', '22', '22', '22', '22', '22', '22', '22', '22', '22', '22', '22', '22', '22', '22', '22', '22', '22', '22', '22', '22', '22', '22', '22', '22', '22', '22', '22', '22', '22', '22', '22', '22', '22', '22', '22', '22', '23', '23', '23', '23', '23', '23', '23', '23', '23', '23', '23', '23', '23', '23', '23', '23', '23', '23', '23', '23', '23', '23', '23', '23', '23', '23', '23', '23', '23', '23', '23', '23', '23', '23', '23', '23', '23', '23', '23', '23', '23', '23', '23', '23', '23', '23', '23', '23', '23', '23', '23', '23', '23', '23', '23', '23', '23', '23', '23', '23', '23', '23', '23', '23', '23', '23', '23', '23', '23', '23', '23', '23', '23', '23', '23', '23', '23', '23', '23', '23', '23', '23', '23', '23', '23', '23', '23', '23', '23', '23', '23', '23', '23', '23', '23', '23', '23', '23', '23', '23', '23', '23', '23', '23', '23', '23', '23', '23', '23', '23', '23', '23', '23', '23', '23', '23', '23', '23', '23', '23', '23', '23', '23', '23', '23', '23', '23', '23', '23', '23', '23', '23', '23', '23', '23', '23', '23', '23', '23', '24', '24', '24', '24', '24', '24', '24', '24', '24', '24', '24', '24', '24', '24', '24', '24', '24', '24', '24', '24', '24', '24', '24', '24', '24', '24', '24', '24', '24', '24', '24', '24', '24', '24', '24', '24', '24', '24', '24', '24', '24', '24', '24', '24', '24', '24', '24', '24', '24', '24', '24', '24', '24', '24', '24', '24', '24', '24', '24', '24', '24', '24', '24', '24', '24', '24', '24', '24', '24', '24', '24', '24', '24', '24', '24', '24', '24', '24', '24', '24', '24', '24', '24', '24', '24', '24', '24', '24', '24', '24', '24', '24', '24', '24', '24', '24', '24', '24', '24', '24', '24', '24', '24', '24', '24', '24', '24', '24', '24', '24', '24', '24', '24', '24', '24', '24', '24', '24', '24', '24', '24', '24', '24', '24', '24', '24', '24', '24', '24', '24', '24', '24', '24', '24', '24', '24', '24', '24', '24', '24', '24', '24', '24', '24', '24', '24', '24', '24', '24', '24', '24', '24', '24', '24', '24', '24', '24', '24', '24', '24', '24', '24', '24', '24', '24', '24', '24', '25', '25', '25', '25', '25', '25', '25', '25', '25', '25', '25', '25', '25', '25', '25', '25', '25', '25', '25', '25', '25', '25', '25', '25', '25', '25', '25', '25', '25', '25', '25', '25', '25', '25', '25', '25', '25', '25', '25', '25', '25', '25', '25', '25', '25', '25', '25', '25', '25', '25', '25', '25', '25', '25', '25', '25', '25', '25', '25', '25', '25', '25', '25', '25', '25', '25', '25', '25', '25', '25', '25', '25', '25', '25', '25', '25', '25', '25', '25', '25', '25', '25', '25', '25', '25', '25', '25', '25', '25', '25', '25', '25', '25', '25', '25', '25', '25', '25', '25', '25', '25', '25', '25', '25', '25', '25', '25', '25', '25', '25']\n",
            "['v_000045', 'v_000046', 'v_000047', 'v_000048', 'v_000049', 'v_000050', 'v_000051', 'v_000052', 'v_000053', 'v_000054', 'v_000055', 'v_000056', 'v_000057', 'v_000058', 'v_000059', 'v_000060', 'v_000061', 'v_000062', 'v_000063', 'v_000064', 'v_000065', 'v_000066', 'v_000067', 'v_000068', 'v_000069', 'v_000070', 'v_000071', 'v_000072', 'v_000073', 'v_000074', 'v_000075', 'v_000076', 'v_000077', 'v_000078', 'v_000079', 'v_000080', 'v_000081', 'v_000082', 'v_000083', 'v_000084', 'v_000085', 'v_000086', 'v_000087', 'v_000088', 'v_000089', 'v_000090', 'v_000091', 'v_000092', 'v_000093', 'v_000094', 'v_000095', 'v_000096', 'v_000097', 'v_000098', 'v_000099', 'v_000100', 'v_000101', 'v_000102', 'v_000103', 'v_000104', 'v_000105', 'v_000106', 'v_000107', 'v_000108', 'v_000109', 'v_000110', 'v_000111', 'v_000112', 'v_000113', 'v_000114', 'v_000115', 'v_000116', 'v_000117', 'v_000118', 'v_000119', 'v_000120', 'v_000121', 'v_000122', 'v_000123', 'v_000124', 'v_000125', 'v_000126', 'v_000127', 'v_000128', 'v_000129', 'v_000130', 'v_000131', 'v_000132', 'v_000133', 'v_000134', 'v_000135', 'v_000136', 'v_000137', 'v_000138', 'v_000139', 'v_000140', 'v_000141', 'v_000142', 'v_000143', 'v_000144', 'v_000145', 'v_000178', 'v_000179', 'v_000180', 'v_000181', 'v_000182', 'v_000183', 'v_000184', 'v_000185', 'v_000186', 'v_000187', 'v_000188', 'v_000189', 'v_000190', 'v_000191', 'v_000192', 'v_000193', 'v_000194', 'v_000195', 'v_000196', 'v_000197', 'v_000198', 'v_000199', 'v_000200', 'v_000201', 'v_000202', 'v_000203', 'v_000204', 'v_000205', 'v_000206', 'v_000207', 'v_000208', 'v_000209', 'v_000210', 'v_000211', 'v_000212', 'v_000213', 'v_000214', 'v_000215', 'v_000216', 'v_000217', 'v_000218', 'v_000219', 'v_000220', 'v_000221', 'v_000222', 'v_000223', 'v_000224', 'v_000225', 'v_000226', 'v_000227', 'v_000228', 'v_000229', 'v_000230', 'v_000231', 'v_000232', 'v_000233', 'v_000234', 'v_000235', 'v_000236', 'v_000237', 'v_000238', 'v_000239', 'v_000240', 'v_000241', 'v_000242', 'v_000243', 'v_000244', 'v_000245', 'v_000246', 'v_000247', 'v_000248', 'v_000249', 'v_000250', 'v_000251', 'v_000252', 'v_000253', 'v_000254', 'v_000255', 'v_000256', 'v_000257', 'v_000258', 'v_000259', 'v_000301', 'v_000302', 'v_000303', 'v_000304', 'v_000305', 'v_000306', 'v_000307', 'v_000308', 'v_000309', 'v_000310', 'v_000311', 'v_000312', 'v_000313', 'v_000314', 'v_000315', 'v_000316', 'v_000317', 'v_000318', 'v_000319', 'v_000320', 'v_000321', 'v_000322', 'v_000323', 'v_000324', 'v_000325', 'v_000326', 'v_000327', 'v_000328', 'v_000329', 'v_000330', 'v_000331', 'v_000332', 'v_000333', 'v_000334', 'v_000335', 'v_000336', 'v_000337', 'v_000338', 'v_000339', 'v_000340', 'v_000341', 'v_000342', 'v_000343', 'v_000344', 'v_000345', 'v_000346', 'v_000347', 'v_000348', 'v_000349', 'v_000350', 'v_000351', 'v_000352', 'v_000353', 'v_000354', 'v_000355', 'v_000356', 'v_000357', 'v_000358', 'v_000359', 'v_000360', 'v_000361', 'v_000362', 'v_000363', 'v_000364', 'v_000365', 'v_000366', 'v_000367', 'v_000368', 'v_000369', 'v_000370', 'v_000371', 'v_000372', 'v_000373', 'v_000374', 'v_000375', 'v_000376', 'v_000377', 'v_000378', 'v_000379', 'v_000380', 'v_000381', 'v_000382', 'v_000383', 'v_000384', 'v_000385', 'v_000386', 'v_000387', 'v_000388', 'v_000389', 'v_000390', 'v_000391', 'v_000392', 'v_000393', 'v_000394', 'v_000395', 'v_000396', 'v_000397', 'v_000398', 'v_000399', 'v_000400', 'v_000401', 'v_000402', 'v_000403', 'v_000404', 'v_000440', 'v_000441', 'v_000442', 'v_000443', 'v_000444', 'v_000445', 'v_000446', 'v_000447', 'v_000448', 'v_000449', 'v_000450', 'v_000451', 'v_000452', 'v_000453', 'v_000454', 'v_000455', 'v_000456', 'v_000457', 'v_000458', 'v_000459', 'v_000460', 'v_000461', 'v_000462', 'v_000463', 'v_000464', 'v_000465', 'v_000466', 'v_000467', 'v_000468', 'v_000469', 'v_000470', 'v_000471', 'v_000472', 'v_000473', 'v_000474', 'v_000475', 'v_000476', 'v_000477', 'v_000478', 'v_000479', 'v_000480', 'v_000481', 'v_000482', 'v_000483', 'v_000484', 'v_000485', 'v_000486', 'v_000487', 'v_000488', 'v_000489', 'v_000490', 'v_000491', 'v_000492', 'v_000493', 'v_000494', 'v_000495', 'v_000496', 'v_000497', 'v_000498', 'v_000499', 'v_000500', 'v_000501', 'v_000502', 'v_000503', 'v_000504', 'v_000505', 'v_000506', 'v_000507', 'v_000508', 'v_000509', 'v_000510', 'v_000511', 'v_000512', 'v_000513', 'v_000514', 'v_000515', 'v_000516', 'v_000517', 'v_000518', 'v_000519', 'v_000520', 'v_000521', 'v_000522', 'v_000523', 'v_000524', 'v_000525', 'v_000526', 'v_000527', 'v_000528', 'v_000529', 'v_000530', 'v_000531', 'v_000532', 'v_000533', 'v_000534', 'v_000535', 'v_000536', 'v_000568', 'v_000569', 'v_000570', 'v_000571', 'v_000572', 'v_000573', 'v_000574', 'v_000575', 'v_000576', 'v_000577', 'v_000578', 'v_000579', 'v_000580', 'v_000581', 'v_000582', 'v_000583', 'v_000584', 'v_000585', 'v_000586', 'v_000587', 'v_000588', 'v_000589', 'v_000590', 'v_000591', 'v_000592', 'v_000593', 'v_000594', 'v_000595', 'v_000596', 'v_000597', 'v_000598', 'v_000599', 'v_000600', 'v_000601', 'v_000602', 'v_000603', 'v_000604', 'v_000605', 'v_000606', 'v_000607', 'v_000608', 'v_000609', 'v_000610', 'v_000611', 'v_000612', 'v_000613', 'v_000614', 'v_000615', 'v_000616', 'v_000617', 'v_000618', 'v_000619', 'v_000620', 'v_000621', 'v_000622', 'v_000623', 'v_000624', 'v_000625', 'v_000626', 'v_000627', 'v_000628', 'v_000629', 'v_000630', 'v_000631', 'v_000632', 'v_000633', 'v_000634', 'v_000635', 'v_000636', 'v_000637', 'v_000638', 'v_000639', 'v_000640', 'v_000641', 'v_000642', 'v_000643', 'v_000644', 'v_000688', 'v_000689', 'v_000690', 'v_000691', 'v_000692', 'v_000693', 'v_000694', 'v_000695', 'v_000696', 'v_000697', 'v_000698', 'v_000699', 'v_000700', 'v_000701', 'v_000702', 'v_000703', 'v_000704', 'v_000705', 'v_000706', 'v_000707', 'v_000708', 'v_000709', 'v_000710', 'v_000711', 'v_000712', 'v_000713', 'v_000714', 'v_000715', 'v_000716', 'v_000717', 'v_000718', 'v_000719', 'v_000720', 'v_000721', 'v_000722', 'v_000723', 'v_000724', 'v_000725', 'v_000726', 'v_000727', 'v_000728', 'v_000729', 'v_000730', 'v_000731', 'v_000732', 'v_000733', 'v_000734', 'v_000735', 'v_000736', 'v_000737', 'v_000738', 'v_000739', 'v_000740', 'v_000741', 'v_000742', 'v_000743', 'v_000744', 'v_000745', 'v_000746', 'v_000747', 'v_000748', 'v_000749', 'v_000750', 'v_000751', 'v_000752', 'v_000753', 'v_000754', 'v_000755', 'v_000756', 'v_000757', 'v_000758', 'v_000759', 'v_000760', 'v_000761', 'v_000762', 'v_000763', 'v_000764', 'v_000765', 'v_000766', 'v_000767', 'v_000768', 'v_000769', 'v_000770', 'v_000771', 'v_000772', 'v_000773', 'v_000774', 'v_000775', 'v_000776', 'v_000777', 'v_000778', 'v_000779', 'v_000780', 'v_000781', 'v_000782', 'v_000783', 'v_000784', 'v_000785', 'v_000786', 'v_000787', 'v_000788', 'v_000789', 'v_000790', 'v_000791', 'v_000792', 'v_000793', 'v_000794', 'v_000795', 'v_000796', 'v_000797', 'v_000798', 'v_000799', 'v_000843', 'v_000844', 'v_000845', 'v_000846', 'v_000847', 'v_000848', 'v_000849', 'v_000850', 'v_000851', 'v_000852', 'v_000853', 'v_000854', 'v_000855', 'v_000856', 'v_000857', 'v_000858', 'v_000859', 'v_000860', 'v_000861', 'v_000862', 'v_000863', 'v_000864', 'v_000865', 'v_000866', 'v_000867', 'v_000868', 'v_000869', 'v_000870', 'v_000871', 'v_000872', 'v_000873', 'v_000874', 'v_000875', 'v_000876', 'v_000877', 'v_000878', 'v_000879', 'v_000880', 'v_000881', 'v_000882', 'v_000883', 'v_000884', 'v_000885', 'v_000886', 'v_000887', 'v_000888', 'v_000889', 'v_000890', 'v_000891', 'v_000892', 'v_000893', 'v_000894', 'v_000895', 'v_000896', 'v_000897', 'v_000898', 'v_000899', 'v_000900', 'v_000901', 'v_000902', 'v_000903', 'v_000904', 'v_000905', 'v_000906', 'v_000907', 'v_000908', 'v_000909', 'v_000910', 'v_000911', 'v_000912', 'v_000913', 'v_000914', 'v_000915', 'v_000916', 'v_000917', 'v_000918', 'v_000919', 'v_000920', 'v_000921', 'v_000922', 'v_000923', 'v_000924', 'v_000925', 'v_000926', 'v_000927', 'v_000928', 'v_000929', 'v_000930', 'v_000931', 'v_000932', 'v_000933', 'v_000934', 'v_000935', 'v_000936', 'v_000937', 'v_000938', 'v_000939', 'v_000940', 'v_000941', 'v_000942', 'v_000943', 'v_000944', 'v_000945', 'v_000946', 'v_000947', 'v_000948', 'v_000949', 'v_000985', 'v_000986', 'v_000987', 'v_000988', 'v_000989', 'v_000990', 'v_000991', 'v_000992', 'v_000993', 'v_000994', 'v_000995', 'v_000996', 'v_000997', 'v_000998', 'v_000999', 'v_001000', 'v_001001', 'v_001002', 'v_001003', 'v_001004', 'v_001005', 'v_001006', 'v_001007', 'v_001008', 'v_001009', 'v_001010', 'v_001011', 'v_001012', 'v_001013', 'v_001014', 'v_001015', 'v_001016', 'v_001017', 'v_001018', 'v_001019', 'v_001020', 'v_001021', 'v_001022', 'v_001023', 'v_001024', 'v_001025', 'v_001026', 'v_001027', 'v_001028', 'v_001029', 'v_001030', 'v_001031', 'v_001032', 'v_001033', 'v_001034', 'v_001035', 'v_001036', 'v_001037', 'v_001038', 'v_001039', 'v_001040', 'v_001041', 'v_001042', 'v_001043', 'v_001044', 'v_001045', 'v_001046', 'v_001047', 'v_001048', 'v_001049', 'v_001050', 'v_001051', 'v_001052', 'v_001053', 'v_001054', 'v_001055', 'v_001056', 'v_001057', 'v_001058', 'v_001059', 'v_001060', 'v_001061', 'v_001062', 'v_001063', 'v_001064', 'v_001065', 'v_001066', 'v_001067', 'v_001068', 'v_001069', 'v_001070', 'v_001071', 'v_001072', 'v_001073', 'v_001074', 'v_001075', 'v_001076', 'v_001077', 'v_001078', 'v_001079', 'v_001080', 'v_001081', 'v_001082', 'v_001083', 'v_001121', 'v_001122', 'v_001123', 'v_001124', 'v_001125', 'v_001126', 'v_001127', 'v_001128', 'v_001129', 'v_001130', 'v_001131', 'v_001132', 'v_001133', 'v_001134', 'v_001135', 'v_001136', 'v_001137', 'v_001138', 'v_001139', 'v_001140', 'v_001141', 'v_001142', 'v_001143', 'v_001144', 'v_001145', 'v_001146', 'v_001147', 'v_001148', 'v_001149', 'v_001150', 'v_001151', 'v_001152', 'v_001153', 'v_001154', 'v_001155', 'v_001156', 'v_001157', 'v_001158', 'v_001159', 'v_001160', 'v_001161', 'v_001162', 'v_001163', 'v_001164', 'v_001165', 'v_001166', 'v_001167', 'v_001168', 'v_001169', 'v_001170', 'v_001171', 'v_001172', 'v_001173', 'v_001174', 'v_001175', 'v_001176', 'v_001177', 'v_001178', 'v_001179', 'v_001180', 'v_001181', 'v_001182', 'v_001183', 'v_001184', 'v_001185', 'v_001186', 'v_001187', 'v_001188', 'v_001189', 'v_001190', 'v_001191', 'v_001192', 'v_001193', 'v_001194', 'v_001195', 'v_001196', 'v_001197', 'v_001198', 'v_001199', 'v_001200', 'v_001201', 'v_001202', 'v_001203', 'v_001204', 'v_001205', 'v_001206', 'v_001207', 'v_001208', 'v_001209', 'v_001210', 'v_001211', 'v_001212', 'v_001213', 'v_001214', 'v_001263', 'v_001264', 'v_001265', 'v_001266', 'v_001267', 'v_001268', 'v_001269', 'v_001270', 'v_001271', 'v_001272', 'v_001273', 'v_001274', 'v_001275', 'v_001276', 'v_001277', 'v_001278', 'v_001279', 'v_001280', 'v_001281', 'v_001282', 'v_001283', 'v_001284', 'v_001285', 'v_001286', 'v_001287', 'v_001288', 'v_001289', 'v_001290', 'v_001291', 'v_001292', 'v_001293', 'v_001294', 'v_001295', 'v_001296', 'v_001297', 'v_001298', 'v_001299', 'v_001300', 'v_001301', 'v_001302', 'v_001303', 'v_001304', 'v_001305', 'v_001306', 'v_001307', 'v_001308', 'v_001309', 'v_001310', 'v_001311', 'v_001312', 'v_001313', 'v_001314', 'v_001315', 'v_001316', 'v_001317', 'v_001318', 'v_001319', 'v_001320', 'v_001321', 'v_001322', 'v_001323', 'v_001324', 'v_001325', 'v_001326', 'v_001327', 'v_001328', 'v_001329', 'v_001330', 'v_001331', 'v_001332', 'v_001333', 'v_001334', 'v_001335', 'v_001336', 'v_001337', 'v_001338', 'v_001339', 'v_001340', 'v_001341', 'v_001342', 'v_001343', 'v_001344', 'v_001345', 'v_001346', 'v_001347', 'v_001348', 'v_001349', 'v_001350', 'v_001351', 'v_001352', 'v_001353', 'v_001354', 'v_001355', 'v_001356', 'v_001357', 'v_001358', 'v_001359', 'v_001360', 'v_001361', 'v_001362', 'v_001363', 'v_001364', 'v_001365', 'v_001366', 'v_001367', 'v_001368', 'v_001369', 'v_001370', 'v_001371', 'v_001372', 'v_001373', 'v_001374', 'v_001413', 'v_001414', 'v_001415', 'v_001416', 'v_001417', 'v_001418', 'v_001419', 'v_001420', 'v_001421', 'v_001422', 'v_001423', 'v_001424', 'v_001425', 'v_001426', 'v_001427', 'v_001428', 'v_001429', 'v_001430', 'v_001431', 'v_001432', 'v_001433', 'v_001434', 'v_001435', 'v_001436', 'v_001437', 'v_001438', 'v_001439', 'v_001440', 'v_001441', 'v_001442', 'v_001443', 'v_001444', 'v_001445', 'v_001446', 'v_001447', 'v_001448', 'v_001449', 'v_001450', 'v_001451', 'v_001452', 'v_001453', 'v_001454', 'v_001455', 'v_001456', 'v_001457', 'v_001458', 'v_001459', 'v_001460', 'v_001461', 'v_001462', 'v_001463', 'v_001464', 'v_001465', 'v_001466', 'v_001467', 'v_001468', 'v_001469', 'v_001470', 'v_001471', 'v_001472', 'v_001473', 'v_001474', 'v_001475', 'v_001476', 'v_001477', 'v_001478', 'v_001479', 'v_001480', 'v_001481', 'v_001482', 'v_001483', 'v_001484', 'v_001485', 'v_001486', 'v_001487', 'v_001488', 'v_001489', 'v_001490', 'v_001491', 'v_001492', 'v_001493', 'v_001494', 'v_001495', 'v_001496', 'v_001497', 'v_001498', 'v_001499', 'v_001500', 'v_001501', 'v_001502', 'v_001503', 'v_001504', 'v_001505', 'v_001506', 'v_001507', 'v_001508', 'v_001549', 'v_001550', 'v_001551', 'v_001552', 'v_001553', 'v_001554', 'v_001555', 'v_001556', 'v_001557', 'v_001558', 'v_001559', 'v_001560', 'v_001561', 'v_001562', 'v_001563', 'v_001564', 'v_001565', 'v_001566', 'v_001567', 'v_001568', 'v_001569', 'v_001570', 'v_001571', 'v_001572', 'v_001573', 'v_001574', 'v_001575', 'v_001576', 'v_001577', 'v_001578', 'v_001579', 'v_001580', 'v_001581', 'v_001582', 'v_001583', 'v_001584', 'v_001585', 'v_001586', 'v_001587', 'v_001588', 'v_001589', 'v_001590', 'v_001591', 'v_001592', 'v_001593', 'v_001594', 'v_001595', 'v_001596', 'v_001597', 'v_001598', 'v_001599', 'v_001600', 'v_001601', 'v_001602', 'v_001603', 'v_001604', 'v_001605', 'v_001606', 'v_001607', 'v_001608', 'v_001609', 'v_001610', 'v_001611', 'v_001612', 'v_001613', 'v_001614', 'v_001615', 'v_001616', 'v_001617', 'v_001618', 'v_001619', 'v_001620', 'v_001621', 'v_001622', 'v_001623', 'v_001624', 'v_001625', 'v_001626', 'v_001627', 'v_001628', 'v_001629', 'v_001630', 'v_001631', 'v_001632', 'v_001633', 'v_001634', 'v_001635', 'v_001636', 'v_001637', 'v_001638', 'v_001639', 'v_001640', 'v_001641', 'v_001642', 'v_001643', 'v_001644', 'v_001645', 'v_001646', 'v_001647', 'v_001648', 'v_001649', 'v_001650', 'v_001651', 'v_001652', 'v_001653', 'v_001654', 'v_001655', 'v_001656', 'v_001657', 'v_001658', 'v_001697', 'v_001698', 'v_001699', 'v_001700', 'v_001701', 'v_001702', 'v_001703', 'v_001704', 'v_001705', 'v_001706', 'v_001707', 'v_001708', 'v_001709', 'v_001710', 'v_001711', 'v_001712', 'v_001713', 'v_001714', 'v_001715', 'v_001716', 'v_001717', 'v_001718', 'v_001719', 'v_001720', 'v_001721', 'v_001722', 'v_001723', 'v_001724', 'v_001725', 'v_001726', 'v_001727', 'v_001728', 'v_001729', 'v_001730', 'v_001731', 'v_001732', 'v_001733', 'v_001734', 'v_001735', 'v_001736', 'v_001737', 'v_001738', 'v_001739', 'v_001740', 'v_001741', 'v_001742', 'v_001743', 'v_001744', 'v_001745', 'v_001746', 'v_001747', 'v_001748', 'v_001749', 'v_001750', 'v_001751', 'v_001752', 'v_001753', 'v_001754', 'v_001755', 'v_001756', 'v_001757', 'v_001758', 'v_001759', 'v_001760', 'v_001761', 'v_001762', 'v_001763', 'v_001764', 'v_001765', 'v_001766', 'v_001767', 'v_001768', 'v_001769', 'v_001770', 'v_001771', 'v_001772', 'v_001773', 'v_001774', 'v_001775', 'v_001776', 'v_001777', 'v_001778', 'v_001779', 'v_001780', 'v_001781', 'v_001782', 'v_001783', 'v_001784', 'v_001785', 'v_001786', 'v_001787', 'v_001788', 'v_001789', 'v_001823', 'v_001824', 'v_001825', 'v_001826', 'v_001827', 'v_001828', 'v_001829', 'v_001830', 'v_001831', 'v_001832', 'v_001833', 'v_001834', 'v_001835', 'v_001836', 'v_001837', 'v_001838', 'v_001839', 'v_001840', 'v_001841', 'v_001842', 'v_001843', 'v_001844', 'v_001845', 'v_001846', 'v_001847', 'v_001848', 'v_001849', 'v_001850', 'v_001851', 'v_001852', 'v_001853', 'v_001854', 'v_001855', 'v_001856', 'v_001857', 'v_001858', 'v_001859', 'v_001860', 'v_001861', 'v_001862', 'v_001863', 'v_001864', 'v_001865', 'v_001866', 'v_001867', 'v_001868', 'v_001869', 'v_001870', 'v_001871', 'v_001872', 'v_001873', 'v_001874', 'v_001875', 'v_001876', 'v_001877', 'v_001878', 'v_001879', 'v_001880', 'v_001881', 'v_001882', 'v_001883', 'v_001884', 'v_001885', 'v_001886', 'v_001887', 'v_001888', 'v_001889', 'v_001890', 'v_001891', 'v_001892', 'v_001893', 'v_001894', 'v_001895', 'v_001896', 'v_001897', 'v_001898', 'v_001929', 'v_001930', 'v_001931', 'v_001932', 'v_001933', 'v_001934', 'v_001935', 'v_001936', 'v_001937', 'v_001938', 'v_001939', 'v_001940', 'v_001941', 'v_001942', 'v_001943', 'v_001944', 'v_001945', 'v_001946', 'v_001947', 'v_001948', 'v_001949', 'v_001950', 'v_001951', 'v_001952', 'v_001953', 'v_001954', 'v_001955', 'v_001956', 'v_001957', 'v_001958', 'v_001959', 'v_001960', 'v_001961', 'v_001962', 'v_001963', 'v_001964', 'v_001965', 'v_001966', 'v_001967', 'v_001968', 'v_001969', 'v_001970', 'v_001971', 'v_001972', 'v_001973', 'v_001974', 'v_001975', 'v_001976', 'v_001977', 'v_001978', 'v_001979', 'v_001980', 'v_001981', 'v_001982', 'v_001983', 'v_001984', 'v_001985', 'v_001986', 'v_001987', 'v_001988', 'v_001989', 'v_001990', 'v_001991', 'v_001992', 'v_001993', 'v_001994', 'v_001995', 'v_001996', 'v_001997', 'v_001998', 'v_001999', 'v_002000', 'v_002001', 'v_002002', 'v_002003', 'v_002004', 'v_002005', 'v_002006', 'v_002007', 'v_002008', 'v_002009', 'v_002010', 'v_002054', 'v_002055', 'v_002056', 'v_002057', 'v_002058', 'v_002059', 'v_002060', 'v_002061', 'v_002062', 'v_002063', 'v_002064', 'v_002065', 'v_002066', 'v_002067', 'v_002068', 'v_002069', 'v_002070', 'v_002071', 'v_002072', 'v_002073', 'v_002074', 'v_002075', 'v_002076', 'v_002077', 'v_002078', 'v_002079', 'v_002080', 'v_002081', 'v_002082', 'v_002083', 'v_002084', 'v_002085', 'v_002086', 'v_002087', 'v_002088', 'v_002089', 'v_002090', 'v_002091', 'v_002092', 'v_002093', 'v_002094', 'v_002095', 'v_002096', 'v_002097', 'v_002098', 'v_002099', 'v_002100', 'v_002101', 'v_002102', 'v_002103', 'v_002104', 'v_002105', 'v_002106', 'v_002107', 'v_002108', 'v_002109', 'v_002110', 'v_002111', 'v_002112', 'v_002113', 'v_002114', 'v_002115', 'v_002116', 'v_002117', 'v_002118', 'v_002119', 'v_002120', 'v_002121', 'v_002122', 'v_002123', 'v_002124', 'v_002125', 'v_002126', 'v_002127', 'v_002128', 'v_002129', 'v_002130', 'v_002131', 'v_002132', 'v_002133', 'v_002134', 'v_002135', 'v_002136', 'v_002137', 'v_002138', 'v_002139', 'v_002140', 'v_002141', 'v_002142', 'v_002143', 'v_002144', 'v_002145', 'v_002146', 'v_002147', 'v_002148', 'v_002149', 'v_002150', 'v_002151', 'v_002152', 'v_002153', 'v_002154', 'v_002155', 'v_002156', 'v_002157', 'v_002158', 'v_002159', 'v_002160', 'v_002161', 'v_002162', 'v_002163', 'v_002164', 'v_002165', 'v_002215', 'v_002216', 'v_002217', 'v_002218', 'v_002219', 'v_002220', 'v_002221', 'v_002222', 'v_002223', 'v_002224', 'v_002225', 'v_002226', 'v_002227', 'v_002228', 'v_002229', 'v_002230', 'v_002231', 'v_002232', 'v_002233', 'v_002234', 'v_002235', 'v_002236', 'v_002237', 'v_002238', 'v_002239', 'v_002240', 'v_002241', 'v_002242', 'v_002243', 'v_002244', 'v_002245', 'v_002246', 'v_002247', 'v_002248', 'v_002249', 'v_002250', 'v_002251', 'v_002252', 'v_002253', 'v_002254', 'v_002255', 'v_002256', 'v_002257', 'v_002258', 'v_002259', 'v_002260', 'v_002261', 'v_002262', 'v_002263', 'v_002264', 'v_002265', 'v_002266', 'v_002267', 'v_002268', 'v_002269', 'v_002270', 'v_002271', 'v_002272', 'v_002273', 'v_002274', 'v_002275', 'v_002276', 'v_002277', 'v_002278', 'v_002279', 'v_002280', 'v_002281', 'v_002282', 'v_002283', 'v_002284', 'v_002285', 'v_002286', 'v_002287', 'v_002288', 'v_002289', 'v_002290', 'v_002291', 'v_002292', 'v_002293', 'v_002294', 'v_002295', 'v_002296', 'v_002297', 'v_002298', 'v_002299', 'v_002300', 'v_002301', 'v_002302', 'v_002303', 'v_002304', 'v_002305', 'v_002306', 'v_002307', 'v_002308', 'v_002309', 'v_002310', 'v_002311', 'v_002312', 'v_002313', 'v_002314', 'v_002315', 'v_002316', 'v_002317', 'v_002318', 'v_002319', 'v_002320', 'v_002321', 'v_002322', 'v_002323', 'v_002324', 'v_002325', 'v_002326', 'v_002327', 'v_002328', 'v_002366', 'v_002367', 'v_002368', 'v_002369', 'v_002370', 'v_002371', 'v_002372', 'v_002373', 'v_002374', 'v_002375', 'v_002376', 'v_002377', 'v_002378', 'v_002379', 'v_002380', 'v_002381', 'v_002382', 'v_002383', 'v_002384', 'v_002385', 'v_002386', 'v_002387', 'v_002388', 'v_002389', 'v_002390', 'v_002391', 'v_002392', 'v_002393', 'v_002394', 'v_002395', 'v_002396', 'v_002397', 'v_002398', 'v_002399', 'v_002400', 'v_002401', 'v_002402', 'v_002403', 'v_002404', 'v_002405', 'v_002406', 'v_002407', 'v_002408', 'v_002409', 'v_002410', 'v_002411', 'v_002412', 'v_002413', 'v_002414', 'v_002415', 'v_002416', 'v_002417', 'v_002418', 'v_002419', 'v_002420', 'v_002421', 'v_002422', 'v_002423', 'v_002424', 'v_002425', 'v_002426', 'v_002427', 'v_002428', 'v_002429', 'v_002430', 'v_002431', 'v_002432', 'v_002433', 'v_002434', 'v_002435', 'v_002436', 'v_002437', 'v_002438', 'v_002439', 'v_002440', 'v_002441', 'v_002442', 'v_002443', 'v_002444', 'v_002445', 'v_002446', 'v_002447', 'v_002448', 'v_002449', 'v_002450', 'v_002451', 'v_002452', 'v_002453', 'v_002454', 'v_002455', 'v_002456', 'v_002457', 'v_002458', 'v_002459', 'v_002460', 'v_002461', 'v_002462', 'v_002491', 'v_002492', 'v_002493', 'v_002494', 'v_002495', 'v_002496', 'v_002497', 'v_002498', 'v_002499', 'v_002500', 'v_002501', 'v_002502', 'v_002503', 'v_002504', 'v_002505', 'v_002506', 'v_002507', 'v_002508', 'v_002509', 'v_002510', 'v_002511', 'v_002512', 'v_002513', 'v_002514', 'v_002515', 'v_002516', 'v_002517', 'v_002518', 'v_002519', 'v_002520', 'v_002521', 'v_002522', 'v_002523', 'v_002524', 'v_002525', 'v_002526', 'v_002527', 'v_002528', 'v_002529', 'v_002530', 'v_002531', 'v_002532', 'v_002533', 'v_002534', 'v_002535', 'v_002536', 'v_002537', 'v_002538', 'v_002539', 'v_002540', 'v_002541', 'v_002542', 'v_002543', 'v_002544', 'v_002545', 'v_002546', 'v_002547', 'v_002548', 'v_002549', 'v_002550', 'v_002551', 'v_002552', 'v_002553', 'v_002554', 'v_002555', 'v_002556', 'v_002557', 'v_002558', 'v_002559', 'v_002560', 'v_002561', 'v_002562', 'v_002563', 'v_002600', 'v_002601', 'v_002602', 'v_002603', 'v_002604', 'v_002605', 'v_002606', 'v_002607', 'v_002608', 'v_002609', 'v_002610', 'v_002611', 'v_002612', 'v_002613', 'v_002614', 'v_002615', 'v_002616', 'v_002617', 'v_002618', 'v_002619', 'v_002620', 'v_002621', 'v_002622', 'v_002623', 'v_002624', 'v_002625', 'v_002626', 'v_002627', 'v_002628', 'v_002629', 'v_002630', 'v_002631', 'v_002632', 'v_002633', 'v_002634', 'v_002635', 'v_002636', 'v_002637', 'v_002638', 'v_002639', 'v_002640', 'v_002641', 'v_002642', 'v_002643', 'v_002644', 'v_002645', 'v_002646', 'v_002647', 'v_002648', 'v_002649', 'v_002650', 'v_002651', 'v_002652', 'v_002653', 'v_002654', 'v_002655', 'v_002656', 'v_002657', 'v_002658', 'v_002659', 'v_002660', 'v_002661', 'v_002662', 'v_002663', 'v_002664', 'v_002665', 'v_002666', 'v_002667', 'v_002668', 'v_002669', 'v_002670', 'v_002671', 'v_002672', 'v_002673', 'v_002674', 'v_002675', 'v_002676', 'v_002677', 'v_002678', 'v_002679', 'v_002680', 'v_002681', 'v_002682', 'v_002683', 'v_002684', 'v_002685', 'v_002686', 'v_002687', 'v_002688', 'v_002689', 'v_002690', 'v_002691', 'v_002692', 'v_002693', 'v_002694', 'v_002728', 'v_002729', 'v_002730', 'v_002731', 'v_002732', 'v_002733', 'v_002734', 'v_002735', 'v_002736', 'v_002737', 'v_002738', 'v_002739', 'v_002740', 'v_002741', 'v_002742', 'v_002743', 'v_002744', 'v_002745', 'v_002746', 'v_002747', 'v_002748', 'v_002749', 'v_002750', 'v_002751', 'v_002752', 'v_002753', 'v_002754', 'v_002755', 'v_002756', 'v_002757', 'v_002758', 'v_002759', 'v_002760', 'v_002761', 'v_002762', 'v_002763', 'v_002764', 'v_002765', 'v_002766', 'v_002767', 'v_002768', 'v_002769', 'v_002770', 'v_002771', 'v_002772', 'v_002773', 'v_002774', 'v_002775', 'v_002776', 'v_002777', 'v_002778', 'v_002779', 'v_002780', 'v_002781', 'v_002782', 'v_002783', 'v_002784', 'v_002785', 'v_002786', 'v_002787', 'v_002788', 'v_002789', 'v_002790', 'v_002791', 'v_002792', 'v_002793', 'v_002794', 'v_002795', 'v_002796', 'v_002797', 'v_002798', 'v_002799', 'v_002800', 'v_002801', 'v_002802', 'v_002803', 'v_002804', 'v_002805', 'v_002806', 'v_002846', 'v_002847', 'v_002848', 'v_002849', 'v_002850', 'v_002851', 'v_002852', 'v_002853', 'v_002854', 'v_002855', 'v_002856', 'v_002857', 'v_002858', 'v_002859', 'v_002860', 'v_002861', 'v_002862', 'v_002863', 'v_002864', 'v_002865', 'v_002866', 'v_002867', 'v_002868', 'v_002869', 'v_002870', 'v_002871', 'v_002872', 'v_002873', 'v_002874', 'v_002875', 'v_002876', 'v_002877', 'v_002878', 'v_002879', 'v_002880', 'v_002881', 'v_002882', 'v_002883', 'v_002884', 'v_002885', 'v_002886', 'v_002887', 'v_002888', 'v_002889', 'v_002890', 'v_002891', 'v_002892', 'v_002893', 'v_002894', 'v_002895', 'v_002896', 'v_002897', 'v_002898', 'v_002899', 'v_002900', 'v_002901', 'v_002902', 'v_002903', 'v_002904', 'v_002905', 'v_002906', 'v_002907', 'v_002908', 'v_002909', 'v_002910', 'v_002911', 'v_002912', 'v_002913', 'v_002914', 'v_002915', 'v_002916', 'v_002917', 'v_002918', 'v_002919', 'v_002920', 'v_002921', 'v_002922', 'v_002923', 'v_002924', 'v_002925', 'v_002926', 'v_002927', 'v_002928', 'v_002929', 'v_002930', 'v_002931', 'v_002932', 'v_002933', 'v_002934', 'v_002935', 'v_002936', 'v_002937', 'v_002938', 'v_002939', 'v_002940', 'v_002941', 'v_002942', 'v_002943', 'v_002944', 'v_002981', 'v_002982', 'v_002983', 'v_002984', 'v_002985', 'v_002986', 'v_002987', 'v_002988', 'v_002989', 'v_002990', 'v_002991', 'v_002992', 'v_002993', 'v_002994', 'v_002995', 'v_002996', 'v_002997', 'v_002998', 'v_002999', 'v_003000', 'v_003001', 'v_003002', 'v_003003', 'v_003004', 'v_003005', 'v_003006', 'v_003007', 'v_003008', 'v_003009', 'v_003010', 'v_003011', 'v_003012', 'v_003013', 'v_003014', 'v_003015', 'v_003016', 'v_003017', 'v_003018', 'v_003019', 'v_003020', 'v_003021', 'v_003022', 'v_003023', 'v_003024', 'v_003025', 'v_003026', 'v_003027', 'v_003028', 'v_003029', 'v_003030', 'v_003031', 'v_003032', 'v_003033', 'v_003034', 'v_003035', 'v_003036', 'v_003037', 'v_003038', 'v_003039', 'v_003040', 'v_003041', 'v_003042', 'v_003043', 'v_003044', 'v_003045', 'v_003046', 'v_003047', 'v_003048', 'v_003049', 'v_003050', 'v_003051', 'v_003052', 'v_003053', 'v_003054', 'v_003055', 'v_003056', 'v_003057', 'v_003058', 'v_003059', 'v_003060', 'v_003061', 'v_003062', 'v_003063', 'v_003064', 'v_003065', 'v_003066', 'v_003067', 'v_003068', 'v_003069', 'v_003070', 'v_003071', 'v_003072', 'v_003073', 'v_003074', 'v_003075', 'v_003076', 'v_003077', 'v_003078', 'v_003079', 'v_003080', 'v_003081', 'v_003082', 'v_003083', 'v_003133', 'v_003134', 'v_003135', 'v_003136', 'v_003137', 'v_003138', 'v_003139', 'v_003140', 'v_003141', 'v_003142', 'v_003143', 'v_003144', 'v_003145', 'v_003146', 'v_003147', 'v_003148', 'v_003149', 'v_003150', 'v_003151', 'v_003152', 'v_003153', 'v_003154', 'v_003155', 'v_003156', 'v_003157', 'v_003158', 'v_003159', 'v_003160', 'v_003161', 'v_003162', 'v_003163', 'v_003164', 'v_003165', 'v_003166', 'v_003167', 'v_003168', 'v_003169', 'v_003170', 'v_003171', 'v_003172', 'v_003173', 'v_003174', 'v_003175', 'v_003176', 'v_003177', 'v_003178', 'v_003179', 'v_003180', 'v_003181', 'v_003182', 'v_003183', 'v_003184', 'v_003185', 'v_003186', 'v_003187', 'v_003188', 'v_003189', 'v_003190', 'v_003191', 'v_003192', 'v_003193', 'v_003194', 'v_003195', 'v_003196', 'v_003197', 'v_003198', 'v_003199', 'v_003200', 'v_003201', 'v_003202', 'v_003203', 'v_003204', 'v_003205', 'v_003206', 'v_003207', 'v_003208', 'v_003209', 'v_003210', 'v_003211', 'v_003212', 'v_003213', 'v_003214', 'v_003215', 'v_003216', 'v_003217', 'v_003218', 'v_003219', 'v_003220', 'v_003221', 'v_003222', 'v_003223', 'v_003224', 'v_003225', 'v_003226', 'v_003227', 'v_003228', 'v_003229', 'v_003230', 'v_003231', 'v_003232', 'v_003233', 'v_003234', 'v_003235', 'v_003236', 'v_003237', 'v_003238', 'v_003239', 'v_003240', 'v_003241', 'v_003242', 'v_003243', 'v_003244', 'v_003245', 'v_003246', 'v_003247', 'v_003248', 'v_003249', 'v_003250', 'v_003284', 'v_003285', 'v_003286', 'v_003287', 'v_003288', 'v_003289', 'v_003290', 'v_003291', 'v_003292', 'v_003293', 'v_003294', 'v_003295', 'v_003296', 'v_003297', 'v_003298', 'v_003299', 'v_003300', 'v_003301', 'v_003302', 'v_003303', 'v_003304', 'v_003305', 'v_003306', 'v_003307', 'v_003308', 'v_003309', 'v_003310', 'v_003311', 'v_003312', 'v_003313', 'v_003314', 'v_003315', 'v_003316', 'v_003317', 'v_003318', 'v_003319', 'v_003320', 'v_003321', 'v_003322', 'v_003323', 'v_003324', 'v_003325', 'v_003326', 'v_003327', 'v_003328', 'v_003329', 'v_003330', 'v_003331', 'v_003332', 'v_003333', 'v_003334', 'v_003335', 'v_003336', 'v_003337', 'v_003338', 'v_003339', 'v_003340', 'v_003341', 'v_003342', 'v_003343', 'v_003344', 'v_003345', 'v_003346', 'v_003347', 'v_003348', 'v_003349', 'v_003350', 'v_003351', 'v_003352', 'v_003353', 'v_003354', 'v_003355', 'v_003356', 'v_003357', 'v_003358', 'v_003359', 'v_003360']\n",
            "['1', '1', '1', '1', '1', '1', '1', '1', '1', '1', '1', '1', '1', '1', '1', '1', '1', '1', '1', '1', '1', '1', '1', '1', '1', '1', '1', '1', '1', '1', '1', '1', '1', '1', '1', '1', '1', '1', '1', '1', '1', '1', '1', '1', '1', '1', '1', '1', '1', '1', '1', '1', '1', '1', '1', '1', '1', '1', '1', '1', '1', '1', '1', '1', '1', '1', '1', '1', '1', '1', '1', '1', '1', '1', '1', '1', '1', '1', '1', '1', '1', '1', '1', '1', '1', '1', '1', '1', '1', '1', '1', '1', '1', '1', '1', '1', '1', '1', '1', '1', '1', '2', '2', '2', '2', '2', '2', '2', '2', '2', '2', '2', '2', '2', '2', '2', '2', '2', '2', '2', '2', '2', '2', '2', '2', '2', '2', '2', '2', '2', '2', '2', '2', '2', '2', '2', '2', '2', '2', '2', '2', '2', '2', '2', '2', '2', '2', '2', '2', '2', '2', '2', '2', '2', '2', '2', '2', '2', '2', '2', '2', '2', '2', '2', '2', '2', '2', '2', '2', '2', '2', '2', '2', '2', '2', '2', '2', '2', '2', '2', '2', '2', '2', '3', '3', '3', '3', '3', '3', '3', '3', '3', '3', '3', '3', '3', '3', '3', '3', '3', '3', '3', '3', '3', '3', '3', '3', '3', '3', '3', '3', '3', '3', '3', '3', '3', '3', '3', '3', '3', '3', '3', '3', '3', '3', '3', '3', '3', '3', '3', '3', '3', '3', '3', '3', '3', '3', '3', '3', '3', '3', '3', '3', '3', '3', '3', '3', '3', '3', '3', '3', '3', '3', '3', '3', '3', '3', '3', '3', '3', '3', '3', '3', '3', '3', '3', '3', '3', '3', '3', '3', '3', '3', '3', '3', '3', '3', '3', '3', '3', '3', '3', '3', '3', '3', '3', '3', '4', '4', '4', '4', '4', '4', '4', '4', '4', '4', '4', '4', '4', '4', '4', '4', '4', '4', '4', '4', '4', '4', '4', '4', '4', '4', '4', '4', '4', '4', '4', '4', '4', '4', '4', '4', '4', '4', '4', '4', '4', '4', '4', '4', '4', '4', '4', '4', '4', '4', '4', '4', '4', '4', '4', '4', '4', '4', '4', '4', '4', '4', '4', '4', '4', '4', '4', '4', '4', '4', '4', '4', '4', '4', '4', '4', '4', '4', '4', '4', '4', '4', '4', '4', '4', '4', '4', '4', '4', '4', '4', '4', '4', '4', '4', '4', '4', '5', '5', '5', '5', '5', '5', '5', '5', '5', '5', '5', '5', '5', '5', '5', '5', '5', '5', '5', '5', '5', '5', '5', '5', '5', '5', '5', '5', '5', '5', '5', '5', '5', '5', '5', '5', '5', '5', '5', '5', '5', '5', '5', '5', '5', '5', '5', '5', '5', '5', '5', '5', '5', '5', '5', '5', '5', '5', '5', '5', '5', '5', '5', '5', '5', '5', '5', '5', '5', '5', '5', '5', '5', '5', '5', '5', '5', '6', '6', '6', '6', '6', '6', '6', '6', '6', '6', '6', '6', '6', '6', '6', '6', '6', '6', '6', '6', '6', '6', '6', '6', '6', '6', '6', '6', '6', '6', '6', '6', '6', '6', '6', '6', '6', '6', '6', '6', '6', '6', '6', '6', '6', '6', '6', '6', '6', '6', '6', '6', '6', '6', '6', '6', '6', '6', '6', '6', '6', '6', '6', '6', '6', '6', '6', '6', '6', '6', '6', '6', '6', '6', '6', '6', '6', '6', '6', '6', '6', '6', '6', '6', '6', '6', '6', '6', '6', '6', '6', '6', '6', '6', '6', '6', '6', '6', '6', '6', '6', '6', '6', '6', '6', '6', '6', '6', '6', '6', '6', '6', '7', '7', '7', '7', '7', '7', '7', '7', '7', '7', '7', '7', '7', '7', '7', '7', '7', '7', '7', '7', '7', '7', '7', '7', '7', '7', '7', '7', '7', '7', '7', '7', '7', '7', '7', '7', '7', '7', '7', '7', '7', '7', '7', '7', '7', '7', '7', '7', '7', '7', '7', '7', '7', '7', '7', '7', '7', '7', '7', '7', '7', '7', '7', '7', '7', '7', '7', '7', '7', '7', '7', '7', '7', '7', '7', '7', '7', '7', '7', '7', '7', '7', '7', '7', '7', '7', '7', '7', '7', '7', '7', '7', '7', '7', '7', '7', '7', '7', '7', '7', '7', '7', '7', '7', '7', '7', '7', '8', '8', '8', '8', '8', '8', '8', '8', '8', '8', '8', '8', '8', '8', '8', '8', '8', '8', '8', '8', '8', '8', '8', '8', '8', '8', '8', '8', '8', '8', '8', '8', '8', '8', '8', '8', '8', '8', '8', '8', '8', '8', '8', '8', '8', '8', '8', '8', '8', '8', '8', '8', '8', '8', '8', '8', '8', '8', '8', '8', '8', '8', '8', '8', '8', '8', '8', '8', '8', '8', '8', '8', '8', '8', '8', '8', '8', '8', '8', '8', '8', '8', '8', '8', '8', '8', '8', '8', '8', '8', '8', '8', '8', '8', '8', '8', '8', '8', '8', '9', '9', '9', '9', '9', '9', '9', '9', '9', '9', '9', '9', '9', '9', '9', '9', '9', '9', '9', '9', '9', '9', '9', '9', '9', '9', '9', '9', '9', '9', '9', '9', '9', '9', '9', '9', '9', '9', '9', '9', '9', '9', '9', '9', '9', '9', '9', '9', '9', '9', '9', '9', '9', '9', '9', '9', '9', '9', '9', '9', '9', '9', '9', '9', '9', '9', '9', '9', '9', '9', '9', '9', '9', '9', '9', '9', '9', '9', '9', '9', '9', '9', '9', '9', '9', '9', '9', '9', '9', '9', '9', '9', '9', '9', '10', '10', '10', '10', '10', '10', '10', '10', '10', '10', '10', '10', '10', '10', '10', '10', '10', '10', '10', '10', '10', '10', '10', '10', '10', '10', '10', '10', '10', '10', '10', '10', '10', '10', '10', '10', '10', '10', '10', '10', '10', '10', '10', '10', '10', '10', '10', '10', '10', '10', '10', '10', '10', '10', '10', '10', '10', '10', '10', '10', '10', '10', '10', '10', '10', '10', '10', '10', '10', '10', '10', '10', '10', '10', '10', '10', '10', '10', '10', '10', '10', '10', '10', '10', '10', '10', '10', '10', '10', '10', '10', '10', '10', '10', '10', '10', '10', '10', '10', '10', '10', '10', '10', '10', '10', '10', '10', '10', '10', '10', '10', '10', '11', '11', '11', '11', '11', '11', '11', '11', '11', '11', '11', '11', '11', '11', '11', '11', '11', '11', '11', '11', '11', '11', '11', '11', '11', '11', '11', '11', '11', '11', '11', '11', '11', '11', '11', '11', '11', '11', '11', '11', '11', '11', '11', '11', '11', '11', '11', '11', '11', '11', '11', '11', '11', '11', '11', '11', '11', '11', '11', '11', '11', '11', '11', '11', '11', '11', '11', '11', '11', '11', '11', '11', '11', '11', '11', '11', '11', '11', '11', '11', '11', '11', '11', '11', '11', '11', '11', '11', '11', '11', '11', '11', '11', '11', '11', '11', '12', '12', '12', '12', '12', '12', '12', '12', '12', '12', '12', '12', '12', '12', '12', '12', '12', '12', '12', '12', '12', '12', '12', '12', '12', '12', '12', '12', '12', '12', '12', '12', '12', '12', '12', '12', '12', '12', '12', '12', '12', '12', '12', '12', '12', '12', '12', '12', '12', '12', '12', '12', '12', '12', '12', '12', '12', '12', '12', '12', '12', '12', '12', '12', '12', '12', '12', '12', '12', '12', '12', '12', '12', '12', '12', '12', '12', '12', '12', '12', '12', '12', '12', '12', '12', '12', '12', '12', '12', '12', '12', '12', '12', '12', '12', '12', '12', '12', '12', '12', '12', '12', '12', '12', '12', '12', '12', '12', '12', '12', '13', '13', '13', '13', '13', '13', '13', '13', '13', '13', '13', '13', '13', '13', '13', '13', '13', '13', '13', '13', '13', '13', '13', '13', '13', '13', '13', '13', '13', '13', '13', '13', '13', '13', '13', '13', '13', '13', '13', '13', '13', '13', '13', '13', '13', '13', '13', '13', '13', '13', '13', '13', '13', '13', '13', '13', '13', '13', '13', '13', '13', '13', '13', '13', '13', '13', '13', '13', '13', '13', '13', '13', '13', '13', '13', '13', '13', '13', '13', '13', '13', '13', '13', '13', '13', '13', '13', '13', '13', '13', '13', '13', '13', '14', '14', '14', '14', '14', '14', '14', '14', '14', '14', '14', '14', '14', '14', '14', '14', '14', '14', '14', '14', '14', '14', '14', '14', '14', '14', '14', '14', '14', '14', '14', '14', '14', '14', '14', '14', '14', '14', '14', '14', '14', '14', '14', '14', '14', '14', '14', '14', '14', '14', '14', '14', '14', '14', '14', '14', '14', '14', '14', '14', '14', '14', '14', '14', '14', '14', '14', '14', '14', '14', '14', '14', '14', '14', '14', '14', '15', '15', '15', '15', '15', '15', '15', '15', '15', '15', '15', '15', '15', '15', '15', '15', '15', '15', '15', '15', '15', '15', '15', '15', '15', '15', '15', '15', '15', '15', '15', '15', '15', '15', '15', '15', '15', '15', '15', '15', '15', '15', '15', '15', '15', '15', '15', '15', '15', '15', '15', '15', '15', '15', '15', '15', '15', '15', '15', '15', '15', '15', '15', '15', '15', '15', '15', '15', '15', '15', '15', '15', '15', '15', '15', '15', '15', '15', '15', '15', '15', '15', '16', '16', '16', '16', '16', '16', '16', '16', '16', '16', '16', '16', '16', '16', '16', '16', '16', '16', '16', '16', '16', '16', '16', '16', '16', '16', '16', '16', '16', '16', '16', '16', '16', '16', '16', '16', '16', '16', '16', '16', '16', '16', '16', '16', '16', '16', '16', '16', '16', '16', '16', '16', '16', '16', '16', '16', '16', '16', '16', '16', '16', '16', '16', '16', '16', '16', '16', '16', '16', '16', '16', '16', '16', '16', '16', '16', '16', '16', '16', '16', '16', '16', '16', '16', '16', '16', '16', '16', '16', '16', '16', '16', '16', '16', '16', '16', '16', '16', '16', '16', '16', '16', '16', '16', '16', '16', '16', '16', '16', '16', '16', '16', '17', '17', '17', '17', '17', '17', '17', '17', '17', '17', '17', '17', '17', '17', '17', '17', '17', '17', '17', '17', '17', '17', '17', '17', '17', '17', '17', '17', '17', '17', '17', '17', '17', '17', '17', '17', '17', '17', '17', '17', '17', '17', '17', '17', '17', '17', '17', '17', '17', '17', '17', '17', '17', '17', '17', '17', '17', '17', '17', '17', '17', '17', '17', '17', '17', '17', '17', '17', '17', '17', '17', '17', '17', '17', '17', '17', '17', '17', '17', '17', '17', '17', '17', '17', '17', '17', '17', '17', '17', '17', '17', '17', '17', '17', '17', '17', '17', '17', '17', '17', '17', '17', '17', '17', '17', '17', '17', '17', '17', '17', '17', '17', '17', '17', '18', '18', '18', '18', '18', '18', '18', '18', '18', '18', '18', '18', '18', '18', '18', '18', '18', '18', '18', '18', '18', '18', '18', '18', '18', '18', '18', '18', '18', '18', '18', '18', '18', '18', '18', '18', '18', '18', '18', '18', '18', '18', '18', '18', '18', '18', '18', '18', '18', '18', '18', '18', '18', '18', '18', '18', '18', '18', '18', '18', '18', '18', '18', '18', '18', '18', '18', '18', '18', '18', '18', '18', '18', '18', '18', '18', '18', '18', '18', '18', '18', '18', '18', '18', '18', '18', '18', '18', '18', '18', '18', '18', '18', '18', '18', '18', '18', '19', '19', '19', '19', '19', '19', '19', '19', '19', '19', '19', '19', '19', '19', '19', '19', '19', '19', '19', '19', '19', '19', '19', '19', '19', '19', '19', '19', '19', '19', '19', '19', '19', '19', '19', '19', '19', '19', '19', '19', '19', '19', '19', '19', '19', '19', '19', '19', '19', '19', '19', '19', '19', '19', '19', '19', '19', '19', '19', '19', '19', '19', '19', '19', '19', '19', '19', '19', '19', '19', '19', '19', '19', '20', '20', '20', '20', '20', '20', '20', '20', '20', '20', '20', '20', '20', '20', '20', '20', '20', '20', '20', '20', '20', '20', '20', '20', '20', '20', '20', '20', '20', '20', '20', '20', '20', '20', '20', '20', '20', '20', '20', '20', '20', '20', '20', '20', '20', '20', '20', '20', '20', '20', '20', '20', '20', '20', '20', '20', '20', '20', '20', '20', '20', '20', '20', '20', '20', '20', '20', '20', '20', '20', '20', '20', '20', '20', '20', '20', '20', '20', '20', '20', '20', '20', '20', '20', '20', '20', '20', '20', '20', '20', '20', '20', '20', '20', '20', '21', '21', '21', '21', '21', '21', '21', '21', '21', '21', '21', '21', '21', '21', '21', '21', '21', '21', '21', '21', '21', '21', '21', '21', '21', '21', '21', '21', '21', '21', '21', '21', '21', '21', '21', '21', '21', '21', '21', '21', '21', '21', '21', '21', '21', '21', '21', '21', '21', '21', '21', '21', '21', '21', '21', '21', '21', '21', '21', '21', '21', '21', '21', '21', '21', '21', '21', '21', '21', '21', '21', '21', '21', '21', '21', '21', '21', '21', '21', '22', '22', '22', '22', '22', '22', '22', '22', '22', '22', '22', '22', '22', '22', '22', '22', '22', '22', '22', '22', '22', '22', '22', '22', '22', '22', '22', '22', '22', '22', '22', '22', '22', '22', '22', '22', '22', '22', '22', '22', '22', '22', '22', '22', '22', '22', '22', '22', '22', '22', '22', '22', '22', '22', '22', '22', '22', '22', '22', '22', '22', '22', '22', '22', '22', '22', '22', '22', '22', '22', '22', '22', '22', '22', '22', '22', '22', '22', '22', '22', '22', '22', '22', '22', '22', '22', '22', '22', '22', '22', '22', '22', '22', '22', '22', '22', '22', '22', '22', '23', '23', '23', '23', '23', '23', '23', '23', '23', '23', '23', '23', '23', '23', '23', '23', '23', '23', '23', '23', '23', '23', '23', '23', '23', '23', '23', '23', '23', '23', '23', '23', '23', '23', '23', '23', '23', '23', '23', '23', '23', '23', '23', '23', '23', '23', '23', '23', '23', '23', '23', '23', '23', '23', '23', '23', '23', '23', '23', '23', '23', '23', '23', '23', '23', '23', '23', '23', '23', '23', '23', '23', '23', '23', '23', '23', '23', '23', '23', '23', '23', '23', '23', '23', '23', '23', '23', '23', '23', '23', '23', '23', '23', '23', '23', '23', '23', '23', '23', '23', '23', '23', '23', '24', '24', '24', '24', '24', '24', '24', '24', '24', '24', '24', '24', '24', '24', '24', '24', '24', '24', '24', '24', '24', '24', '24', '24', '24', '24', '24', '24', '24', '24', '24', '24', '24', '24', '24', '24', '24', '24', '24', '24', '24', '24', '24', '24', '24', '24', '24', '24', '24', '24', '24', '24', '24', '24', '24', '24', '24', '24', '24', '24', '24', '24', '24', '24', '24', '24', '24', '24', '24', '24', '24', '24', '24', '24', '24', '24', '24', '24', '24', '24', '24', '24', '24', '24', '24', '24', '24', '24', '24', '24', '24', '24', '24', '24', '24', '24', '24', '24', '24', '24', '24', '24', '24', '24', '24', '24', '24', '24', '24', '24', '24', '24', '24', '24', '24', '24', '24', '24', '25', '25', '25', '25', '25', '25', '25', '25', '25', '25', '25', '25', '25', '25', '25', '25', '25', '25', '25', '25', '25', '25', '25', '25', '25', '25', '25', '25', '25', '25', '25', '25', '25', '25', '25', '25', '25', '25', '25', '25', '25', '25', '25', '25', '25', '25', '25', '25', '25', '25', '25', '25', '25', '25', '25', '25', '25', '25', '25', '25', '25', '25', '25', '25', '25', '25', '25', '25', '25', '25', '25', '25', '25', '25', '25', '25', '25']\n",
            "['v_000001', 'v_000002', 'v_000003', 'v_000004', 'v_000005', 'v_000006', 'v_000007', 'v_000008', 'v_000009', 'v_000010', 'v_000011', 'v_000012', 'v_000013', 'v_000014', 'v_000015', 'v_000016', 'v_000017', 'v_000018', 'v_000019', 'v_000020', 'v_000021', 'v_000022', 'v_000023', 'v_000024', 'v_000025', 'v_000026', 'v_000027', 'v_000028', 'v_000029', 'v_000030', 'v_000031', 'v_000032', 'v_000033', 'v_000034', 'v_000035', 'v_000036', 'v_000037', 'v_000038', 'v_000039', 'v_000040', 'v_000041', 'v_000042', 'v_000043', 'v_000044', 'v_000146', 'v_000147', 'v_000148', 'v_000149', 'v_000150', 'v_000151', 'v_000152', 'v_000153', 'v_000154', 'v_000155', 'v_000156', 'v_000157', 'v_000158', 'v_000159', 'v_000160', 'v_000161', 'v_000162', 'v_000163', 'v_000164', 'v_000165', 'v_000166', 'v_000167', 'v_000168', 'v_000169', 'v_000170', 'v_000171', 'v_000172', 'v_000173', 'v_000174', 'v_000175', 'v_000176', 'v_000177', 'v_000260', 'v_000261', 'v_000262', 'v_000263', 'v_000264', 'v_000265', 'v_000266', 'v_000267', 'v_000268', 'v_000269', 'v_000270', 'v_000271', 'v_000272', 'v_000273', 'v_000274', 'v_000275', 'v_000276', 'v_000277', 'v_000278', 'v_000279', 'v_000280', 'v_000281', 'v_000282', 'v_000283', 'v_000284', 'v_000285', 'v_000286', 'v_000287', 'v_000288', 'v_000289', 'v_000290', 'v_000291', 'v_000292', 'v_000293', 'v_000294', 'v_000295', 'v_000296', 'v_000297', 'v_000298', 'v_000299', 'v_000300', 'v_000405', 'v_000406', 'v_000407', 'v_000408', 'v_000409', 'v_000410', 'v_000411', 'v_000412', 'v_000413', 'v_000414', 'v_000415', 'v_000416', 'v_000417', 'v_000418', 'v_000419', 'v_000420', 'v_000421', 'v_000422', 'v_000423', 'v_000424', 'v_000425', 'v_000426', 'v_000427', 'v_000428', 'v_000429', 'v_000430', 'v_000431', 'v_000432', 'v_000433', 'v_000434', 'v_000435', 'v_000436', 'v_000437', 'v_000438', 'v_000439', 'v_000537', 'v_000538', 'v_000539', 'v_000540', 'v_000541', 'v_000542', 'v_000543', 'v_000544', 'v_000545', 'v_000546', 'v_000547', 'v_000548', 'v_000549', 'v_000550', 'v_000551', 'v_000552', 'v_000553', 'v_000554', 'v_000555', 'v_000556', 'v_000557', 'v_000558', 'v_000559', 'v_000560', 'v_000561', 'v_000562', 'v_000563', 'v_000564', 'v_000565', 'v_000566', 'v_000567', 'v_000645', 'v_000646', 'v_000647', 'v_000648', 'v_000649', 'v_000650', 'v_000651', 'v_000652', 'v_000653', 'v_000654', 'v_000655', 'v_000656', 'v_000657', 'v_000658', 'v_000659', 'v_000660', 'v_000661', 'v_000662', 'v_000663', 'v_000664', 'v_000665', 'v_000666', 'v_000667', 'v_000668', 'v_000669', 'v_000670', 'v_000671', 'v_000672', 'v_000673', 'v_000674', 'v_000675', 'v_000676', 'v_000677', 'v_000678', 'v_000679', 'v_000680', 'v_000681', 'v_000682', 'v_000683', 'v_000684', 'v_000685', 'v_000686', 'v_000687', 'v_000800', 'v_000801', 'v_000802', 'v_000803', 'v_000804', 'v_000805', 'v_000806', 'v_000807', 'v_000808', 'v_000809', 'v_000810', 'v_000811', 'v_000812', 'v_000813', 'v_000814', 'v_000815', 'v_000816', 'v_000817', 'v_000818', 'v_000819', 'v_000820', 'v_000821', 'v_000822', 'v_000823', 'v_000824', 'v_000825', 'v_000826', 'v_000827', 'v_000828', 'v_000829', 'v_000830', 'v_000831', 'v_000832', 'v_000833', 'v_000834', 'v_000835', 'v_000836', 'v_000837', 'v_000838', 'v_000839', 'v_000840', 'v_000841', 'v_000842', 'v_000950', 'v_000951', 'v_000952', 'v_000953', 'v_000954', 'v_000955', 'v_000956', 'v_000957', 'v_000958', 'v_000959', 'v_000960', 'v_000961', 'v_000962', 'v_000963', 'v_000964', 'v_000965', 'v_000966', 'v_000967', 'v_000968', 'v_000969', 'v_000970', 'v_000971', 'v_000972', 'v_000973', 'v_000974', 'v_000975', 'v_000976', 'v_000977', 'v_000978', 'v_000979', 'v_000980', 'v_000981', 'v_000982', 'v_000983', 'v_000984', 'v_001084', 'v_001085', 'v_001086', 'v_001087', 'v_001088', 'v_001089', 'v_001090', 'v_001091', 'v_001092', 'v_001093', 'v_001094', 'v_001095', 'v_001096', 'v_001097', 'v_001098', 'v_001099', 'v_001100', 'v_001101', 'v_001102', 'v_001103', 'v_001104', 'v_001105', 'v_001106', 'v_001107', 'v_001108', 'v_001109', 'v_001110', 'v_001111', 'v_001112', 'v_001113', 'v_001114', 'v_001115', 'v_001116', 'v_001117', 'v_001118', 'v_001119', 'v_001120', 'v_001215', 'v_001216', 'v_001217', 'v_001218', 'v_001219', 'v_001220', 'v_001221', 'v_001222', 'v_001223', 'v_001224', 'v_001225', 'v_001226', 'v_001227', 'v_001228', 'v_001229', 'v_001230', 'v_001231', 'v_001232', 'v_001233', 'v_001234', 'v_001235', 'v_001236', 'v_001237', 'v_001238', 'v_001239', 'v_001240', 'v_001241', 'v_001242', 'v_001243', 'v_001244', 'v_001245', 'v_001246', 'v_001247', 'v_001248', 'v_001249', 'v_001250', 'v_001251', 'v_001252', 'v_001253', 'v_001254', 'v_001255', 'v_001256', 'v_001257', 'v_001258', 'v_001259', 'v_001260', 'v_001261', 'v_001262', 'v_001375', 'v_001376', 'v_001377', 'v_001378', 'v_001379', 'v_001380', 'v_001381', 'v_001382', 'v_001383', 'v_001384', 'v_001385', 'v_001386', 'v_001387', 'v_001388', 'v_001389', 'v_001390', 'v_001391', 'v_001392', 'v_001393', 'v_001394', 'v_001395', 'v_001396', 'v_001397', 'v_001398', 'v_001399', 'v_001400', 'v_001401', 'v_001402', 'v_001403', 'v_001404', 'v_001405', 'v_001406', 'v_001407', 'v_001408', 'v_001409', 'v_001410', 'v_001411', 'v_001412', 'v_001509', 'v_001510', 'v_001511', 'v_001512', 'v_001513', 'v_001514', 'v_001515', 'v_001516', 'v_001517', 'v_001518', 'v_001519', 'v_001520', 'v_001521', 'v_001522', 'v_001523', 'v_001524', 'v_001525', 'v_001526', 'v_001527', 'v_001528', 'v_001529', 'v_001530', 'v_001531', 'v_001532', 'v_001533', 'v_001534', 'v_001535', 'v_001536', 'v_001537', 'v_001538', 'v_001539', 'v_001540', 'v_001541', 'v_001542', 'v_001543', 'v_001544', 'v_001545', 'v_001546', 'v_001547', 'v_001548', 'v_001659', 'v_001660', 'v_001661', 'v_001662', 'v_001663', 'v_001664', 'v_001665', 'v_001666', 'v_001667', 'v_001668', 'v_001669', 'v_001670', 'v_001671', 'v_001672', 'v_001673', 'v_001674', 'v_001675', 'v_001676', 'v_001677', 'v_001678', 'v_001679', 'v_001680', 'v_001681', 'v_001682', 'v_001683', 'v_001684', 'v_001685', 'v_001686', 'v_001687', 'v_001688', 'v_001689', 'v_001690', 'v_001691', 'v_001692', 'v_001693', 'v_001694', 'v_001695', 'v_001696', 'v_001790', 'v_001791', 'v_001792', 'v_001793', 'v_001794', 'v_001795', 'v_001796', 'v_001797', 'v_001798', 'v_001799', 'v_001800', 'v_001801', 'v_001802', 'v_001803', 'v_001804', 'v_001805', 'v_001806', 'v_001807', 'v_001808', 'v_001809', 'v_001810', 'v_001811', 'v_001812', 'v_001813', 'v_001814', 'v_001815', 'v_001816', 'v_001817', 'v_001818', 'v_001819', 'v_001820', 'v_001821', 'v_001822', 'v_001899', 'v_001900', 'v_001901', 'v_001902', 'v_001903', 'v_001904', 'v_001905', 'v_001906', 'v_001907', 'v_001908', 'v_001909', 'v_001910', 'v_001911', 'v_001912', 'v_001913', 'v_001914', 'v_001915', 'v_001916', 'v_001917', 'v_001918', 'v_001919', 'v_001920', 'v_001921', 'v_001922', 'v_001923', 'v_001924', 'v_001925', 'v_001926', 'v_001927', 'v_001928', 'v_002011', 'v_002012', 'v_002013', 'v_002014', 'v_002015', 'v_002016', 'v_002017', 'v_002018', 'v_002019', 'v_002020', 'v_002021', 'v_002022', 'v_002023', 'v_002024', 'v_002025', 'v_002026', 'v_002027', 'v_002028', 'v_002029', 'v_002030', 'v_002031', 'v_002032', 'v_002033', 'v_002034', 'v_002035', 'v_002036', 'v_002037', 'v_002038', 'v_002039', 'v_002040', 'v_002041', 'v_002042', 'v_002043', 'v_002044', 'v_002045', 'v_002046', 'v_002047', 'v_002048', 'v_002049', 'v_002050', 'v_002051', 'v_002052', 'v_002053', 'v_002166', 'v_002167', 'v_002168', 'v_002169', 'v_002170', 'v_002171', 'v_002172', 'v_002173', 'v_002174', 'v_002175', 'v_002176', 'v_002177', 'v_002178', 'v_002179', 'v_002180', 'v_002181', 'v_002182', 'v_002183', 'v_002184', 'v_002185', 'v_002186', 'v_002187', 'v_002188', 'v_002189', 'v_002190', 'v_002191', 'v_002192', 'v_002193', 'v_002194', 'v_002195', 'v_002196', 'v_002197', 'v_002198', 'v_002199', 'v_002200', 'v_002201', 'v_002202', 'v_002203', 'v_002204', 'v_002205', 'v_002206', 'v_002207', 'v_002208', 'v_002209', 'v_002210', 'v_002211', 'v_002212', 'v_002213', 'v_002214', 'v_002329', 'v_002330', 'v_002331', 'v_002332', 'v_002333', 'v_002334', 'v_002335', 'v_002336', 'v_002337', 'v_002338', 'v_002339', 'v_002340', 'v_002341', 'v_002342', 'v_002343', 'v_002344', 'v_002345', 'v_002346', 'v_002347', 'v_002348', 'v_002349', 'v_002350', 'v_002351', 'v_002352', 'v_002353', 'v_002354', 'v_002355', 'v_002356', 'v_002357', 'v_002358', 'v_002359', 'v_002360', 'v_002361', 'v_002362', 'v_002363', 'v_002364', 'v_002365', 'v_002463', 'v_002464', 'v_002465', 'v_002466', 'v_002467', 'v_002468', 'v_002469', 'v_002470', 'v_002471', 'v_002472', 'v_002473', 'v_002474', 'v_002475', 'v_002476', 'v_002477', 'v_002478', 'v_002479', 'v_002480', 'v_002481', 'v_002482', 'v_002483', 'v_002484', 'v_002485', 'v_002486', 'v_002487', 'v_002488', 'v_002489', 'v_002490', 'v_002564', 'v_002565', 'v_002566', 'v_002567', 'v_002568', 'v_002569', 'v_002570', 'v_002571', 'v_002572', 'v_002573', 'v_002574', 'v_002575', 'v_002576', 'v_002577', 'v_002578', 'v_002579', 'v_002580', 'v_002581', 'v_002582', 'v_002583', 'v_002584', 'v_002585', 'v_002586', 'v_002587', 'v_002588', 'v_002589', 'v_002590', 'v_002591', 'v_002592', 'v_002593', 'v_002594', 'v_002595', 'v_002596', 'v_002597', 'v_002598', 'v_002599', 'v_002695', 'v_002696', 'v_002697', 'v_002698', 'v_002699', 'v_002700', 'v_002701', 'v_002702', 'v_002703', 'v_002704', 'v_002705', 'v_002706', 'v_002707', 'v_002708', 'v_002709', 'v_002710', 'v_002711', 'v_002712', 'v_002713', 'v_002714', 'v_002715', 'v_002716', 'v_002717', 'v_002718', 'v_002719', 'v_002720', 'v_002721', 'v_002722', 'v_002723', 'v_002724', 'v_002725', 'v_002726', 'v_002727', 'v_002807', 'v_002808', 'v_002809', 'v_002810', 'v_002811', 'v_002812', 'v_002813', 'v_002814', 'v_002815', 'v_002816', 'v_002817', 'v_002818', 'v_002819', 'v_002820', 'v_002821', 'v_002822', 'v_002823', 'v_002824', 'v_002825', 'v_002826', 'v_002827', 'v_002828', 'v_002829', 'v_002830', 'v_002831', 'v_002832', 'v_002833', 'v_002834', 'v_002835', 'v_002836', 'v_002837', 'v_002838', 'v_002839', 'v_002840', 'v_002841', 'v_002842', 'v_002843', 'v_002844', 'v_002845', 'v_002945', 'v_002946', 'v_002947', 'v_002948', 'v_002949', 'v_002950', 'v_002951', 'v_002952', 'v_002953', 'v_002954', 'v_002955', 'v_002956', 'v_002957', 'v_002958', 'v_002959', 'v_002960', 'v_002961', 'v_002962', 'v_002963', 'v_002964', 'v_002965', 'v_002966', 'v_002967', 'v_002968', 'v_002969', 'v_002970', 'v_002971', 'v_002972', 'v_002973', 'v_002974', 'v_002975', 'v_002976', 'v_002977', 'v_002978', 'v_002979', 'v_002980', 'v_003084', 'v_003085', 'v_003086', 'v_003087', 'v_003088', 'v_003089', 'v_003090', 'v_003091', 'v_003092', 'v_003093', 'v_003094', 'v_003095', 'v_003096', 'v_003097', 'v_003098', 'v_003099', 'v_003100', 'v_003101', 'v_003102', 'v_003103', 'v_003104', 'v_003105', 'v_003106', 'v_003107', 'v_003108', 'v_003109', 'v_003110', 'v_003111', 'v_003112', 'v_003113', 'v_003114', 'v_003115', 'v_003116', 'v_003117', 'v_003118', 'v_003119', 'v_003120', 'v_003121', 'v_003122', 'v_003123', 'v_003124', 'v_003125', 'v_003126', 'v_003127', 'v_003128', 'v_003129', 'v_003130', 'v_003131', 'v_003132', 'v_003251', 'v_003252', 'v_003253', 'v_003254', 'v_003255', 'v_003256', 'v_003257', 'v_003258', 'v_003259', 'v_003260', 'v_003261', 'v_003262', 'v_003263', 'v_003264', 'v_003265', 'v_003266', 'v_003267', 'v_003268', 'v_003269', 'v_003270', 'v_003271', 'v_003272', 'v_003273', 'v_003274', 'v_003275', 'v_003276', 'v_003277', 'v_003278', 'v_003279', 'v_003280', 'v_003281', 'v_003282', 'v_003283']\n",
            "['1', '1', '1', '1', '1', '1', '1', '1', '1', '1', '1', '1', '1', '1', '1', '1', '1', '1', '1', '1', '1', '1', '1', '1', '1', '1', '1', '1', '1', '1', '1', '1', '1', '1', '1', '1', '1', '1', '1', '1', '1', '1', '1', '1', '2', '2', '2', '2', '2', '2', '2', '2', '2', '2', '2', '2', '2', '2', '2', '2', '2', '2', '2', '2', '2', '2', '2', '2', '2', '2', '2', '2', '2', '2', '2', '2', '3', '3', '3', '3', '3', '3', '3', '3', '3', '3', '3', '3', '3', '3', '3', '3', '3', '3', '3', '3', '3', '3', '3', '3', '3', '3', '3', '3', '3', '3', '3', '3', '3', '3', '3', '3', '3', '3', '3', '3', '3', '4', '4', '4', '4', '4', '4', '4', '4', '4', '4', '4', '4', '4', '4', '4', '4', '4', '4', '4', '4', '4', '4', '4', '4', '4', '4', '4', '4', '4', '4', '4', '4', '4', '4', '4', '5', '5', '5', '5', '5', '5', '5', '5', '5', '5', '5', '5', '5', '5', '5', '5', '5', '5', '5', '5', '5', '5', '5', '5', '5', '5', '5', '5', '5', '5', '5', '6', '6', '6', '6', '6', '6', '6', '6', '6', '6', '6', '6', '6', '6', '6', '6', '6', '6', '6', '6', '6', '6', '6', '6', '6', '6', '6', '6', '6', '6', '6', '6', '6', '6', '6', '6', '6', '6', '6', '6', '6', '6', '6', '7', '7', '7', '7', '7', '7', '7', '7', '7', '7', '7', '7', '7', '7', '7', '7', '7', '7', '7', '7', '7', '7', '7', '7', '7', '7', '7', '7', '7', '7', '7', '7', '7', '7', '7', '7', '7', '7', '7', '7', '7', '7', '7', '8', '8', '8', '8', '8', '8', '8', '8', '8', '8', '8', '8', '8', '8', '8', '8', '8', '8', '8', '8', '8', '8', '8', '8', '8', '8', '8', '8', '8', '8', '8', '8', '8', '8', '8', '9', '9', '9', '9', '9', '9', '9', '9', '9', '9', '9', '9', '9', '9', '9', '9', '9', '9', '9', '9', '9', '9', '9', '9', '9', '9', '9', '9', '9', '9', '9', '9', '9', '9', '9', '9', '9', '10', '10', '10', '10', '10', '10', '10', '10', '10', '10', '10', '10', '10', '10', '10', '10', '10', '10', '10', '10', '10', '10', '10', '10', '10', '10', '10', '10', '10', '10', '10', '10', '10', '10', '10', '10', '10', '10', '10', '10', '10', '10', '10', '10', '10', '10', '10', '10', '11', '11', '11', '11', '11', '11', '11', '11', '11', '11', '11', '11', '11', '11', '11', '11', '11', '11', '11', '11', '11', '11', '11', '11', '11', '11', '11', '11', '11', '11', '11', '11', '11', '11', '11', '11', '11', '11', '12', '12', '12', '12', '12', '12', '12', '12', '12', '12', '12', '12', '12', '12', '12', '12', '12', '12', '12', '12', '12', '12', '12', '12', '12', '12', '12', '12', '12', '12', '12', '12', '12', '12', '12', '12', '12', '12', '12', '12', '13', '13', '13', '13', '13', '13', '13', '13', '13', '13', '13', '13', '13', '13', '13', '13', '13', '13', '13', '13', '13', '13', '13', '13', '13', '13', '13', '13', '13', '13', '13', '13', '13', '13', '13', '13', '13', '13', '14', '14', '14', '14', '14', '14', '14', '14', '14', '14', '14', '14', '14', '14', '14', '14', '14', '14', '14', '14', '14', '14', '14', '14', '14', '14', '14', '14', '14', '14', '14', '14', '14', '15', '15', '15', '15', '15', '15', '15', '15', '15', '15', '15', '15', '15', '15', '15', '15', '15', '15', '15', '15', '15', '15', '15', '15', '15', '15', '15', '15', '15', '15', '16', '16', '16', '16', '16', '16', '16', '16', '16', '16', '16', '16', '16', '16', '16', '16', '16', '16', '16', '16', '16', '16', '16', '16', '16', '16', '16', '16', '16', '16', '16', '16', '16', '16', '16', '16', '16', '16', '16', '16', '16', '16', '16', '17', '17', '17', '17', '17', '17', '17', '17', '17', '17', '17', '17', '17', '17', '17', '17', '17', '17', '17', '17', '17', '17', '17', '17', '17', '17', '17', '17', '17', '17', '17', '17', '17', '17', '17', '17', '17', '17', '17', '17', '17', '17', '17', '17', '17', '17', '17', '17', '17', '18', '18', '18', '18', '18', '18', '18', '18', '18', '18', '18', '18', '18', '18', '18', '18', '18', '18', '18', '18', '18', '18', '18', '18', '18', '18', '18', '18', '18', '18', '18', '18', '18', '18', '18', '18', '18', '19', '19', '19', '19', '19', '19', '19', '19', '19', '19', '19', '19', '19', '19', '19', '19', '19', '19', '19', '19', '19', '19', '19', '19', '19', '19', '19', '19', '20', '20', '20', '20', '20', '20', '20', '20', '20', '20', '20', '20', '20', '20', '20', '20', '20', '20', '20', '20', '20', '20', '20', '20', '20', '20', '20', '20', '20', '20', '20', '20', '20', '20', '20', '20', '21', '21', '21', '21', '21', '21', '21', '21', '21', '21', '21', '21', '21', '21', '21', '21', '21', '21', '21', '21', '21', '21', '21', '21', '21', '21', '21', '21', '21', '21', '21', '21', '21', '22', '22', '22', '22', '22', '22', '22', '22', '22', '22', '22', '22', '22', '22', '22', '22', '22', '22', '22', '22', '22', '22', '22', '22', '22', '22', '22', '22', '22', '22', '22', '22', '22', '22', '22', '22', '22', '22', '22', '23', '23', '23', '23', '23', '23', '23', '23', '23', '23', '23', '23', '23', '23', '23', '23', '23', '23', '23', '23', '23', '23', '23', '23', '23', '23', '23', '23', '23', '23', '23', '23', '23', '23', '23', '23', '24', '24', '24', '24', '24', '24', '24', '24', '24', '24', '24', '24', '24', '24', '24', '24', '24', '24', '24', '24', '24', '24', '24', '24', '24', '24', '24', '24', '24', '24', '24', '24', '24', '24', '24', '24', '24', '24', '24', '24', '24', '24', '24', '24', '24', '24', '24', '24', '24', '25', '25', '25', '25', '25', '25', '25', '25', '25', '25', '25', '25', '25', '25', '25', '25', '25', '25', '25', '25', '25', '25', '25', '25', '25', '25', '25', '25', '25', '25', '25', '25', '25']\n"
          ],
          "name": "stdout"
        }
      ]
    },
    {
      "cell_type": "code",
      "metadata": {
        "id": "uKm-KF7r2oan",
        "colab_type": "code",
        "colab": {}
      },
      "source": [
        "def imgResize(img,size=(224,224)):\n",
        "  # print(img.shape)\n",
        "  # list = []\n",
        "  # list.append(img[:size[0],:size[1]])\n",
        "  # list.append(img[(img.shape[0]-size[0]):,:size[1]])\n",
        "  # list.append(img[:size[1],(img.shape[1]-size[1]):])\n",
        "  # list.append(img[(img.shape[0]-size[0]):,(img.shape[1]-size[1]):])\n",
        "  # list.append(img[(img.shape[0]-size[0])//2:(img.shape[0]+size[0])//2,(img.shape[1]-size[1])//2:(img.shape[1]+size[1])//2])\n",
        "\n",
        "  # print(list[0].shape)\n",
        "  # test = np.zeros((size[0], size[1], 3), dtype=np.int)\n",
        "  # for i in range(size[0]):\n",
        "  #   for j in range(size[1]):\n",
        "  #     im\n",
        "  # return list\n",
        "  list =  (img[:, :size[0], :size[1]], img[:, (img.shape[1]-size[0]):, :size[1]], \n",
        "      img[:, :size[0], (img.shape[2]-size[1]):],\n",
        "      img[:, (img.shape[1]-size[0]):, (img.shape[2]-size[1]):], \n",
        "      img[:, (img.shape[1]-size[0])//2:(img.shape[1]+size[0])//2, (img.shape[2]-size[1])//2:(img.shape[2]+size[1])//2])\n",
        "\n",
        "  img = vgg16(torch.stack(list))\n",
        "  img = img.mean(dim=0)\n",
        "  return img"
      ],
      "execution_count": 0,
      "outputs": []
    },
    {
      "cell_type": "code",
      "metadata": {
        "id": "egJIBC5Y2RFt",
        "colab_type": "code",
        "outputId": "3038e443-21e9-4aa3-f8f8-e5e0ab00c9ac",
        "colab": {
          "base_uri": "https://localhost:8080/",
          "height": 50
        }
      },
      "source": [
        "for Dir in trainDir:\n",
        "  features = []\n",
        "  if not os.path.exists(os.path.join(\"./mat_feature/\", Dir+'.mat')):\n",
        "    for f in os.listdir(os.path.join(\"./images/images/\", Dir)):\n",
        "      fname = os.path.join(\"./images/images/\", Dir, f)\n",
        "      img = prep(cv2.imread(fname))\n",
        "      with torch.no_grad():\n",
        "        img = imgResize(img)\n",
        "        features.append(img)\n",
        "    savemat(os.path.join(\"./mat_feature/\", Dir+'.mat'), {'Feature':torch.stack(features).detach().numpy()})\n",
        "print(\"train extract finish\")\n",
        "\n",
        "for Dir in testDir:\n",
        "  features = []\n",
        "  if not os.path.exists(os.path.join(\"./mat_feature_test/\", Dir+'.mat')):\n",
        "    for f in os.listdir(os.path.join(\"./images/images/\", Dir)):\n",
        "      fname = os.path.join(\"./images/images/\", Dir, f)\n",
        "      img = prep(cv2.imread(fname))\n",
        "      with torch.no_grad():\n",
        "        img = imgResize(img)\n",
        "        features.append(img)\n",
        "    savemat(os.path.join(\"./mat_feature_test/\", Dir+'.mat'), {'Feature':torch.stack(features).detach().numpy()})\n",
        "print(\"test extract finish\")"
      ],
      "execution_count": 12,
      "outputs": [
        {
          "output_type": "stream",
          "text": [
            "train extract finish\n",
            "test extract finish\n"
          ],
          "name": "stdout"
        }
      ]
    },
    {
      "cell_type": "markdown",
      "metadata": {
        "colab_type": "text",
        "id": "UN74WLWpl7zQ"
      },
      "source": [
        "***\n",
        "***\n",
        "## **Problem 2.** Modelling"
      ]
    },
    {
      "cell_type": "markdown",
      "metadata": {
        "colab_type": "text",
        "id": "Do5OSV9Mnmwy"
      },
      "source": [
        "* ##### **Print the size of your training and test data**"
      ]
    },
    {
      "cell_type": "code",
      "metadata": {
        "id": "XY7fTFudN5K7",
        "colab_type": "code",
        "colab": {
          "base_uri": "https://localhost:8080/",
          "height": 50
        },
        "outputId": "7a62a9fe-2042-428f-ef7a-ee9b5831401b"
      },
      "source": [
        "train = []\n",
        "test = []\n",
        "\n",
        "for i in range(len(trainDir)):\n",
        "  val = torch.tensor((int)(trainLabel[i])-1)\n",
        "  data = torch.tensor(sp.io.loadmat(os.path.join(\"./mat_feature/\",trainDir[i]+'.mat'))['Feature'])\n",
        "  train.append((data,val))\n",
        "  # if i % 100 == 0:\n",
        "  #   print(\"train \" + str(i) + \" finish\")\n",
        "print(\"Finish load train data\")\n",
        "for i in range(len(testDir)):\n",
        "  val = torch.tensor((int)(testLabel[i])-1)\n",
        "  data = torch.tensor(sp.io.loadmat(os.path.join(\"./mat_feature_test/\",testDir[i]+'.mat'))['Feature'])\n",
        "  test.append((data,val))\n",
        "  # if i % 100 == 0:\n",
        "  #   print(\"test \" + str(i) + \" finish\")\n",
        "print(\"Finish load test data\")"
      ],
      "execution_count": 65,
      "outputs": [
        {
          "output_type": "stream",
          "text": [
            "Finish load train data\n",
            "Finish load test data\n"
          ],
          "name": "stdout"
        }
      ]
    },
    {
      "cell_type": "code",
      "metadata": {
        "colab_type": "code",
        "id": "0EGU31IJn5_h",
        "outputId": "8f17f8d4-ff3e-4bd3-d913-e6d8986def74",
        "colab": {
          "base_uri": "https://localhost:8080/",
          "height": 84
        }
      },
      "source": [
        "# Don't hardcode the shape of train and test data\n",
        "print('Length of training data is :', len(train))\n",
        "print('Shape of each training data is :', train[0][0].shape)\n",
        "print('Length of test/validation data is :', len(test))\n",
        "print('Shape of each test/validation data is :', test[0][0].shape)"
      ],
      "execution_count": 66,
      "outputs": [
        {
          "output_type": "stream",
          "text": [
            "Length of training data is : 2409\n",
            "Shape of each training data is : torch.Size([25, 4096])\n",
            "Length of test/validation data is : 951\n",
            "Shape of each test/validation data is : torch.Size([25, 4096])\n"
          ],
          "name": "stdout"
        }
      ]
    },
    {
      "cell_type": "code",
      "metadata": {
        "id": "kr9Ns2oxKVVo",
        "colab_type": "code",
        "colab": {}
      },
      "source": [
        "class LSTM(nn.Module):\n",
        "  def __init__(self,feature_dim,hidden_size,action_size):\n",
        "    super(LSTM,self).__init__()\n",
        "    self.hidden_size = hidden_size\n",
        "    self.lstm = nn.LSTM(feature_dim,hidden_size)\n",
        "    self.out = nn.Linear(hidden_size,action_size)\n",
        "    self.hidden = self.init_hidden()\n",
        "  \n",
        "  def init_hidden(self):\n",
        "    return (torch.zeros(1,1,self.hidden_size),torch.zeros(1,1,self.hidden_size))\n",
        "  \n",
        "  def forward(self,vedio):\n",
        "    lstm_out, self.hidden = self.lstm(vedio.view(len(vedio),1,-1),self.hidden)\n",
        "    tag_space = self.out(self.hidden[0])\n",
        "    #Try to return tag_scores, but it doesn't work well, accuracy = 4%\n",
        "    #Change log_softmax() into sigmoid() also doesn't work well, accuracy = 4%\n",
        "    # tag_scores = F.log_softmax(tag_space, dim=1)\n",
        "    return tag_space"
      ],
      "execution_count": 0,
      "outputs": []
    },
    {
      "cell_type": "code",
      "metadata": {
        "id": "C5MRl5jfPB2y",
        "colab_type": "code",
        "colab": {}
      },
      "source": [
        "#Changing parameters shows that hidden_size 128 is better than 64, 64 is better than 32\n",
        "#hidden_size = 32, accuracy = 48%\n",
        "#hidden_size = 64, accuracy = 68%\n",
        "#hidden_size = 128, accuracy = 82%\n",
        "model = LSTM(4096,128,25)\n",
        "loss_function = nn.CrossEntropyLoss()\n",
        "\n",
        "#Adam doesn't work well\n",
        "#lr = 0.01 is better than 0.1\n",
        "#lr = 0.1,accuracy = 45%\n",
        "#lr = 0.01,accuracy = 82%\n",
        "optimizer = optim.SGD(model.parameters(),lr=0.01)\n",
        "\n",
        "#Using Adam, accuracy = 4%\n",
        "#optimizer = optim.Adam(model.parameters(), lr=0.01) "
      ],
      "execution_count": 0,
      "outputs": []
    },
    {
      "cell_type": "code",
      "metadata": {
        "id": "icZ1xlfjaVK4",
        "colab_type": "code",
        "colab": {
          "base_uri": "https://localhost:8080/",
          "height": 84
        },
        "outputId": "e518dfab-59f7-4926-a44c-b60aceb225f7"
      },
      "source": [
        "print(model)"
      ],
      "execution_count": 122,
      "outputs": [
        {
          "output_type": "stream",
          "text": [
            "LSTM(\n",
            "  (lstm): LSTM(4096, 128)\n",
            "  (out): Linear(in_features=128, out_features=25, bias=True)\n",
            ")\n"
          ],
          "name": "stdout"
        }
      ]
    },
    {
      "cell_type": "code",
      "metadata": {
        "id": "b64EosmeYWaG",
        "colab_type": "code",
        "colab": {
          "base_uri": "https://localhost:8080/",
          "height": 1000
        },
        "outputId": "559378cd-f06d-44ed-b426-32c63cb55830"
      },
      "source": [
        "#epoch number = 20, accuracy = 40%\n",
        "#epoch number = 40, accuracy = 76%\n",
        "#epoch number = 60, accuracy = 82%\n",
        "\n",
        "for epoch in range(60):\n",
        "  print(\"epoch\"+str(epoch+1))\n",
        "  running_loss = 0.0\n",
        "  for vedio,labels in train:\n",
        "    model.zero_grad()\n",
        "    model.hidden = model.init_hidden()\n",
        "    tag_scores = model(vedio)\n",
        "    loss = loss_function(tag_scores.view(1,25),labels.view(1))\n",
        "    loss.backward()\n",
        "    optimizer.step()\n",
        "    running_loss += loss.item()\n",
        "  print('[%d] loss: %.3f' % (epoch + 1,running_loss / len(train)))\n",
        "  running_loss = 0.0\\"
      ],
      "execution_count": 123,
      "outputs": [
        {
          "output_type": "stream",
          "text": [
            "epoch1\n",
            "[1] loss: 0.454\n",
            "epoch2\n",
            "[2] loss: 0.284\n",
            "epoch3\n",
            "[3] loss: 0.177\n",
            "epoch4\n",
            "[4] loss: 0.145\n",
            "epoch5\n",
            "[5] loss: 0.122\n",
            "epoch6\n",
            "[6] loss: 0.096\n",
            "epoch7\n",
            "[7] loss: 0.084\n",
            "epoch8\n",
            "[8] loss: 0.072\n",
            "epoch9\n",
            "[9] loss: 0.064\n",
            "epoch10\n",
            "[10] loss: 0.055\n",
            "epoch11\n",
            "[11] loss: 0.050\n",
            "epoch12\n",
            "[12] loss: 0.043\n",
            "epoch13\n",
            "[13] loss: 0.042\n",
            "epoch14\n",
            "[14] loss: 0.039\n",
            "epoch15\n",
            "[15] loss: 0.037\n",
            "epoch16\n",
            "[16] loss: 0.031\n",
            "epoch17\n",
            "[17] loss: 0.028\n",
            "epoch18\n",
            "[18] loss: 0.026\n",
            "epoch19\n",
            "[19] loss: 0.023\n",
            "epoch20\n",
            "[20] loss: 0.022\n",
            "epoch21\n",
            "[21] loss: 0.020\n",
            "epoch22\n",
            "[22] loss: 0.019\n",
            "epoch23\n",
            "[23] loss: 0.017\n",
            "epoch24\n",
            "[24] loss: 0.015\n",
            "epoch25\n",
            "[25] loss: 0.014\n",
            "epoch26\n",
            "[26] loss: 0.012\n",
            "epoch27\n",
            "[27] loss: 0.011\n",
            "epoch28\n",
            "[28] loss: 0.010\n",
            "epoch29\n",
            "[29] loss: 0.009\n",
            "epoch30\n",
            "[30] loss: 0.008\n",
            "epoch31\n",
            "[31] loss: 0.007\n",
            "epoch32\n",
            "[32] loss: 0.006\n",
            "epoch33\n",
            "[33] loss: 0.006\n",
            "epoch34\n",
            "[34] loss: 0.005\n",
            "epoch35\n",
            "[35] loss: 0.006\n",
            "epoch36\n",
            "[36] loss: 0.005\n",
            "epoch37\n",
            "[37] loss: 0.005\n",
            "epoch38\n",
            "[38] loss: 0.004\n",
            "epoch39\n",
            "[39] loss: 0.004\n",
            "epoch40\n",
            "[40] loss: 0.004\n",
            "epoch41\n",
            "[41] loss: 0.003\n",
            "epoch42\n",
            "[42] loss: 0.003\n",
            "epoch43\n",
            "[43] loss: 0.004\n",
            "epoch44\n",
            "[44] loss: 0.003\n",
            "epoch45\n",
            "[45] loss: 0.003\n",
            "epoch46\n",
            "[46] loss: 0.002\n",
            "epoch47\n",
            "[47] loss: 0.002\n",
            "epoch48\n",
            "[48] loss: 0.002\n",
            "epoch49\n",
            "[49] loss: 0.002\n",
            "epoch50\n",
            "[50] loss: 0.002\n",
            "epoch51\n",
            "[51] loss: 0.002\n",
            "epoch52\n",
            "[52] loss: 0.002\n",
            "epoch53\n",
            "[53] loss: 0.002\n",
            "epoch54\n",
            "[54] loss: 0.002\n",
            "epoch55\n",
            "[55] loss: 0.002\n",
            "epoch56\n",
            "[56] loss: 0.001\n",
            "epoch57\n",
            "[57] loss: 0.001\n",
            "epoch58\n",
            "[58] loss: 0.001\n",
            "epoch59\n",
            "[59] loss: 0.001\n",
            "epoch60\n",
            "[60] loss: 0.001\n"
          ],
          "name": "stdout"
        }
      ]
    },
    {
      "cell_type": "markdown",
      "metadata": {
        "colab_type": "text",
        "id": "v0znm2TMmsDZ"
      },
      "source": [
        "---\n",
        "---\n",
        "## **Problem 3.** Evaluation"
      ]
    },
    {
      "cell_type": "markdown",
      "metadata": {
        "colab_type": "text",
        "id": "80ZUeqnGv48f"
      },
      "source": [
        "* ##### **Print the train and test accuracy of your model** "
      ]
    },
    {
      "cell_type": "code",
      "metadata": {
        "colab_type": "code",
        "id": "ARtMhcbXmsXk",
        "colab": {
          "base_uri": "https://localhost:8080/",
          "height": 67
        },
        "outputId": "3cc57fdf-48a4-40ed-e880-212b7ea9932b"
      },
      "source": [
        "# \\*write your codes for evaluation (You can use multiple cells, this is just a place holder)\n",
        "# Don't hardcode the train and test accuracy\n",
        "from time import time\n",
        "time1 = time()\n",
        "\n",
        "correct = 0\n",
        "total = 0\n",
        "with torch.no_grad():\n",
        "  for video,label in train:\n",
        "    output = model(video)\n",
        "    predicted = np.argmax(output.numpy())\n",
        "    total += 1\n",
        "    correct += (predicted == label).sum().item()\n",
        "print('LSTM network training accuracy is %2.3f :' %(100 * correct / total)+'%' )\n",
        "\n",
        "correct = 0\n",
        "total = 0\n",
        "with torch.no_grad():\n",
        "  for video,label in test:\n",
        "    output = model(video)\n",
        "    predicted = np.argmax(output.numpy())\n",
        "    total += 1\n",
        "    correct += (predicted == label).sum().item()\n",
        "print('LSTM network test accuracy is %2.3f :' %(100 * correct / total)+'%' )\n",
        "time2 = time()\n",
        "print(\"total \"+str(time2-time1) + \"seconds\")"
      ],
      "execution_count": 133,
      "outputs": [
        {
          "output_type": "stream",
          "text": [
            "LSTM network training accuracy is 99.958 :%\n",
            "LSTM network test accuracy is 82.229 :%\n",
            "total 9.868932962417603seconds\n"
          ],
          "name": "stdout"
        }
      ]
    },
    {
      "cell_type": "markdown",
      "metadata": {
        "colab_type": "text",
        "id": "eesNQn6FYKQz"
      },
      "source": [
        "* ##### **Print the train and test and test accuracy of SVM** "
      ]
    },
    {
      "cell_type": "code",
      "metadata": {
        "colab_type": "code",
        "id": "ip87hPqTYJtr",
        "outputId": "8606cde0-8e9c-4bab-b423-6ab83117e8fd",
        "colab": {
          "base_uri": "https://localhost:8080/",
          "height": 84
        }
      },
      "source": [
        "# Don't hardcode the train and test accuracy\n",
        "from sklearn.svm import LinearSVC\n",
        "svc_train = []\n",
        "for data,label in train:\n",
        "  svc_train.append(data.view(1,-1))\n",
        "\n",
        "svc_train = torch.cat(svc_train).numpy()\n",
        "svc_model = LinearSVC(C=3)\n",
        "svc_model.fit(svc_train,trainLabel)"
      ],
      "execution_count": 143,
      "outputs": [
        {
          "output_type": "execute_result",
          "data": {
            "text/plain": [
              "LinearSVC(C=3, class_weight=None, dual=True, fit_intercept=True,\n",
              "          intercept_scaling=1, loss='squared_hinge', max_iter=1000,\n",
              "          multi_class='ovr', penalty='l2', random_state=None, tol=0.0001,\n",
              "          verbose=0)"
            ]
          },
          "metadata": {
            "tags": []
          },
          "execution_count": 143
        }
      ]
    },
    {
      "cell_type": "code",
      "metadata": {
        "id": "UafT32zIglt6",
        "colab_type": "code",
        "colab": {
          "base_uri": "https://localhost:8080/",
          "height": 50
        },
        "outputId": "c10ad442-70e2-438a-e295-8f0eec3a5e5a"
      },
      "source": [
        "svc_test = []\n",
        "for data,label in test:\n",
        "  svc_test.append(data.view(1,-1))\n",
        "svc_test = torch.cat(svc_test).numpy()\n",
        "\n",
        "svctrain_result = svc_model.predict(svc_train)\n",
        "train_accuracy = sum(svctrain_result == trainLabel)/len(svc_train)\n",
        "svctest_result = svc_model.predict(svc_test)\n",
        "test_accuracy = sum(svctest_result == testLabel)/len(svc_test)\n",
        "print('SVM training accuracy is %2.3f ' %(100.00*train_accuracy)+'%')\n",
        "print('SVM test accuracy is %2.3f ' %(100.00*test_accuracy)+'%')"
      ],
      "execution_count": 145,
      "outputs": [
        {
          "output_type": "stream",
          "text": [
            "SVM training accuracy is 100.000 %\n",
            "SVM test accuracy is 83.701 %\n"
          ],
          "name": "stdout"
        }
      ]
    },
    {
      "cell_type": "markdown",
      "metadata": {
        "colab_type": "text",
        "id": "cL4Y3nHBkwmb"
      },
      "source": [
        "## **Problem 4.** Report\n",
        "\n",
        "In this homework, I learn to use LSTM to classify videos. The final accuracy of my LSTM network is 82%, the final accuracy of my SVM is 83%.\n",
        "\n",
        "First, we can divide each video into 25 images to represent the video. In order to use VGG16 to represent the images, we need to resize each image from 256\\*340 to 224\\*224. Consider the main content is in the center of videos, we can crop 4 corner images and 1 center image from the raw image. Then we get the mean of these five 224\\*224 images to get a 224\\*224 image. We use 4096*25 matrix to represent a video.\n",
        "\n",
        "Due to it takes a long time to extract all the videos, I save these data as '.mat' files into the google colab. This part is very important. It takes me a whole day to extract and save data. I think this is a little bit unreasonable since there are too much data we need to handle. If we do not extract correct data, it will be hard to train and it also will take more time to extract data again. I use same external codes from Internet to extract and save mat files and read these mat files in order to make sure I do these jobs correctly in one time.\n",
        "\n",
        "Then I define my LSTM network sturcture. It has three parameters which are feature_dim,hidden_size and action_size. Feature_dim means the dim of feature. In this problem, dim is 4096. Action_size means the types of actions. In this problem, the number of types is 25. Hidden_size means the rnn hidden unit. I have tried 32,64 and 128. When hidden_size = 32, the accuracy of test set is about 48%. When hidden_size=64, the accuracy is 68%. When hidden_size=128, the accuracy is 82%. According to this, when hidden_size increases, the accuracy also increase. After the LSTM, I use a Linear network to output which the video belongs to.\n",
        "\n",
        "The structure of LSTM is shown below.\n",
        "\n",
        "LSTM(\n",
        "\n",
        "  (lstm): LSTM(4096, 128)\n",
        "\n",
        "  (out): Linear(in_features=128, out_features=25, bias=True)\n",
        "\n",
        ")\n",
        "\n",
        "I used to return the tag_score in the forward function like official document. I tried to use the log_softmax() and sigmoid() function. However, the loss doesn't change and just gets about 4% accuracy when testing. So I return tag_space when doing forward function. In this way, the loss successfully decrease.\n",
        "\n",
        "When choosing the optimizer, I have tried the SGD optimizer and Adam optimizer.\n",
        "Unlike the former homework in which Adam optimizer perform better, in this homework, Adam optimizer can not optimize the parameters and the accuracy about Adam optimizer is about 4%. So I use SGD optimizer. I also tried to change the lr of SGD optimizer. When lr = 0.1, the accuracy is 45%. And when lr=0.01, the accuracy is 82%.\n",
        "\n",
        "After defining the network, I start to train the LSTM network. There is a trick that, we need to let the number of label minus 1 when extracting the data. Otherwise it will cause bug when training because the network output is from 0-24 and the label in the txt file is 1-25. Set epoch = 20 can get 40% accuracy. Set epoch = 40 can get 76% accuracy which is above the baseline of the requirement. Set epoch = 60 can get 82% accuracy. In addition, the training time is not too long.\n",
        "\n",
        "Finally, I transfer the data into a long vector to train a SVM. Change C parameter doesn't change the result too much. When C =1 and C=3, the accuracy are both 83%.\n"
      ]
    },
    {
      "cell_type": "markdown",
      "metadata": {
        "id": "JbzpDeRRNuHj",
        "colab_type": "text"
      },
      "source": [
        "## **Bonus**\n"
      ]
    },
    {
      "cell_type": "markdown",
      "metadata": {
        "colab_type": "text",
        "id": "jPrhLzuyN-rr"
      },
      "source": [
        "* ##### **Print the size of your training and test data**"
      ]
    },
    {
      "cell_type": "code",
      "metadata": {
        "id": "b8IR6zrwOENz",
        "colab_type": "code",
        "colab": {}
      },
      "source": [
        "# Don't hardcode the shape of train and test data\n",
        "print('Shape of training data is :', )\n",
        "print('Shape of test/validation data is :', )"
      ],
      "execution_count": 0,
      "outputs": []
    },
    {
      "cell_type": "markdown",
      "metadata": {
        "colab_type": "text",
        "id": "GAakVg8-OE_j"
      },
      "source": [
        "* ##### **Modelling and evaluation**"
      ]
    },
    {
      "cell_type": "code",
      "metadata": {
        "id": "QHbPzkcoObLb",
        "colab_type": "code",
        "colab": {}
      },
      "source": [
        "#Write your code for modelling and evaluation"
      ],
      "execution_count": 0,
      "outputs": []
    },
    {
      "cell_type": "markdown",
      "metadata": {
        "colab_type": "text",
        "id": "vb4Wlzw2jYcJ"
      },
      "source": [
        "## Submission\n",
        "---\n",
        "**Runnable source code in ipynb file and a pdf report are required**.\n",
        "\n",
        "The report should be of 3 to 4 pages describing what you have done and learned in this homework and report performance of your model. If you have tried multiple methods, please compare your results. If you are using any external code, please cite it in your report. Note that this homework is designed to help you explore and get familiar with the techniques. The final grading will be largely based on your prediction accuracy and the different methods you tried (different architectures and parameters).\n",
        "\n",
        "Please indicate clearly in your report what model you have tried, what techniques you applied to improve the performance and report their accuracies. The report should be concise and include the highlights of your efforts.\n",
        "The naming convention for report is **Surname_Givenname_SBUID_report*.pdf**\n",
        "\n",
        "When submitting your .zip file through blackboard, please\n",
        "-- name your .zip file as **Surname_Givenname_SBUID_hw*.zip**.\n",
        "\n",
        "This zip file should include:\n",
        "```\n",
        "Surname_Givenname_SBUID_hw*\n",
        "        |---Surname_Givenname_SBUID_hw*.ipynb\n",
        "        |---Surname_Givenname_SBUID_hw*.pdf\n",
        "        |---Surname_Givenname_SBUID_report*.pdf\n",
        "```\n",
        "\n",
        "For instance, student Michael Jordan should submit a zip file named \"Jordan_Michael_111134567_hw5.zip\" for homework5 in this structure:\n",
        "```\n",
        "Jordan_Michael_111134567_hw5\n",
        "        |---Jordan_Michael_111134567_hw5.ipynb\n",
        "        |---Jordan_Michael_111134567_hw5.pdf\n",
        "        |---Jordan_Michael_111134567_report*.pdf\n",
        "```\n",
        "\n",
        "The **Surname_Givenname_SBUID_hw*.pdf** should include a **google shared link**. To generate the **google shared link**, first create a folder named **Surname_Givenname_SBUID_hw*** in your Google Drive with your Stony Brook account. \n",
        "\n",
        "Then right click this folder, click ***Get shareable link***, in the People textfield, enter two TA's emails: ***bo.cao.1@stonybrook.edu*** and ***sayontan.ghosh@stonybrook.edu***. Make sure that TAs who have the link **can edit**, ***not just*** **can view**, and also **uncheck** the **Notify people** box.\n",
        "\n",
        "Colab has a good feature of version control, you should take advantage of this to save your work properly. However, the timestamp of the submission made in blackboard is the only one that we consider for grading. To be more specific, we will only grade the version of your code right before the timestamp of the submission made in blackboard. \n",
        "\n",
        "You are encouraged to post and answer questions on Piazza. Based on the amount of email that we have received in past years, there might be dealys in replying to personal emails. Please ask questions on Piazza and send emails only for personal issues.\n",
        "\n",
        "Be aware that your code will undergo plagiarism check both vertically and horizontally. Please do your own work."
      ]
    }
  ]
}